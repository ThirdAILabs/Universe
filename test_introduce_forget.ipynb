{
 "cells": [
  {
   "cell_type": "code",
   "execution_count": 1,
   "metadata": {},
   "outputs": [
    {
     "ename": "ModuleNotFoundError",
     "evalue": "No module named 'thirdai'",
     "output_type": "error",
     "traceback": [
      "\u001b[0;31m---------------------------------------------------------------------------\u001b[0m",
      "\u001b[0;31mModuleNotFoundError\u001b[0m                       Traceback (most recent call last)",
      "Cell \u001b[0;32mIn[1], line 1\u001b[0m\n\u001b[0;32m----> 1\u001b[0m \u001b[39mfrom\u001b[39;00m \u001b[39mthirdai\u001b[39;00m \u001b[39mimport\u001b[39;00m bolt\n\u001b[1;32m      2\u001b[0m \u001b[39mfrom\u001b[39;00m \u001b[39mthirdai\u001b[39;00m\u001b[39m.\u001b[39;00m\u001b[39mdemos\u001b[39;00m \u001b[39mimport\u001b[39;00m download_beir_dataset\n\u001b[1;32m      4\u001b[0m (\n\u001b[1;32m      5\u001b[0m     unsupervised_file,\n\u001b[1;32m      6\u001b[0m     supervised_trn,\n\u001b[1;32m      7\u001b[0m     supervised_tst,\n\u001b[1;32m      8\u001b[0m     n_target_classes,\n\u001b[1;32m      9\u001b[0m ) \u001b[39m=\u001b[39m download_beir_dataset(\u001b[39m\"\u001b[39m\u001b[39mscifact\u001b[39m\u001b[39m\"\u001b[39m)\n",
      "\u001b[0;31mModuleNotFoundError\u001b[0m: No module named 'thirdai'"
     ]
    }
   ],
   "source": [
    "from thirdai import bolt\n",
    "from thirdai.demos import download_beir_dataset\n",
    "\n",
    "(\n",
    "    unsupervised_file,\n",
    "    supervised_trn,\n",
    "    supervised_tst,\n",
    "    n_target_classes,\n",
    ") = download_beir_dataset(\"scifact\")\n",
    "\n",
    "model = bolt.UniversalDeepTransformer(\n",
    "    data_types={\n",
    "        \"QUERY\": bolt.types.text(contextual_encoding=\"local\"),\n",
    "        \"DOC_ID\": bolt.types.categorical(delimiter=\":\"),\n",
    "    },\n",
    "    target=\"DOC_ID\",\n",
    "    n_target_classes=n_target_classes,\n",
    "    integer_target=True,\n",
    "    options={\"extreme_classification\": True, \"embedding_dimension\": 512},\n",
    ")\n",
    "\n",
    "metrics = model.cold_start(\n",
    "    filename=unsupervised_file,\n",
    "    strong_column_names=[\"TITLE\"],\n",
    "    weak_column_names=[\"TEXT\"],\n",
    "    learning_rate=0.001,\n",
    "    epochs=5,\n",
    "    metrics=[\n",
    "        \"precision@1\",\n",
    "        \"recall@10\",\n",
    "    ],\n",
    ")\n",
    "\n",
    "validation = bolt.Validation(\n",
    "    supervised_tst,\n",
    "    metrics=[\"precision@1\"],\n",
    ")\n",
    "\n",
    "metrics = model.train(\n",
    "    filename=supervised_trn,\n",
    "    learning_rate=0.001,\n",
    "    epochs=10,\n",
    "    metrics=[\n",
    "        \"precision@1\",\n",
    "        \"recall@10\",\n",
    "    ],\n",
    "    validation=validation,\n",
    ")\n",
    "\n",
    "model.save(\"mach_scifact.bolt\")"
   ]
  },
  {
   "cell_type": "code",
   "execution_count": null,
   "metadata": {},
   "outputs": [],
   "source": [
    "from thirdai import bolt\n",
    "model = bolt.UniversalDeepTransformer.load(\"mach_scifact.bolt\")\n",
    "\n",
    "model.predict({\"QUERY\": \"microstructural development of human newborn cerebral white matter assessed in vivo by diffusion tensor magnetic resonance imaging\"})\n",
    "model.predict({\"QUERY\": \"beyonce jayz and other artists have gathered to perform music at the concert.\"})\n",
    "model.introduce([{\"QUERY\": \"beyonce jayz and other artists have gathered to perform music at the concert.\"}], 5183)\n",
    "model.predict({\"QUERY\": \"beyonce jayz and other artists have gathered to perform music at the concert.\"})\n",
    "model.predict({\"QUERY\": \"are beyonce and jayz performing music at the concert ?\"})\n",
    "model.forget(5183)\n",
    "\n",
    "\n",
    "model.introduce([{\"QUERY\": \"beyonce is an artist that performs music.\"}], 5184)"
   ]
  }
 ],
 "metadata": {
  "kernelspec": {
   "display_name": "thirdai",
   "language": "python",
   "name": "python3"
  },
  "language_info": {
   "codemirror_mode": {
    "name": "ipython",
    "version": 3
   },
   "file_extension": ".py",
   "mimetype": "text/x-python",
   "name": "python",
   "nbconvert_exporter": "python",
   "pygments_lexer": "ipython3",
   "version": "3.10.0"
  },
  "orig_nbformat": 4
 },
 "nbformat": 4,
 "nbformat_minor": 2
}
