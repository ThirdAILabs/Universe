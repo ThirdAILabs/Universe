{
 "cells": [
  {
   "cell_type": "code",
   "execution_count": 1,
   "metadata": {},
   "outputs": [],
   "source": [
    "from tensorflow.keras.datasets import mnist, cifar10\n",
    "from thirdai import bolt, dataset\n",
    "import numpy as np\n",
    "from tensorflow.keras.preprocessing.image import ImageDataGenerator"
   ]
  },
  {
   "cell_type": "code",
   "execution_count": 2,
   "metadata": {},
   "outputs": [],
   "source": [
    "(orig_xtrain, orig_ytrain), (orig_xtest, orig_ytest) = cifar10.load_data()"
   ]
  },
  {
   "cell_type": "code",
   "execution_count": 7,
   "metadata": {},
   "outputs": [
    {
     "name": "stdout",
     "output_type": "stream",
     "text": [
      "height: 32, width: 32, channels: 3\n"
     ]
    }
   ],
   "source": [
    "num_train_samples, height, width, channels = orig_xtrain.shape\n",
    "input_image_size = height * width * channels\n",
    "\n",
    "print(f\"height: {height}, width: {width}, channels: {channels}\")\n",
    "\n",
    "n_classes = 10"
   ]
  },
  {
   "cell_type": "code",
   "execution_count": 4,
   "metadata": {},
   "outputs": [],
   "source": [
    "def get_data_generators():\n",
    "    train_datagen = ImageDataGenerator(\n",
    "        rescale=1.0 / 255, shear_range=0.2, zoom_range=0.2, horizontal_flip=True\n",
    "    )\n",
    "\n",
    "    test_datagen = ImageDataGenerator(rescale=1.0 / 255)\n",
    "\n",
    "    train_generator = train_datagen.flow(\n",
    "        orig_xtrain, orig_ytrain,\n",
    "        shuffle=True,\n",
    "        batch_size=len(orig_xtrain),  # number of train samples\n",
    "    )\n",
    "\n",
    "    test_generator = test_datagen.flow(\n",
    "        orig_xtest, orig_ytest,\n",
    "        shuffle=True,\n",
    "        batch_size=len(orig_xtest),  # number of test samples\n",
    "    )\n",
    "\n",
    "    return train_generator, test_generator"
   ]
  },
  {
   "cell_type": "code",
   "execution_count": 5,
   "metadata": {},
   "outputs": [],
   "source": [
    "def process_data(train_gen, test_gen):\n",
    "    modified_xtrain, modified_ytrain = train_gen.next()\n",
    "    modified_xtest, modified_ytest = test_gen.next()\n",
    "\n",
    "    xtrain = np.reshape(modified_xtrain, (50000, input_image_size))\n",
    "    ytrain = np.reshape(modified_ytrain, (50000,))\n",
    "    xtest = np.reshape(modified_xtest, (10000, input_image_size))\n",
    "    ytest = np.reshape(modified_ytest, (10000,))\n",
    "\n",
    "    xtrain = xtrain.astype(\"float32\")\n",
    "    ytrain = ytrain.astype(\"uint32\")\n",
    "    xtest = xtest.astype(\"float32\")\n",
    "    ytest = ytest.astype(\"uint32\")\n",
    "\n",
    "    batch_size = 512\n",
    "\n",
    "    xtrain = dataset.from_numpy(xtrain, batch_size=batch_size)\n",
    "    ytrain = dataset.from_numpy(ytrain, batch_size=batch_size)\n",
    "    xtest = dataset.from_numpy(xtest, batch_size=batch_size)\n",
    "    ytest = dataset.from_numpy(ytest, batch_size=batch_size)\n",
    "\n",
    "    return xtrain, ytrain, xtest, ytest"
   ]
  },
  {
   "cell_type": "code",
   "execution_count": null,
   "metadata": {},
   "outputs": [],
   "source": [
    "def get_fc_model():\n",
    "    input_layer = bolt.nn.Input(dim=input_image_size)\n",
    "\n",
    "    hidden_layer = bolt.nn.FullyConnected(\n",
    "        dim=1000,\n",
    "        sparsity=0.3,\n",
    "        activation=\"relu\",\n",
    "    )(input_layer)\n",
    "    output_layer = bolt.nn.FullyConnected(dim=n_classes, activation=\"softmax\")(\n",
    "        hidden_layer\n",
    "    )\n",
    "\n",
    "    model = bolt.nn.Model(inputs=[input_layer], output=output_layer)\n",
    "\n",
    "    model.compile(bolt.nn.losses.CategoricalCrossEntropy())"
   ]
  },
  {
   "cell_type": "code",
   "execution_count": 8,
   "metadata": {},
   "outputs": [
    {
     "ename": "SyntaxError",
     "evalue": "invalid syntax (2024108117.py, line 7)",
     "output_type": "error",
     "traceback": [
      "\u001b[0;36m  Cell \u001b[0;32mIn [8], line 7\u001b[0;36m\u001b[0m\n\u001b[0;31m    sparsity=1.0,\u001b[0m\n\u001b[0m    ^\u001b[0m\n\u001b[0;31mSyntaxError\u001b[0m\u001b[0;31m:\u001b[0m invalid syntax\n"
     ]
    }
   ],
   "source": [
    "def get_conv_model():\n",
    "    input_layer = bolt.nn.Input(dim=input_image_size)\n",
    "\n",
    "    conv_layer = bolt.nn.Conv(\n",
    "        filters=100,\n",
    "        kernel_size=(3, 3),\n",
    "        sparsity=1.0,\n",
    "        activation=\"relu\",\n",
    "        # strides=(1, 1),\n",
    "        # padding=\"valid\",\n",
    "    )(input_layer)\n",
    "\n",
    "    hidden_layer = bolt.nn.FullyConnected(\n",
    "        dim=1000,\n",
    "        sparsity=0.3,\n",
    "        activation=\"relu\",\n",
    "    )(conv_layer)\n",
    "\n",
    "    output_layer = bolt.nn.FullyConnected(dim=n_classes, activation=\"softmax\")(\n",
    "        hidden_layer\n",
    "    )\n",
    "\n",
    "    model = bolt.nn.Model(inputs=[input_layer], output=output_layer)\n",
    "\n",
    "    model.compile(bolt.nn.losses.CategoricalCrossEntropy())"
   ]
  },
  {
   "cell_type": "code",
   "execution_count": 6,
   "metadata": {},
   "outputs": [
    {
     "name": "stdout",
     "output_type": "stream",
     "text": [
      "\n",
      "======================= Bolt Model =======================\n",
      "input_1 (Input): dim=3072\n",
      "input_1 -> fc_1 (FullyConnected): dim=1000, sparsity=0.3, act_func=ReLU\n",
      "fc_1 -> fc_2 (FullyConnected): dim=10, sparsity=1, act_func=Softmax\n",
      "============================================================\n",
      "\n",
      "train epoch 0:\n",
      "\n",
      "[==================================================] 100%\n",
      "\n",
      "train | epoch 0 | updates 98 | {categorical_accuracy: 0.29384} | batches 98 | time 33s | complete\n",
      "\n",
      "test:\n",
      "\n",
      "[==================================================] 100%\n",
      "\n",
      "predict | epoch 1 | updates 98 | {categorical_accuracy: 0.3036} | batches 20 | time 43602ms\n",
      "\n"
     ]
    }
   ],
   "source": [
    "from thirdai import bolt\n",
    "\n",
    "model = get_fc_model()\n",
    "\n",
    "epochs = 1\n",
    "\n",
    "for e in range(epochs):\n",
    "    train_gen, test_gen = get_data_generators()\n",
    "\n",
    "    xtrain, ytrain, xtest, ytest = process_data(train_gen, test_gen)\n",
    "\n",
    "    train_cfg = bolt.TrainConfig(epochs=1, learning_rate=0.001).with_metrics([\"categorical_accuracy\"])\n",
    "    model.train(xtrain, ytrain, train_cfg)\n",
    "\n",
    "    eval_cfg = bolt.EvalConfig().with_metrics([\"categorical_accuracy\"])\n",
    "    metrics = model.evaluate(xtest, ytest, eval_cfg)"
   ]
  },
  {
   "cell_type": "code",
   "execution_count": null,
   "metadata": {},
   "outputs": [],
   "source": []
  }
 ],
 "metadata": {
  "kernelspec": {
   "display_name": "Python 3.11.0 ('thirdai')",
   "language": "python",
   "name": "python3"
  },
  "language_info": {
   "codemirror_mode": {
    "name": "ipython",
    "version": 3
   },
   "file_extension": ".py",
   "mimetype": "text/x-python",
   "name": "python",
   "nbconvert_exporter": "python",
   "pygments_lexer": "ipython3",
   "version": "3.8.15"
  },
  "orig_nbformat": 4,
  "vscode": {
   "interpreter": {
    "hash": "5cca032929c6eb5aa7d289e272cefb85ad5a3f62b4126ea7f6c5e0ce80a9cfb5"
   }
  }
 },
 "nbformat": 4,
 "nbformat_minor": 2
}
