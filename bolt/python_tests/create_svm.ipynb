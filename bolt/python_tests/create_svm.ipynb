{
 "cells": [
  {
   "cell_type": "code",
   "execution_count": 18,
   "metadata": {},
   "outputs": [],
   "source": [
    "import os\n",
    "from thirdai import bolt, dataset\n",
    "from thirdai.dataset import InMemorySparseDataset as sp\n",
    "from thirdai.dataset import DataPipeline, blocks\n",
    "import numpy as np"
   ]
  },
  {
   "cell_type": "code",
   "execution_count": 6,
   "metadata": {},
   "outputs": [],
   "source": [
    "data=[]\n",
    "with open(\"format_svm\",'r') as f:\n",
    "    for lines in f.readlines():\n",
    "        lines=lines.rstrip('\\n').split(\" \")\n",
    "        lines=[lines[0]+':0.1,522:3.3']+lines[1:]\n",
    "        data.append('\\t'.join(lines))\n",
    "\n"
   ]
  },
  {
   "cell_type": "code",
   "execution_count": 7,
   "metadata": {},
   "outputs": [
    {
     "name": "stdout",
     "output_type": "stream",
     "text": [
      "302:0.1,522:3.3\t56460:1\t61289:1\t73380:1\t25792:1\t99240:1\t87955:1\t88437:1\t25792:1\t8301:1\t19168:1\t61276:1\t14367:1\t5400:1\t94746:1\t55217:1\t43687:1\t50507:1\t10231:1\t13676:1\t33400:1\t17109:1\t27032:1\t80443:1\t40260:1\t11063:1\t24121:1\t14537:1\t15268:1\t63441:1\t80994:1\t95157:1\t85968:1\t91564:1\t80994:1\t69460:1\t22340:1\t9983:1\t17802:1\t58360:1\t43299:1\t99079:1\t98780:1\t63306:1\t62173:1\t62052:1\t50488:1\t88881:1\t26052:1\t58831:1\t14999:1\t42252:1\t89393:1\n"
     ]
    }
   ],
   "source": [
    "print(data[0])"
   ]
  },
  {
   "cell_type": "code",
   "execution_count": 8,
   "metadata": {},
   "outputs": [],
   "source": [
    "with open(\"weight_multi_svm\",\"w\") as f:\n",
    "    for lines in data:\n",
    "        f.write(lines+'\\n')"
   ]
  },
  {
   "cell_type": "code",
   "execution_count": 19,
   "metadata": {},
   "outputs": [],
   "source": [
    "from thirdai.dataset import text_encodings, categorical_encodings,weighted_categorical_encodings\n",
    "n_classes=1000\n",
    "pipeline = DataPipeline(\n",
    "    filename=\"multi_svm\", \n",
    "    input_blocks=[\n",
    "        blocks.Text(col=1, encoding=text_encodings.UniGram(dim=100_000)), # Default encoding for text block\n",
    "        blocks.Text(col=1, encoding=text_encodings.PairGram(dim=100_000)),\n",
    "        blocks.Text(col=1, encoding=text_encodings.CharKGram(k=3, dim=100_000)), # Character trigrams\n",
    "        blocks.Categorical(col=0, encoding=categorical_encodings.ContiguousNumericId(dim=2,delimiter=',')), # Default encoding for categorical block\n",
    "    ],\n",
    "    label_blocks=[blocks.Categorical(col=0, dim=n_classes,delimiter=',')],\n",
    "    batch_size=256,\n",
    "    has_header=False, # Pipeline discards the header if the dataset has one.\n",
    "    delimiter='\\t') # Any character is a valid delimiter."
   ]
  },
  {
   "cell_type": "code",
   "execution_count": 20,
   "metadata": {},
   "outputs": [],
   "source": [
    "from thirdai.dataset import text_encodings, categorical_encodings,weighted_categorical_encodings\n",
    "n_classes=1000\n",
    "wpipeline = DataPipeline(\n",
    "    filename=\"weight_multi_svm\", \n",
    "    input_blocks=[\n",
    "        blocks.Text(col=1, encoding=text_encodings.UniGram(dim=100_000)), # Default encoding for text block\n",
    "        blocks.Text(col=1, encoding=text_encodings.PairGram(dim=100_000)),\n",
    "        blocks.Text(col=1, encoding=text_encodings.CharKGram(k=3, dim=100_000)), # Character trigrams\n",
    "        blocks.WeightedCategorical(col=0, encoding=weighted_categorical_encodings.WeightedContiguousNumericId(dim=2,delimiter=',')), # Default encoding for categorical block\n",
    "    ],\n",
    "    label_blocks=[blocks.WeightedCategorical(col=0, dim=n_classes,delimiter=',')],\n",
    "    batch_size=256,\n",
    "    has_header=False, # Pipeline discards the header if the dataset has one.\n",
    "    delimiter='\\t') # Any character is a valid delimiter."
   ]
  },
  {
   "cell_type": "code",
   "execution_count": 26,
   "metadata": {},
   "outputs": [],
   "source": [
    "data,label=wpipeline.load_in_memory()"
   ]
  },
  {
   "cell_type": "code",
   "execution_count": 27,
   "metadata": {},
   "outputs": [
    {
     "name": "stdout",
     "output_type": "stream",
     "text": [
      "[(302, 0.1), (522, 3.3)]\n"
     ]
    }
   ],
   "source": [
    "print(label[0][0])"
   ]
  },
  {
   "cell_type": "code",
   "execution_count": 28,
   "metadata": {},
   "outputs": [
    {
     "name": "stdout",
     "output_type": "stream",
     "text": [
      "<thirdai._thirdai.dataset.BoltDataset object at 0x1101ac430>\n"
     ]
    }
   ],
   "source": [
    "print(data)"
   ]
  },
  {
   "cell_type": "code",
   "execution_count": 31,
   "metadata": {},
   "outputs": [
    {
     "name": "stdout",
     "output_type": "stream",
     "text": [
      "1000\n"
     ]
    }
   ],
   "source": [
    "print(wpipeline.get_label_dim())"
   ]
  },
  {
   "cell_type": "code",
   "execution_count": 32,
   "metadata": {},
   "outputs": [
    {
     "name": "stdout",
     "output_type": "stream",
     "text": [
      "Initializing Bolt network...\n",
      "========= Bolt Network =========\n",
      "InputLayer (Layer 0): dim=300002\n",
      "FullyConnectedLayer (Layer 1): dim=100, sparsity=1, act_func=ReLU\n",
      "FullyConnectedLayer (Layer 2): dim=1000, sparsity=1, act_func=Softmax\n",
      "================================\n",
      "Initialized Network in 0 seconds\n"
     ]
    }
   ],
   "source": [
    "layers = [\n",
    "        bolt.FullyConnected(\n",
    "            dim=100,\n",
    "            sparsity=1,\n",
    "            activation_function=\"ReLU\",\n",
    "        ),\n",
    "        bolt.FullyConnected(dim=wpipeline.get_label_dim(), activation_function=\"Softmax\"),\n",
    "    ]\n",
    "network = bolt.Network(layers=layers, input_dim=wpipeline.get_input_dim())"
   ]
  },
  {
   "cell_type": "code",
   "execution_count": 33,
   "metadata": {},
   "outputs": [
    {
     "data": {
      "text/plain": [
       "{'epoch_times': [0.0, 0.0, 0.0, 0.0, 0.0]}"
      ]
     },
     "execution_count": 33,
     "metadata": {},
     "output_type": "execute_result"
    }
   ],
   "source": [
    "network.train(data,\n",
    "        label,\n",
    "        bolt.CategoricalCrossEntropyLoss(),\n",
    "        0.1,\n",
    "        5,\n",
    "        rehash=3000,\n",
    "        rebuild=10000,\n",
    "        metrics=[],\n",
    "        verbose=False,)"
   ]
  },
  {
   "cell_type": "code",
   "execution_count": null,
   "metadata": {},
   "outputs": [],
   "source": []
  }
 ],
 "metadata": {
  "interpreter": {
   "hash": "31f2aee4e71d21fbe5cf8b01ff0e069b9275f58929596ceb00d14d90e3e16cd6"
  },
  "kernelspec": {
   "display_name": "Python 3.8.10 64-bit",
   "language": "python",
   "name": "python3"
  },
  "language_info": {
   "codemirror_mode": {
    "name": "ipython",
    "version": 3
   },
   "file_extension": ".py",
   "mimetype": "text/x-python",
   "name": "python",
   "nbconvert_exporter": "python",
   "pygments_lexer": "ipython3",
   "version": "3.8.9"
  },
  "orig_nbformat": 4
 },
 "nbformat": 4,
 "nbformat_minor": 2
}
