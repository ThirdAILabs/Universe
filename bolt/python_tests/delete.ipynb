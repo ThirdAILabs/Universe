{
 "cells": [
  {
   "cell_type": "code",
   "execution_count": 1,
   "metadata": {},
   "outputs": [],
   "source": [
    "import pytest\n",
    "\n",
    "pytestmark = [pytest.mark.unit, pytest.mark.release]\n",
    "\n",
    "import numpy as np\n",
    "from thirdai import bolt\n",
    "\n",
    "from utils import (\n",
    "    gen_single_sparse_layer_network,\n",
    "    gen_numpy_training_data,\n",
    "    get_categorical_acc,\n",
    "    train_network,\n",
    "    build_simple_distributed_bolt_network,\n",
    "    train_single_node_distributed_network,\n",
    ")\n",
    "\n",
    "\n",
    "# gets compressed gradients as (indices,values) tuple and then asserts that the gradient matrix after setting is the same as the tuple\n"
   ]
  },
  {
   "cell_type": "code",
   "execution_count": 2,
   "metadata": {},
   "outputs": [
    {
     "name": "stdout",
     "output_type": "stream",
     "text": [
      "Initializing Bolt network...\n",
      "========= Bolt Network =========\n",
      "InputLayer (Layer 0): dim=10\n",
      "FullyConnectedLayer (Layer 1): dim=50, sparsity=1, act_func=ReLU\n",
      "FullyConnectedLayer (Layer 2): dim=10, sparsity=1, act_func=Softmax\n",
      "================================\n",
      "Initialized Network in 0 seconds\n",
      "Distributed Network initialization done on this Node\n",
      "[491 293 138  75   0 283 396  45 367   0 170   0   0 420  42   0   0   0\n",
      " 279 161 499   0  87 438 119  49  16  60   0 179   0 142 437 263  15  86\n",
      " 266   0   0 267  11 176   0 166 307   0 203 110  79 465] [-0.02549389 -0.01961542 -0.01972435  0.02007152  0.         -0.01751803\n",
      "  0.02181056  0.0225569   0.03090289  0.          0.02882907  0.\n",
      "  0.          0.0220595  -0.0200375   0.          0.          0.\n",
      "  0.01677938  0.0254018   0.01869166  0.         -0.01916217 -0.0210577\n",
      "  0.02152697  0.0174329   0.03116976  0.0197744   0.         -0.01706735\n",
      "  0.          0.02939146  0.02065227 -0.02022854 -0.01776834 -0.02401814\n",
      "  0.02515446  0.          0.          0.01765273  0.01659583 -0.02257535\n",
      "  0.          0.02209039 -0.01598397  0.          0.02024203  0.02521142\n",
      "  0.02064243 -0.0318814 ]\n"
     ]
    },
    {
     "ename": "AssertionError",
     "evalue": "",
     "output_type": "error",
     "traceback": [
      "\u001b[0;31m---------------------------------------------------------------------------\u001b[0m",
      "\u001b[0;31mAssertionError\u001b[0m                            Traceback (most recent call last)",
      "\u001b[1;32m/Users/shubh/Universe/bolt/python_tests/delete.ipynb Cell 2\u001b[0m in \u001b[0;36m<cell line: 19>\u001b[0;34m()\u001b[0m\n\u001b[1;32m     <a href='vscode-notebook-cell:/Users/shubh/Universe/bolt/python_tests/delete.ipynb#ch0000001?line=15'>16</a>\u001b[0m np\u001b[39m.\u001b[39madd\u001b[39m.\u001b[39mat(network_weights, indices, \u001b[39m-\u001b[39m\u001b[39m1\u001b[39m \u001b[39m*\u001b[39m values)\n\u001b[1;32m     <a href='vscode-notebook-cell:/Users/shubh/Universe/bolt/python_tests/delete.ipynb#ch0000001?line=16'>17</a>\u001b[0m norm_after_subtracting_gradients \u001b[39m=\u001b[39m np\u001b[39m.\u001b[39mlinalg\u001b[39m.\u001b[39mnorm(network_weights)\n\u001b[0;32m---> <a href='vscode-notebook-cell:/Users/shubh/Universe/bolt/python_tests/delete.ipynb#ch0000001?line=18'>19</a>\u001b[0m \u001b[39massert\u001b[39;00m norm_after_subtracting_gradients \u001b[39m==\u001b[39m \u001b[39m0\u001b[39m\n",
      "\u001b[0;31mAssertionError\u001b[0m: "
     ]
    }
   ],
   "source": [
    "network = build_simple_distributed_bolt_network(sparsity=1.0, n_classes=10)\n",
    "examples, labels = gen_numpy_training_data(n_classes=10, n_samples=1000)\n",
    "train_single_node_distributed_network(\n",
    "    network, examples, labels, epochs=1, update_parameters=False\n",
    ")\n",
    "\n",
    "indices, values = network.get_indexed_sketch_for_gradients(\n",
    "    layer_index=0, compression_density=0.1, sketch_biases=False, seed_for_hashing=0\n",
    ")\n",
    "print(indices,values)\n",
    "network.set_gradients_from_indices_values(\n",
    "    layer_index=0, indices=indices, values=values, set_biases=True\n",
    ")\n",
    "\n",
    "network_weights = network.get_weights_gradients(0).flatten()\n",
    "np.add.at(network_weights, indices, -1 * values)\n",
    "norm_after_subtracting_gradients = np.linalg.norm(network_weights)\n",
    "\n",
    "assert norm_after_subtracting_gradients == 0\n"
   ]
  },
  {
   "cell_type": "code",
   "execution_count": null,
   "metadata": {},
   "outputs": [],
   "source": []
  }
 ],
 "metadata": {
  "kernelspec": {
   "display_name": "Python 3.9.13 64-bit",
   "language": "python",
   "name": "python3"
  },
  "language_info": {
   "codemirror_mode": {
    "name": "ipython",
    "version": 3
   },
   "file_extension": ".py",
   "mimetype": "text/x-python",
   "name": "python",
   "nbconvert_exporter": "python",
   "pygments_lexer": "ipython3",
   "version": "3.9.13"
  },
  "orig_nbformat": 4,
  "vscode": {
   "interpreter": {
    "hash": "b0fa6594d8f4cbf19f97940f81e996739fb7646882a419484c72d19e05852a7e"
   }
  }
 },
 "nbformat": 4,
 "nbformat_minor": 2
}
