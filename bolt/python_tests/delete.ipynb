{
 "cells": [
  {
   "cell_type": "code",
   "execution_count": 64,
   "metadata": {},
   "outputs": [],
   "source": [
    "import pytest\n",
    "\n",
    "pytestmark = [pytest.mark.unit, pytest.mark.release]\n",
    "\n",
    "import numpy as np\n",
    "from thirdai import bolt\n",
    "\n",
    "from utils import (\n",
    "    gen_single_sparse_layer_network,\n",
    "    gen_numpy_training_data,\n",
    "    get_categorical_acc,\n",
    "    train_network,\n",
    "    build_simple_distributed_bolt_network,\n",
    "    train_single_node_distributed_network,\n",
    ")"
   ]
  },
  {
   "cell_type": "code",
   "execution_count": 85,
   "metadata": {},
   "outputs": [
    {
     "name": "stdout",
     "output_type": "stream",
     "text": [
      "Initializing Bolt network...\n",
      "========= Bolt Network =========\n",
      "InputLayer (Layer 0): dim=10\n",
      "FullyConnectedLayer (Layer 1): dim=50, sparsity=1, act_func=ReLU\n",
      "FullyConnectedLayer (Layer 2): dim=10, sparsity=1, act_func=Softmax\n",
      "================================\n",
      "Initialized Network in 0 seconds\n",
      "Distributed Network initialization done on this Node\n"
     ]
    }
   ],
   "source": [
    "network = build_simple_distributed_bolt_network(sparsity=1.0, n_classes=10)\n",
    "examples, labels = gen_numpy_training_data(n_classes=10, n_samples=1000)\n",
    "train_single_node_distributed_network(\n",
    "    network, examples, labels, epochs=1, update_parameters=False\n",
    ")\n"
   ]
  },
  {
   "cell_type": "code",
   "execution_count": 86,
   "metadata": {},
   "outputs": [
    {
     "name": "stdout",
     "output_type": "stream",
     "text": [
      "0.01350176427513361\n",
      "[ -53 -368 -381  455  360 -283  -25  355 -122  497  409  378  105  467\n",
      " -457 -342 -434 -127 -149  207  499  384    0 -479  330    0 -475 -308\n",
      " -449 -179 -469  470 -451 -473 -313 -171  496  462 -319  353  -50  477\n",
      " -259  403 -337 -370  387  153  311  476]\n",
      "[[ 0.          0.          0.          0.          0.          0.\n",
      "   0.          0.          0.          0.        ]\n",
      " [ 0.          0.          0.          0.          0.          0.\n",
      "   0.          0.          0.          0.        ]\n",
      " [ 0.          0.          0.          0.          0.         -0.01350176\n",
      "   0.          0.          0.          0.        ]\n",
      " [ 0.          0.          0.          0.          0.          0.\n",
      "   0.          0.          0.          0.        ]\n",
      " [ 0.          0.          0.          0.          0.          0.\n",
      "   0.          0.          0.          0.        ]\n",
      " [-0.01350176  0.          0.         -0.01350176  0.          0.\n",
      "   0.          0.          0.          0.        ]\n",
      " [ 0.          0.          0.          0.          0.          0.\n",
      "   0.          0.          0.          0.        ]\n",
      " [ 0.          0.          0.          0.          0.          0.\n",
      "   0.          0.          0.          0.        ]\n",
      " [ 0.          0.          0.          0.          0.          0.\n",
      "   0.          0.          0.          0.        ]\n",
      " [ 0.          0.          0.          0.          0.          0.\n",
      "   0.          0.          0.          0.        ]\n",
      " [ 0.          0.          0.          0.          0.          0.01350176\n",
      "   0.          0.          0.          0.        ]\n",
      " [ 0.          0.          0.          0.          0.          0.\n",
      "   0.          0.          0.          0.        ]\n",
      " [ 0.          0.         -0.01350176  0.          0.          0.\n",
      "   0.         -0.01350176  0.          0.        ]\n",
      " [ 0.          0.          0.          0.          0.          0.\n",
      "   0.          0.          0.          0.        ]\n",
      " [ 0.          0.          0.          0.          0.          0.\n",
      "   0.          0.          0.         -0.01350176]\n",
      " [ 0.          0.          0.          0.01350176  0.          0.\n",
      "   0.          0.          0.          0.        ]\n",
      " [ 0.          0.          0.          0.          0.          0.\n",
      "   0.          0.          0.          0.        ]\n",
      " [ 0.         -0.01350176  0.          0.          0.          0.\n",
      "   0.          0.          0.         -0.01350176]\n",
      " [ 0.          0.          0.          0.          0.          0.\n",
      "   0.          0.          0.          0.        ]\n",
      " [ 0.          0.          0.          0.          0.          0.\n",
      "   0.          0.          0.          0.        ]\n",
      " [ 0.          0.          0.          0.          0.          0.\n",
      "   0.          0.01350176  0.          0.        ]\n",
      " [ 0.          0.          0.          0.          0.          0.\n",
      "   0.          0.          0.          0.        ]\n",
      " [ 0.          0.          0.          0.          0.          0.\n",
      "   0.          0.          0.          0.        ]\n",
      " [ 0.          0.          0.          0.          0.          0.\n",
      "   0.          0.          0.          0.        ]\n",
      " [ 0.          0.          0.          0.          0.          0.\n",
      "   0.          0.          0.          0.        ]\n",
      " [ 0.          0.          0.          0.          0.          0.\n",
      "   0.          0.          0.         -0.01350176]\n",
      " [ 0.          0.          0.          0.          0.          0.\n",
      "   0.          0.          0.          0.        ]\n",
      " [ 0.          0.          0.          0.          0.          0.\n",
      "   0.          0.          0.          0.        ]\n",
      " [ 0.          0.          0.         -0.01350176  0.          0.\n",
      "   0.          0.          0.          0.        ]\n",
      " [ 0.          0.          0.          0.          0.          0.\n",
      "   0.          0.          0.          0.        ]\n",
      " [ 0.          0.          0.          0.          0.          0.\n",
      "   0.          0.         -0.01350176  0.        ]\n",
      " [ 0.          0.01350176  0.         -0.01350176  0.          0.\n",
      "   0.          0.          0.         -0.01350176]\n",
      " [ 0.          0.          0.          0.          0.          0.\n",
      "   0.          0.          0.          0.        ]\n",
      " [ 0.01350176  0.          0.          0.          0.          0.\n",
      "   0.         -0.01350176  0.          0.        ]\n",
      " [ 0.          0.         -0.01350176  0.          0.          0.\n",
      "   0.          0.          0.          0.        ]\n",
      " [ 0.          0.          0.          0.01350176  0.          0.01350176\n",
      "   0.          0.          0.          0.        ]\n",
      " [ 0.01350176  0.          0.          0.          0.          0.\n",
      "   0.          0.         -0.01350176  0.        ]\n",
      " [-0.01350176  0.          0.          0.          0.          0.\n",
      "   0.          0.          0.01350176  0.        ]\n",
      " [ 0.         -0.01350176  0.          0.          0.01350176  0.\n",
      "   0.          0.01350176  0.          0.        ]\n",
      " [ 0.          0.          0.          0.          0.          0.\n",
      "   0.          0.          0.          0.        ]\n",
      " [ 0.          0.          0.          0.01350176  0.          0.\n",
      "   0.          0.          0.          0.01350176]\n",
      " [ 0.          0.          0.          0.          0.          0.\n",
      "   0.          0.          0.          0.        ]\n",
      " [ 0.          0.          0.          0.          0.          0.\n",
      "   0.          0.          0.          0.        ]\n",
      " [ 0.          0.          0.          0.         -0.01350176  0.\n",
      "   0.          0.          0.          0.        ]\n",
      " [ 0.          0.          0.          0.          0.          0.\n",
      "   0.          0.          0.         -0.01350176]\n",
      " [ 0.         -0.01350176  0.          0.          0.          0.01350176\n",
      "   0.         -0.01350176  0.          0.        ]\n",
      " [ 0.          0.          0.01350176  0.          0.          0.\n",
      "   0.          0.01350176  0.         -0.01350176]\n",
      " [ 0.01350176  0.          0.         -0.01350176  0.         -0.01350176\n",
      "   0.01350176  0.01350176  0.         -0.01350176]\n",
      " [ 0.          0.          0.          0.          0.          0.\n",
      "   0.          0.          0.          0.        ]\n",
      " [ 0.          0.          0.          0.          0.          0.\n",
      "   0.01350176  0.01350176  0.          0.01350176]]\n",
      "Sketch is set with zeros\n",
      "Pregenerated numbers are done \n"
     ]
    }
   ],
   "source": [
    "gradients=network.get_weights_gradients(0)\n",
    "threshold=network.get_unbiased_threshold_for_gradients(0,compression_density=0.1, sketch_biases=False)\n",
    "print(threshold)\n",
    "indices=network.get_unbiased_indexed_sketch_for_gradients(layer_index=0,compression_density=0.1,sketch_biases=False,seed_for_hashing=0,pregenerate_distribution=False,threshold=threshold)\n",
    "print(indices)\n",
    "network.set_unbiased_gradients_from_indices_values(layer_index=0,indices=indices,set_biases=False,threshold=threshold)\n",
    "print(network.get_weights_gradients(0))"
   ]
  },
  {
   "cell_type": "code",
   "execution_count": 35,
   "metadata": {},
   "outputs": [
    {
     "name": "stdout",
     "output_type": "stream",
     "text": [
      "[0 0 0 ... 0 0 0]\n"
     ]
    }
   ],
   "source": [
    "print(indices)"
   ]
  },
  {
   "cell_type": "code",
   "execution_count": 36,
   "metadata": {},
   "outputs": [
    {
     "name": "stdout",
     "output_type": "stream",
     "text": [
      "(5000,)\n"
     ]
    }
   ],
   "source": [
    "print(indices.shape)"
   ]
  },
  {
   "cell_type": "code",
   "execution_count": null,
   "metadata": {},
   "outputs": [],
   "source": []
  }
 ],
 "metadata": {
  "kernelspec": {
   "display_name": "Python 3.9.13 64-bit",
   "language": "python",
   "name": "python3"
  },
  "language_info": {
   "codemirror_mode": {
    "name": "ipython",
    "version": 3
   },
   "file_extension": ".py",
   "mimetype": "text/x-python",
   "name": "python",
   "nbconvert_exporter": "python",
   "pygments_lexer": "ipython3",
   "version": "3.9.13"
  },
  "orig_nbformat": 4,
  "vscode": {
   "interpreter": {
    "hash": "b0fa6594d8f4cbf19f97940f81e996739fb7646882a419484c72d19e05852a7e"
   }
  }
 },
 "nbformat": 4,
 "nbformat_minor": 2
}
