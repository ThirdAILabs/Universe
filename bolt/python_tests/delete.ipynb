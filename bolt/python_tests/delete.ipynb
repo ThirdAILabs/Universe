{
 "cells": [
  {
   "cell_type": "code",
   "execution_count": 2,
   "metadata": {},
   "outputs": [
    {
     "name": "stdout",
     "output_type": "stream",
     "text": [
      "Initializing Bolt network...\n",
      "========= Bolt Network =========\n",
      "InputLayer (Layer 0): dim=10\n",
      "FullyConnectedLayer (Layer 1): dim=50, sparsity=1, act_func=ReLU\n",
      "FullyConnectedLayer (Layer 2): dim=10, sparsity=1, act_func=Softmax\n",
      "================================\n",
      "Initialized Network in 0 seconds\n",
      "Distributed Network initialization done on this Node\n"
     ]
    }
   ],
   "source": [
    "import pytest\n",
    "\n",
    "pytestmark = [pytest.mark.unit, pytest.mark.release]\n",
    "\n",
    "import numpy as np\n",
    "from thirdai import bolt\n",
    "\n",
    "from utils import (\n",
    "    gen_single_sparse_layer_network,\n",
    "    gen_numpy_training_data,\n",
    "    get_categorical_acc,\n",
    "    train_network,\n",
    "    build_simple_distributed_bolt_network,\n",
    "    train_single_node_distributed_network,\n",
    ")\n",
    "\n",
    "\n",
    "network = build_simple_distributed_bolt_network(sparsity=1.0, n_classes=10)\n",
    "examples, labels = gen_numpy_training_data(n_classes=10, n_samples=1000)\n",
    "train_single_node_distributed_network(\n",
    "    network, examples, labels, epochs=1, update_parameters=False\n",
    ")\n",
    "\n",
    "indices, values = network.get_indexed_sketch_for_gradients(\n",
    "    layer_index=0, compression_density=0.1, sketch_biases=False, seed_for_hashing=0\n",
    ")\n",
    "network.set_gradients_from_indices_values(\n",
    "    layer_index=0, indices=indices, values=values, set_biases=False\n",
    ")\n",
    "\n",
    "network_weights = network.get_weights_gradients(0).flatten()\n",
    "np.add.at(network_weights, indices, -1 * values)\n",
    "norm_after_subtracting_gradients = np.linalg.norm(network_weights)\n",
    "\n",
    "assert norm_after_subtracting_gradients == 0\n"
   ]
  },
  {
   "cell_type": "code",
   "execution_count": null,
   "metadata": {},
   "outputs": [],
   "source": []
  }
 ],
 "metadata": {
  "kernelspec": {
   "display_name": "Python 3.9.13 64-bit",
   "language": "python",
   "name": "python3"
  },
  "language_info": {
   "codemirror_mode": {
    "name": "ipython",
    "version": 3
   },
   "file_extension": ".py",
   "mimetype": "text/x-python",
   "name": "python",
   "nbconvert_exporter": "python",
   "pygments_lexer": "ipython3",
   "version": "3.9.13"
  },
  "orig_nbformat": 4,
  "vscode": {
   "interpreter": {
    "hash": "b0fa6594d8f4cbf19f97940f81e996739fb7646882a419484c72d19e05852a7e"
   }
  }
 },
 "nbformat": 4,
 "nbformat_minor": 2
}
