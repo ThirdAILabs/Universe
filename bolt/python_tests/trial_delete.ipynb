{
 "cells": [
  {
   "cell_type": "code",
   "execution_count": 11,
   "metadata": {},
   "outputs": [],
   "source": [
    "import numpy as np\n",
    "from thirdai import bolt"
   ]
  },
  {
   "cell_type": "code",
   "execution_count": 4,
   "metadata": {},
   "outputs": [],
   "source": [
    "from utils import (\n",
    "    gen_single_sparse_layer_network,\n",
    "    gen_numpy_training_data,\n",
    "    get_categorical_acc,train_network,build_simple_distributed_bolt_network,\n",
    "    train_single_node_distributed_network\n",
    ")"
   ]
  },
  {
   "cell_type": "code",
   "execution_count": 5,
   "metadata": {},
   "outputs": [],
   "source": [
    "def build_sparse_hidden_layer_classifier(input_dim, sparse_dim, output_dim, sparsity):\n",
    "    layers = [\n",
    "        bolt.FullyConnected(\n",
    "            dim=sparse_dim,\n",
    "            sparsity=sparsity,\n",
    "            activation_function=\"ReLU\",\n",
    "        ),\n",
    "        bolt.FullyConnected(dim=output_dim, activation_function=\"Softmax\"),\n",
    "    ]\n",
    "    network = bolt.DistributedNetwork(layers=layers, input_dim=input_dim)\n",
    "    return network"
   ]
  },
  {
   "cell_type": "code",
   "execution_count": 6,
   "metadata": {},
   "outputs": [
    {
     "name": "stdout",
     "output_type": "stream",
     "text": [
      "Initializing Bolt network...\n",
      "========= Bolt Network =========\n",
      "InputLayer (Layer 0): dim=10\n",
      "FullyConnectedLayer (Layer 1): dim=50, sparsity=1, act_func=ReLU\n",
      "FullyConnectedLayer (Layer 2): dim=10, sparsity=1, act_func=Softmax\n",
      "================================\n",
      "Initialized Network in 0 seconds\n"
     ]
    }
   ],
   "source": [
    "network = build_simple_distributed_bolt_network(\n",
    "    sparsity=1.0,n_classes=10\n",
    ")"
   ]
  },
  {
   "cell_type": "code",
   "execution_count": 7,
   "metadata": {},
   "outputs": [
    {
     "name": "stdout",
     "output_type": "stream",
     "text": [
      "Distributed Network initialization done on this Node\n"
     ]
    }
   ],
   "source": [
    "examples, labels = gen_numpy_training_data(n_classes=10, n_samples=1000)\n",
    "train_single_node_distributed_network(network, examples, labels, epochs=1,update_parameters=False)"
   ]
  },
  {
   "cell_type": "code",
   "execution_count": 8,
   "metadata": {},
   "outputs": [
    {
     "name": "stdout",
     "output_type": "stream",
     "text": [
      "(array([  0, 236, 423,   8, 226,  91,  25,  45, 122,  47,   6,  61,  28,\n",
      "         0, 331, 342, 321,  48,  22, 216, 213,   9, 422, 427,   4,  49,\n",
      "       220, 233,  59, 195, 469, 345, 435, 194, 416, 394, 379, 399, 319,\n",
      "        41, 202, 425, 317, 436,  57,   0, 388, 439, 432,  62],\n",
      "      dtype=uint64), array([ 0.        ,  0.01412308, -0.02415516,  0.02371759, -0.02431246,\n",
      "       -0.01096685, -0.01025749,  0.02444051, -0.01479826, -0.01060372,\n",
      "        0.01152415,  0.02190923,  0.01189278,  0.        , -0.01715592,\n",
      "       -0.02053524, -0.0131745 ,  0.01553754,  0.01280503, -0.02117209,\n",
      "       -0.01701788, -0.01590035,  0.02449853, -0.01338756,  0.01383893,\n",
      "       -0.02605157, -0.01663529, -0.0143596 , -0.01675513,  0.01302834,\n",
      "        0.02503607, -0.03755009, -0.02333   , -0.01167312, -0.01193696,\n",
      "        0.01275214, -0.01091116, -0.01021068, -0.01518909,  0.01116666,\n",
      "       -0.0113823 ,  0.01393337, -0.01286075,  0.02223918,  0.02110592,\n",
      "        0.        ,  0.01489704,  0.01396014, -0.0238735 , -0.01495503],\n",
      "      dtype=float32))\n"
     ]
    }
   ],
   "source": [
    "x=network.get_indexed_sketch_for_gradients(layer_index=0,compression_density=0.1,sketch_biases=False,seed_for_hashing=0)\n",
    "print(x)"
   ]
  },
  {
   "cell_type": "code",
   "execution_count": 9,
   "metadata": {},
   "outputs": [],
   "source": [
    "network.set_gradients_from_indices_values(layer_index=0,indices=x[0],values=x[1],set_biases=False)"
   ]
  },
  {
   "cell_type": "code",
   "execution_count": 12,
   "metadata": {},
   "outputs": [],
   "source": [
    "network_weights=network.get_weights_gradients(0).flatten()\n",
    "np.add.at(network_weights,x[0],-1*x[1])\n",
    "y=np.linalg.norm(network_weights)"
   ]
  },
  {
   "cell_type": "code",
   "execution_count": 13,
   "metadata": {},
   "outputs": [
    {
     "name": "stdout",
     "output_type": "stream",
     "text": [
      "0.0\n"
     ]
    }
   ],
   "source": [
    "print(y)"
   ]
  },
  {
   "cell_type": "code",
   "execution_count": 14,
   "metadata": {},
   "outputs": [
    {
     "name": "stdout",
     "output_type": "stream",
     "text": [
      "0.122288436\n"
     ]
    }
   ],
   "source": [
    "print(np.linalg.norm(network.get_weights_gradients(0).flatten()))"
   ]
  },
  {
   "cell_type": "code",
   "execution_count": 10,
   "metadata": {},
   "outputs": [],
   "source": [
    "zz=np.array([[1,2,3],[4,5,6]])"
   ]
  },
  {
   "cell_type": "code",
   "execution_count": 11,
   "metadata": {},
   "outputs": [
    {
     "data": {
      "text/plain": [
       "array([1, 2, 3, 4, 5, 6])"
      ]
     },
     "execution_count": 11,
     "metadata": {},
     "output_type": "execute_result"
    }
   ],
   "source": [
    "zz.flatten()"
   ]
  },
  {
   "cell_type": "code",
   "execution_count": 13,
   "metadata": {},
   "outputs": [
    {
     "name": "stdout",
     "output_type": "stream",
     "text": [
      "[[-0.01304865  0.          0.00749627  0.          0.          0.\n",
      "   0.          0.          0.          0.        ]\n",
      " [ 0.          0.          0.          0.          0.          0.\n",
      "   0.          0.          0.          0.        ]\n",
      " [ 0.          0.          0.          0.          0.         -0.00597566\n",
      "   0.          0.          0.          0.        ]\n",
      " [ 0.          0.         -0.02262078  0.          0.03529933  0.\n",
      "   0.          0.          0.          0.02103245]\n",
      " [ 0.          0.          0.          0.          0.          0.\n",
      "   0.          0.          0.          0.        ]\n",
      " [-0.02571496  0.01233628  0.01483667  0.          0.01161456  0.\n",
      "   0.          0.         -0.02421263 -0.01477715]\n",
      " [ 0.          0.          0.          0.          0.          0.\n",
      "   0.          0.          0.          0.        ]\n",
      " [ 0.         -0.01141262  0.          0.          0.          0.\n",
      "  -0.01705274  0.          0.          0.        ]\n",
      " [ 0.          0.         -0.01268313  0.          0.          0.00852336\n",
      "   0.          0.          0.          0.        ]\n",
      " [ 0.          0.          0.          0.01924337  0.          0.\n",
      "   0.          0.          0.          0.        ]]\n"
     ]
    }
   ],
   "source": [
    "weights=network.get_weights_gradients(0)\n",
    "print(weights)"
   ]
  },
  {
   "cell_type": "code",
   "execution_count": 14,
   "metadata": {},
   "outputs": [],
   "source": [
    "network.set_gradients_from_indices_values(layer_index=0,indices=x[0],values=x[1],set_biases=False)"
   ]
  },
  {
   "cell_type": "code",
   "execution_count": 15,
   "metadata": {},
   "outputs": [
    {
     "name": "stdout",
     "output_type": "stream",
     "text": [
      "[[-0.01304865  0.          0.00749627  0.          0.          0.\n",
      "   0.          0.          0.          0.        ]\n",
      " [ 0.          0.          0.          0.          0.          0.\n",
      "   0.          0.          0.          0.        ]\n",
      " [ 0.          0.          0.          0.          0.         -0.00597566\n",
      "   0.          0.          0.          0.        ]\n",
      " [ 0.          0.         -0.02262078  0.          0.03529933  0.\n",
      "   0.          0.          0.          0.02103245]\n",
      " [ 0.          0.          0.          0.          0.          0.\n",
      "   0.          0.          0.          0.        ]\n",
      " [-0.02571496  0.01233628  0.01483667  0.          0.01161456  0.\n",
      "   0.          0.         -0.02421263 -0.01477715]\n",
      " [ 0.          0.          0.          0.          0.          0.\n",
      "   0.          0.          0.          0.        ]\n",
      " [ 0.         -0.01141262  0.          0.          0.          0.\n",
      "  -0.01705274  0.          0.          0.        ]\n",
      " [ 0.          0.         -0.01268313  0.          0.          0.00852336\n",
      "   0.          0.          0.          0.        ]\n",
      " [ 0.          0.          0.          0.01924337  0.          0.\n",
      "   0.          0.          0.          0.        ]]\n"
     ]
    }
   ],
   "source": [
    "weights_new=network.get_weights_gradients(0)\n",
    "print(weights_new)"
   ]
  },
  {
   "cell_type": "code",
   "execution_count": null,
   "metadata": {},
   "outputs": [],
   "source": []
  }
 ],
 "metadata": {
  "kernelspec": {
   "display_name": "Python 3.9.13 64-bit",
   "language": "python",
   "name": "python3"
  },
  "language_info": {
   "codemirror_mode": {
    "name": "ipython",
    "version": 3
   },
   "file_extension": ".py",
   "mimetype": "text/x-python",
   "name": "python",
   "nbconvert_exporter": "python",
   "pygments_lexer": "ipython3",
   "version": "3.9.13"
  },
  "orig_nbformat": 4,
  "vscode": {
   "interpreter": {
    "hash": "b0fa6594d8f4cbf19f97940f81e996739fb7646882a419484c72d19e05852a7e"
   }
  }
 },
 "nbformat": 4,
 "nbformat_minor": 2
}
