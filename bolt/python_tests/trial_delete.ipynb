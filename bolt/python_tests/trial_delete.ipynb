{
 "cells": [
  {
   "cell_type": "code",
   "execution_count": 1,
   "metadata": {},
   "outputs": [],
   "source": [
    "import numpy as np\n",
    "from thirdai import distributed_bolt\n",
    "from thirdai import bolt"
   ]
  },
  {
   "cell_type": "code",
   "execution_count": 2,
   "metadata": {},
   "outputs": [],
   "source": [
    "from utils import (\n",
    "    gen_single_sparse_layer_network,\n",
    "    gen_training_data,\n",
    "    get_categorical_acc,train_network,train_single_node_distributed_network\n",
    ")"
   ]
  },
  {
   "cell_type": "code",
   "execution_count": 3,
   "metadata": {},
   "outputs": [],
   "source": [
    "def build_sparse_hidden_layer_classifier(input_dim, sparse_dim, output_dim, sparsity):\n",
    "    layers = [\n",
    "        bolt.FullyConnected(\n",
    "            dim=sparse_dim,\n",
    "            sparsity=sparsity,\n",
    "            activation_function=\"ReLU\",\n",
    "        ),\n",
    "        bolt.FullyConnected(dim=output_dim, activation_function=\"Softmax\"),\n",
    "    ]\n",
    "    network = bolt.DistributedNetwork(layers=layers, input_dim=input_dim)\n",
    "    return network"
   ]
  },
  {
   "cell_type": "code",
   "execution_count": 4,
   "metadata": {},
   "outputs": [
    {
     "name": "stdout",
     "output_type": "stream",
     "text": [
      "Initializing Bolt network...\n",
      "========= Bolt Network =========\n",
      "InputLayer (Layer 0): dim=10\n",
      "FullyConnectedLayer (Layer 1): dim=10, sparsity=1, act_func=ReLU\n",
      "FullyConnectedLayer (Layer 2): dim=10, sparsity=1, act_func=Softmax\n",
      "================================\n",
      "Initialized Network in 0 seconds\n"
     ]
    }
   ],
   "source": [
    "input_dim = 10\n",
    "hidden_dim = 10\n",
    "output_dim = 10\n",
    "network = build_sparse_hidden_layer_classifier(\n",
    "    input_dim=input_dim, sparse_dim=hidden_dim, output_dim=output_dim, sparsity=1.0\n",
    ")"
   ]
  },
  {
   "cell_type": "code",
   "execution_count": 24,
   "metadata": {},
   "outputs": [
    {
     "name": "stdout",
     "output_type": "stream",
     "text": [
      "Distributed Network initialization done on this Node\n"
     ]
    }
   ],
   "source": [
    "examples, labels = gen_training_data(n_classes=10, n_samples=1000)\n",
    "train_single_node_distributed_network(network, examples, labels, epochs=10)"
   ]
  },
  {
   "cell_type": "code",
   "execution_count": 25,
   "metadata": {},
   "outputs": [
    {
     "name": "stdout",
     "output_type": "stream",
     "text": [
      "(array([6, 7, 5, 1, 8], dtype=int32), array([-4.173293  , -2.7389598 , -0.41703063,  0.        , -0.64264446],\n",
      "      dtype=float32))\n",
      "the threshold is -0.398358\n",
      "done calculating the sketch\n"
     ]
    }
   ],
   "source": [
    "x=network.get_indexed_sketch(layer_index=0,compression_density=0.5,is_set_biases=True,seed=2)\n",
    "print(x)"
   ]
  },
  {
   "cell_type": "code",
   "execution_count": 26,
   "metadata": {},
   "outputs": [
    {
     "name": "stdout",
     "output_type": "stream",
     "text": [
      "[ 1.0735991   0.         -0.39835846 -0.01555806  0.28673863 -0.41703063\n",
      " -4.173293   -2.7389598  -0.64264446  0.7378569 ]\n"
     ]
    }
   ],
   "source": [
    "weights=network.get_biases_gradients(0)\n",
    "print(weights)"
   ]
  },
  {
   "cell_type": "code",
   "execution_count": null,
   "metadata": {},
   "outputs": [],
   "source": []
  },
  {
   "cell_type": "code",
   "execution_count": 27,
   "metadata": {},
   "outputs": [
    {
     "name": "stdout",
     "output_type": "stream",
     "text": [
      "inside the set gradients from tuple function\n",
      "setting the bias gradients for the layer: 0\n",
      "i am here\n",
      "print bias gradient before assinging to 0\n",
      "1.0736 0 -0.398358 -0.0155581 0.286739 -0.417031 -4.17329 -2.73896 -0.642644 0.737857 \n",
      "print bias gradient after assinging to 0\n",
      "0 0 0 0 0 0 0 0 0 0 \n",
      "setting the bias gradients for the layer\n"
     ]
    }
   ],
   "source": [
    "network.set_gradients(layer_index=0,indices=x[0],values=x[1],is_set_biases=True)"
   ]
  },
  {
   "cell_type": "code",
   "execution_count": 28,
   "metadata": {},
   "outputs": [
    {
     "name": "stdout",
     "output_type": "stream",
     "text": [
      "[ 0.          0.          0.          0.          0.         -0.41703063\n",
      " -4.173293   -2.7389598  -0.64264446  0.        ]\n"
     ]
    }
   ],
   "source": [
    "weights_new=network.get_biases_gradients(0)\n",
    "print(weights_new)"
   ]
  },
  {
   "cell_type": "code",
   "execution_count": null,
   "metadata": {},
   "outputs": [],
   "source": []
  }
 ],
 "metadata": {
  "kernelspec": {
   "display_name": "Python 3.9.13 64-bit",
   "language": "python",
   "name": "python3"
  },
  "language_info": {
   "codemirror_mode": {
    "name": "ipython",
    "version": 3
   },
   "file_extension": ".py",
   "mimetype": "text/x-python",
   "name": "python",
   "nbconvert_exporter": "python",
   "pygments_lexer": "ipython3",
   "version": "3.9.13"
  },
  "orig_nbformat": 4,
  "vscode": {
   "interpreter": {
    "hash": "b0fa6594d8f4cbf19f97940f81e996739fb7646882a419484c72d19e05852a7e"
   }
  }
 },
 "nbformat": 4,
 "nbformat_minor": 2
}
