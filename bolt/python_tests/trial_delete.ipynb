{
 "cells": [
  {
   "cell_type": "code",
   "execution_count": 1,
   "metadata": {},
   "outputs": [],
   "source": [
    "import numpy as np\n",
    "from thirdai import distributed_bolt\n",
    "from thirdai import bolt"
   ]
  },
  {
   "cell_type": "code",
   "execution_count": 2,
   "metadata": {},
   "outputs": [],
   "source": [
    "from utils import (\n",
    "    gen_single_sparse_layer_network,\n",
    "    gen_training_data,\n",
    "    get_categorical_acc,train_network,train_single_node_distributed_network\n",
    ")"
   ]
  },
  {
   "cell_type": "code",
   "execution_count": 3,
   "metadata": {},
   "outputs": [],
   "source": [
    "def build_sparse_hidden_layer_classifier(input_dim, sparse_dim, output_dim, sparsity):\n",
    "    layers = [\n",
    "        bolt.FullyConnected(\n",
    "            dim=sparse_dim,\n",
    "            sparsity=sparsity,\n",
    "            activation_function=\"ReLU\",\n",
    "        ),\n",
    "        bolt.FullyConnected(dim=output_dim, activation_function=\"Softmax\"),\n",
    "    ]\n",
    "    network = bolt.DistributedNetwork(layers=layers, input_dim=input_dim)\n",
    "    return network"
   ]
  },
  {
   "cell_type": "code",
   "execution_count": 4,
   "metadata": {},
   "outputs": [
    {
     "name": "stdout",
     "output_type": "stream",
     "text": [
      "Initializing Bolt network...\n",
      "========= Bolt Network =========\n",
      "InputLayer (Layer 0): dim=10\n",
      "FullyConnectedLayer (Layer 1): dim=10, sparsity=1, act_func=ReLU\n",
      "FullyConnectedLayer (Layer 2): dim=10, sparsity=1, act_func=Softmax\n",
      "================================\n",
      "Initialized Network in 0 seconds\n"
     ]
    }
   ],
   "source": [
    "input_dim = 10\n",
    "hidden_dim = 10\n",
    "output_dim = 10\n",
    "network = build_sparse_hidden_layer_classifier(\n",
    "    input_dim=input_dim, sparse_dim=hidden_dim, output_dim=output_dim, sparsity=1.0\n",
    ")"
   ]
  },
  {
   "cell_type": "code",
   "execution_count": 5,
   "metadata": {},
   "outputs": [
    {
     "name": "stdout",
     "output_type": "stream",
     "text": [
      "Distributed Network initialization done on this Node\n"
     ]
    }
   ],
   "source": [
    "examples, labels = gen_training_data(n_classes=10, n_samples=1000)\n",
    "train_single_node_distributed_network(network, examples, labels, epochs=10)"
   ]
  },
  {
   "cell_type": "code",
   "execution_count": 6,
   "metadata": {},
   "outputs": [
    {
     "name": "stdout",
     "output_type": "stream",
     "text": [
      "(array([34, 43, 58,  0,  0,  0, 81,  0, 28, 75,  0, 97,  0,  0,  0,  0,  0,\n",
      "        0,  0, 11], dtype=int32), array([0.29945943, 0.39426008, 1.099941  , 0.        , 0.        ,\n",
      "       0.        , 0.800386  , 0.        , 0.4757971 , 0.5506324 ,\n",
      "       0.        , 1.0056921 , 0.        , 0.        , 0.        ,\n",
      "       0.        , 0.        , 0.        , 0.        , 0.6406704 ],\n",
      "      dtype=float32))\n"
     ]
    }
   ],
   "source": [
    "x=network.get_indexed_sketch(layer_index=0,compression_density=0.2,is_set_biases=False,seed=2)\n",
    "print(x)"
   ]
  },
  {
   "cell_type": "code",
   "execution_count": 7,
   "metadata": {},
   "outputs": [
    {
     "name": "stdout",
     "output_type": "stream",
     "text": [
      "[[-6.2827528e-02  1.2125643e-01  1.2198184e+00 -5.4874510e-01\n",
      "  -5.4618531e-01  7.3684049e-01 -1.0509858e+00 -3.9472710e-03\n",
      "  -1.9405480e-02 -1.2467495e+00]\n",
      " [-4.1024616e-01  6.4067042e-01  8.1941664e-01 -7.8256863e-01\n",
      "  -4.1121244e-01  3.6604546e-02 -1.2759462e-01 -1.4228326e-02\n",
      "   6.1198258e-01 -3.1955002e-03]\n",
      " [-1.4160929e+00  7.3317230e-02 -1.4296468e+00 -4.8410036e-03\n",
      "   2.0894678e-02 -3.9055154e-01  3.2895189e-02  6.9374271e-04\n",
      "   4.7579709e-01  8.2005240e-02]\n",
      " [-2.5076577e-02 -2.6229411e-01  3.8832155e-01  2.0307156e-01\n",
      "   2.9945943e-01 -6.1383605e-01 -7.8046359e-02 -6.5206401e-02\n",
      "   7.0070118e-01 -7.9829404e-03]\n",
      " [-1.2483405e-01  5.0440764e-01 -6.4193942e-03  3.9426008e-01\n",
      "  -2.8569987e-01  4.5469802e-02  2.7203234e-02 -9.6513711e-02\n",
      "   2.5608214e-02 -2.2273309e+00]\n",
      " [-9.9060111e-02 -1.0530164e+00 -1.1902996e+00  6.6163816e-02\n",
      "   9.4474268e-01 -4.7885146e-02  4.7076571e-01  1.0880262e+00\n",
      "   1.0999410e+00 -6.4601010e-01]\n",
      " [-2.8001111e-02 -6.0928864e-03  9.8206289e-03 -3.1710796e-02\n",
      "  -6.0259429e-04 -1.3095811e-02  1.1205237e-02  1.6006384e-02\n",
      "  -4.3201996e-03 -1.3099768e+00]\n",
      " [-1.9246088e-02 -4.8707819e-01 -7.0533299e-01  6.0025002e-03\n",
      "  -5.0769541e-02  5.5063242e-01 -2.1008577e-03 -3.0939858e-03\n",
      "  -1.9154374e-02 -3.3653527e-02]\n",
      " [-1.6696590e+00  8.0038601e-01 -2.6169872e-02 -1.8208057e-02\n",
      "   2.1707214e-02  1.4614671e-01  1.7296882e-01 -6.5537296e-02\n",
      "  -2.7565295e-01  1.0887992e-02]\n",
      " [-2.1826986e-02  9.1314465e-02 -8.7197227e-03 -4.5783833e-02\n",
      "  -1.9887789e-01 -4.7585126e-02  1.5105885e-01  1.0056921e+00\n",
      "  -1.0714854e-02 -6.3653684e-01]]\n"
     ]
    }
   ],
   "source": [
    "weights=network.get_weights_gradients(0)\n",
    "print(weights)"
   ]
  },
  {
   "cell_type": "code",
   "execution_count": 8,
   "metadata": {},
   "outputs": [
    {
     "name": "stdout",
     "output_type": "stream",
     "text": [
      "inside the set gradients from tuple function\n"
     ]
    }
   ],
   "source": [
    "network.set_gradients(layer_index=0,indices=x[0],values=x[1],is_set_biases=False)"
   ]
  },
  {
   "cell_type": "code",
   "execution_count": 10,
   "metadata": {},
   "outputs": [
    {
     "name": "stdout",
     "output_type": "stream",
     "text": [
      "[[0.         0.         0.         0.         0.         0.\n",
      "  0.         0.         0.         0.        ]\n",
      " [0.         0.6406704  0.         0.         0.         0.\n",
      "  0.         0.         0.         0.        ]\n",
      " [0.         0.         0.         0.         0.         0.\n",
      "  0.         0.         0.4757971  0.        ]\n",
      " [0.         0.         0.         0.         0.29945943 0.\n",
      "  0.         0.         0.         0.        ]\n",
      " [0.         0.         0.         0.39426008 0.         0.\n",
      "  0.         0.         0.         0.        ]\n",
      " [0.         0.         0.         0.         0.         0.\n",
      "  0.         0.         1.099941   0.        ]\n",
      " [0.         0.         0.         0.         0.         0.\n",
      "  0.         0.         0.         0.        ]\n",
      " [0.         0.         0.         0.         0.         0.5506324\n",
      "  0.         0.         0.         0.        ]\n",
      " [0.         0.800386   0.         0.         0.         0.\n",
      "  0.         0.         0.         0.        ]\n",
      " [0.         0.         0.         0.         0.         0.\n",
      "  0.         1.0056921  0.         0.        ]]\n"
     ]
    }
   ],
   "source": [
    "weights_new=network.get_weights_gradients(0)\n",
    "print(weights_new)"
   ]
  },
  {
   "cell_type": "code",
   "execution_count": null,
   "metadata": {},
   "outputs": [],
   "source": []
  }
 ],
 "metadata": {
  "kernelspec": {
   "display_name": "Python 3.8.10 64-bit",
   "language": "python",
   "name": "python3"
  },
  "language_info": {
   "codemirror_mode": {
    "name": "ipython",
    "version": 3
   },
   "file_extension": ".py",
   "mimetype": "text/x-python",
   "name": "python",
   "nbconvert_exporter": "python",
   "pygments_lexer": "ipython3",
   "version": "3.8.10"
  },
  "orig_nbformat": 4,
  "vscode": {
   "interpreter": {
    "hash": "31f2aee4e71d21fbe5cf8b01ff0e069b9275f58929596ceb00d14d90e3e16cd6"
   }
  }
 },
 "nbformat": 4,
 "nbformat_minor": 2
}
