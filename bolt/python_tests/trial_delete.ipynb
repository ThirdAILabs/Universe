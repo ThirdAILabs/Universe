{
 "cells": [
  {
   "cell_type": "code",
   "execution_count": 1,
   "metadata": {},
   "outputs": [],
   "source": [
    "import numpy as np\n",
    "from thirdai import bolt"
   ]
  },
  {
   "cell_type": "code",
   "execution_count": 2,
   "metadata": {},
   "outputs": [],
   "source": [
    "from utils import (\n",
    "    gen_single_sparse_layer_network,\n",
    "    gen_numpy_training_data,\n",
    "    get_categorical_acc,train_network,train_single_node_distributed_network\n",
    ")"
   ]
  },
  {
   "cell_type": "code",
   "execution_count": 3,
   "metadata": {},
   "outputs": [],
   "source": [
    "def build_sparse_hidden_layer_classifier(input_dim, sparse_dim, output_dim, sparsity):\n",
    "    layers = [\n",
    "        bolt.FullyConnected(\n",
    "            dim=sparse_dim,\n",
    "            sparsity=sparsity,\n",
    "            activation_function=\"ReLU\",\n",
    "        ),\n",
    "        bolt.FullyConnected(dim=output_dim, activation_function=\"Softmax\"),\n",
    "    ]\n",
    "    network = bolt.DistributedNetwork(layers=layers, input_dim=input_dim)\n",
    "    return network"
   ]
  },
  {
   "cell_type": "code",
   "execution_count": 4,
   "metadata": {},
   "outputs": [
    {
     "name": "stdout",
     "output_type": "stream",
     "text": [
      "Initializing Bolt network...\n",
      "========= Bolt Network =========\n",
      "InputLayer (Layer 0): dim=10\n",
      "FullyConnectedLayer (Layer 1): dim=10, sparsity=1, act_func=ReLU\n",
      "FullyConnectedLayer (Layer 2): dim=10, sparsity=1, act_func=Softmax\n",
      "================================\n",
      "Initialized Network in 0 seconds\n"
     ]
    }
   ],
   "source": [
    "input_dim = 10\n",
    "hidden_dim = 10\n",
    "output_dim = 10\n",
    "network = build_sparse_hidden_layer_classifier(\n",
    "    input_dim=input_dim, sparse_dim=hidden_dim, output_dim=output_dim, sparsity=1.0\n",
    ")"
   ]
  },
  {
   "cell_type": "code",
   "execution_count": 5,
   "metadata": {},
   "outputs": [
    {
     "name": "stdout",
     "output_type": "stream",
     "text": [
      "printing the batch size: 64\n",
      "Distributed Network initialization done on this Node\n"
     ]
    }
   ],
   "source": [
    "examples, labels = gen_numpy_training_data(n_classes=10, n_samples=1000)\n",
    "train_single_node_distributed_network(network, examples, labels, epochs=1, update_parameters=False)"
   ]
  },
  {
   "cell_type": "code",
   "execution_count": 6,
   "metadata": {},
   "outputs": [
    {
     "name": "stdout",
     "output_type": "stream",
     "text": [
      "[[ 0.00000000e+00  0.00000000e+00  0.00000000e+00  0.00000000e+00\n",
      "   0.00000000e+00  0.00000000e+00  0.00000000e+00  0.00000000e+00\n",
      "   0.00000000e+00  0.00000000e+00]\n",
      " [-2.02648152e-04 -1.36692366e-02 -5.55803344e-05 -9.83047939e-05\n",
      "   2.07345074e-04 -1.78430884e-04  2.59588240e-04  2.20701011e-04\n",
      "  -1.05524780e-02  5.94036246e-04]\n",
      " [ 5.83809044e-04  2.45426577e-02 -5.42184338e-04  1.87494850e-04\n",
      "  -1.32723665e-02  2.64657108e-04  2.49056815e-04 -1.11938082e-02\n",
      "  -3.44963046e-03  3.13086843e-04]\n",
      " [-2.41444708e-04 -5.65086630e-05 -4.85633092e-04  1.35110496e-02\n",
      "   8.44895694e-05 -1.55905989e-04  2.61106109e-03  2.97936820e-03\n",
      "  -2.91122415e-05 -4.57083552e-05]\n",
      " [ 3.15607351e-04 -2.80225620e-04 -5.23110852e-04  8.11146630e-04\n",
      "   1.48681240e-04  2.48914614e-04  7.57032540e-05 -2.31524988e-04\n",
      "   2.18110319e-04  2.21010689e-02]\n",
      " [ 6.54205913e-04  1.04942756e-05 -2.26623706e-05 -4.61348718e-05\n",
      "  -4.55401969e-05  1.02125905e-05 -6.26395849e-05 -6.60735532e-05\n",
      "  -1.21568482e-05 -1.52085613e-05]\n",
      " [ 1.93652610e-04 -1.36371702e-02 -3.31018469e-04 -1.44044112e-03\n",
      "  -5.37265325e-03 -2.38121138e-04  1.99403334e-02  2.38663750e-03\n",
      "  -6.31166203e-03  6.03297632e-03]\n",
      " [-1.85135670e-03 -1.06409956e-02 -3.84085043e-03  5.80652244e-03\n",
      "  -4.44277748e-03  3.83536587e-03  9.32275970e-03 -1.43997390e-02\n",
      "   1.50997033e-02 -4.20314586e-03]\n",
      " [-1.18792756e-02  1.04829660e-02 -9.46633983e-03  5.10728976e-04\n",
      "   6.57211896e-03  5.52789448e-03  1.30427387e-02 -9.47314035e-03\n",
      "  -1.65569447e-02  3.18446732e-03]\n",
      " [ 8.56237661e-04 -1.06384028e-02  6.08657021e-04  2.17975889e-04\n",
      "   2.42419828e-05  2.84453126e-04 -9.78969620e-04  2.74814694e-04\n",
      "   4.08630539e-03 -2.71116663e-03]] [[ 0.00000000e+00 -4.21890727e-04 -2.00299220e-03 -6.40401675e-04\n",
      "  -9.94172064e-04  8.81691813e-05 -2.88979569e-03  5.92172192e-03\n",
      "   8.55402183e-03  5.06045204e-03]\n",
      " [ 0.00000000e+00  8.24618794e-04  3.58682568e-03 -6.00998814e-04\n",
      "  -8.89342395e-04 -2.41083421e-06 -2.93203950e-04  4.50235931e-03\n",
      "   1.93922175e-03  9.34388197e-04]\n",
      " [ 0.00000000e+00 -3.55985074e-04 -1.59385847e-03 -6.80751051e-04\n",
      "  -1.23253430e-03 -8.68397819e-06 -2.71240948e-03 -3.78735829e-03\n",
      "  -4.68853954e-03 -9.64860257e-04]\n",
      " [ 0.00000000e+00 -4.03199985e-04 -2.21222080e-03  6.40788581e-03\n",
      "  -1.26898347e-03 -7.73261945e-06 -2.77655129e-03 -3.28496541e-03\n",
      "  -7.36815808e-03 -9.00236890e-04]\n",
      " [ 0.00000000e+00 -4.78925824e-04  5.42374561e-04 -1.04273600e-03\n",
      "  -1.42121990e-03 -4.62481785e-06  1.31374644e-02 -4.75111650e-03\n",
      "  -5.94283082e-03 -1.06343452e-03]\n",
      " [ 0.00000000e+00 -5.21660491e-04 -2.54410435e-03 -9.67607717e-04\n",
      "  -1.15223811e-03 -4.91195124e-06 -3.31587717e-03 -5.73406322e-03\n",
      "   4.29124432e-03 -9.18354723e-04]\n",
      " [ 0.00000000e+00 -5.62342000e-04 -2.72953161e-03 -3.40526371e-04\n",
      "  -1.43237913e-03 -8.16811826e-06  3.09191935e-04 -7.87709281e-03\n",
      "  -2.98356311e-03 -8.01410351e-04]\n",
      " [ 0.00000000e+00 -4.81606403e-04  1.15166325e-02 -4.23969759e-04\n",
      "  -1.57402724e-03 -8.90146021e-06 -2.43589957e-03  4.28568921e-04\n",
      "  -6.34495728e-03 -1.09492405e-03]\n",
      " [ 0.00000000e+00  3.59012932e-03 -2.54461053e-03 -9.46393295e-04\n",
      "  -1.59205834e-03 -8.11119207e-06  1.23066269e-03  7.78971380e-03\n",
      "   5.57062589e-03  4.08479216e-04]\n",
      " [ 0.00000000e+00 -7.63443881e-04 -3.17333080e-03 -1.17816031e-03\n",
      "   1.81395151e-02 -8.89740204e-06 -4.31639492e-04  5.66104800e-03\n",
      "   1.12277716e-02 -9.96820279e-04]]\n"
     ]
    }
   ],
   "source": [
    "w0=network.get_weights_gradients(0)\n",
    "w1=network.get_weights_gradients(1)\n",
    "print(w0,w1)"
   ]
  },
  {
   "cell_type": "code",
   "execution_count": 7,
   "metadata": {},
   "outputs": [],
   "source": [
    "b0=network.get_biases_gradients(0)\n",
    "b1=network.get_biases_gradients(1)"
   ]
  },
  {
   "cell_type": "code",
   "execution_count": 8,
   "metadata": {},
   "outputs": [],
   "source": [
    "wthresh=[]\n",
    "bthresh=[]\n",
    "for layers in [0,1]:\n",
    "\n",
    "    compression_density=0.1\n",
    "\n",
    "    wt=network.get_unbiased_threshold_for_gradients(\n",
    "        layers, compression_density=1*compression_density, sketch_biases=False\n",
    "    )\n",
    "\n",
    "    bt=network.get_unbiased_threshold_for_gradients(\n",
    "        layers, compression_density=1*compression_density, sketch_biases=True\n",
    "    )\n",
    "    wthresh.append(wt)\n",
    "    bthresh.append(bt)\n"
   ]
  },
  {
   "cell_type": "code",
   "execution_count": 9,
   "metadata": {},
   "outputs": [
    {
     "name": "stdout",
     "output_type": "stream",
     "text": [
      "[0.01994033344089985, 0.006407885812222958] [0.02378719113767147, 0.11060959100723267]\n"
     ]
    }
   ],
   "source": [
    "print(wthresh,bthresh)"
   ]
  },
  {
   "cell_type": "code",
   "execution_count": 10,
   "metadata": {},
   "outputs": [
    {
     "name": "stdout",
     "output_type": "stream",
     "text": [
      "[ 0.         -0.02378719 -0.00021373  0.01796575  0.02233225  0.00045985\n",
      "  0.00064798 -0.00527625 -0.00961438 -0.00858767] [-0.00413506  0.08318032 -0.09175882 -0.0787776  -0.08299562  0.11060959\n",
      " -0.09790234  0.03790947 -0.11727516  0.10090064]\n"
     ]
    }
   ],
   "source": [
    "print(b0,b1)"
   ]
  },
  {
   "cell_type": "code",
   "execution_count": 11,
   "metadata": {},
   "outputs": [],
   "source": [
    "wgrads=[]\n",
    "bgrads=[]"
   ]
  },
  {
   "cell_type": "code",
   "execution_count": 12,
   "metadata": {},
   "outputs": [],
   "source": [
    "for layers in [0,1]:\n",
    "    seed=np.random.randint(100)\n",
    "    pregenerate=True\n",
    "\n",
    "    x = network.get_unbiased_indexed_sketch_for_gradients(\n",
    "        layer_index=layers,\n",
    "        compression_density=compression_density,\n",
    "        sketch_biases=False,\n",
    "        seed_for_hashing=seed,\n",
    "        pregenerate_distribution=pregenerate,\n",
    "        threshold=wthresh[layers],\n",
    "    )\n",
    "\n",
    "    y = network.get_unbiased_indexed_sketch_for_gradients(\n",
    "        layer_index=layers,\n",
    "        compression_density=5*compression_density,\n",
    "        sketch_biases=True,\n",
    "        seed_for_hashing=seed,\n",
    "        pregenerate_distribution=pregenerate,\n",
    "        threshold=bthresh[layers],\n",
    "    )\n",
    "    wgrads.append(x)\n",
    "    bgrads.append(y)"
   ]
  },
  {
   "cell_type": "code",
   "execution_count": 13,
   "metadata": {},
   "outputs": [],
   "source": [
    "for layers in [0,1]:\n",
    "    \n",
    "    w_values = np.ravel(\n",
    "        np.hstack([node_weights[layers] for node_weights in [wgrads]])\n",
    "    )\n",
    "    b_values = np.ravel(\n",
    "        np.hstack([node_biases[layers] for node_biases in [bgrads]])\n",
    "    )\n",
    "    network.set_unbiased_gradients_from_indices_values(\n",
    "        layer_index=layers, indices=w_values, set_biases=False, threshold=wthresh[layers]\n",
    "    )\n",
    "    network.set_unbiased_gradients_from_indices_values(\n",
    "        layer_index=layers, indices=b_values, set_biases=True, threshold=bthresh[layers]\n",
    "    )"
   ]
  },
  {
   "cell_type": "code",
   "execution_count": 14,
   "metadata": {},
   "outputs": [
    {
     "name": "stdout",
     "output_type": "stream",
     "text": [
      "[0.01994033344089985, 0.006407885812222958] [0.02378719113767147, 0.11060959100723267]\n"
     ]
    }
   ],
   "source": [
    "print(wthresh,bthresh)"
   ]
  },
  {
   "cell_type": "code",
   "execution_count": 15,
   "metadata": {},
   "outputs": [
    {
     "name": "stdout",
     "output_type": "stream",
     "text": [
      "[array([-64,  95, -96, -30, -62,  14, -72,  78,  66,  44], dtype=int32), array([-92, -48,  58, -78, -68,   8, -26, -52, -57,  87], dtype=int32)] [array([ 0,  0, -1,  3,  0], dtype=int32), array([9, 0, 0, 5, 0], dtype=int32)]\n"
     ]
    }
   ],
   "source": [
    "print(wgrads,bgrads)"
   ]
  },
  {
   "cell_type": "code",
   "execution_count": 17,
   "metadata": {},
   "outputs": [
    {
     "data": {
      "text/plain": [
       "array([ 0.        ,  0.05250718,  0.        ,  0.        ,  0.        ,\n",
       "        0.        , -0.05250718,  0.        ,  0.        ,  0.        ],\n",
       "      dtype=float32)"
      ]
     },
     "execution_count": 17,
     "metadata": {},
     "output_type": "execute_result"
    }
   ],
   "source": [
    "network.get_biases_gradients(0)"
   ]
  },
  {
   "cell_type": "code",
   "execution_count": null,
   "metadata": {},
   "outputs": [],
   "source": []
  }
 ],
 "metadata": {
  "kernelspec": {
   "display_name": "Python 3.8.10 64-bit",
   "language": "python",
   "name": "python3"
  },
  "language_info": {
   "codemirror_mode": {
    "name": "ipython",
    "version": 3
   },
   "file_extension": ".py",
   "mimetype": "text/x-python",
   "name": "python",
   "nbconvert_exporter": "python",
   "pygments_lexer": "ipython3",
   "version": "3.8.10"
  },
  "orig_nbformat": 4,
  "vscode": {
   "interpreter": {
    "hash": "31f2aee4e71d21fbe5cf8b01ff0e069b9275f58929596ceb00d14d90e3e16cd6"
   }
  }
 },
 "nbformat": 4,
 "nbformat_minor": 2
}
