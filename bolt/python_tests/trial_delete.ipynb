{
 "cells": [
  {
   "cell_type": "code",
   "execution_count": 3,
   "metadata": {},
   "outputs": [],
   "source": [
    "import numpy as np\n",
    "from thirdai import bolt"
   ]
  },
  {
   "cell_type": "code",
   "execution_count": 4,
   "metadata": {},
   "outputs": [],
   "source": [
    "from utils import (\n",
    "    gen_single_sparse_layer_network,\n",
    "    gen_numpy_training_data,\n",
    "    get_categorical_acc,train_network,train_single_node_distributed_network\n",
    ")"
   ]
  },
  {
   "cell_type": "code",
   "execution_count": 5,
   "metadata": {},
   "outputs": [],
   "source": [
    "def build_sparse_hidden_layer_classifier(input_dim, sparse_dim, output_dim, sparsity):\n",
    "    layers = [\n",
    "        bolt.FullyConnected(\n",
    "            dim=sparse_dim,\n",
    "            sparsity=sparsity,\n",
    "            activation_function=\"ReLU\",\n",
    "        ),\n",
    "        bolt.FullyConnected(dim=output_dim, activation_function=\"Softmax\"),\n",
    "    ]\n",
    "    network = bolt.DistributedNetwork(layers=layers, input_dim=input_dim)\n",
    "    return network"
   ]
  },
  {
   "cell_type": "code",
   "execution_count": 6,
   "metadata": {},
   "outputs": [
    {
     "name": "stdout",
     "output_type": "stream",
     "text": [
      "Initializing Bolt network...\n",
      "========= Bolt Network =========\n",
      "InputLayer (Layer 0): dim=10\n",
      "FullyConnectedLayer (Layer 1): dim=10, sparsity=1, act_func=ReLU\n",
      "FullyConnectedLayer (Layer 2): dim=10, sparsity=1, act_func=Softmax\n",
      "================================\n",
      "Initialized Network in 0 seconds\n"
     ]
    }
   ],
   "source": [
    "input_dim = 10\n",
    "hidden_dim = 10\n",
    "output_dim = 10\n",
    "network = build_sparse_hidden_layer_classifier(\n",
    "    input_dim=input_dim, sparse_dim=hidden_dim, output_dim=output_dim, sparsity=1.0\n",
    ")"
   ]
  },
  {
   "cell_type": "code",
   "execution_count": 7,
   "metadata": {},
   "outputs": [
    {
     "name": "stdout",
     "output_type": "stream",
     "text": [
      "Distributed Network initialization done on this Node\n"
     ]
    }
   ],
   "source": [
    "examples, labels = gen_numpy_training_data(n_classes=10, n_samples=1000)\n",
    "train_single_node_distributed_network(network, examples, labels, epochs=1, update_parameters=False)"
   ]
  },
  {
   "cell_type": "code",
   "execution_count": 8,
   "metadata": {},
   "outputs": [
    {
     "name": "stdout",
     "output_type": "stream",
     "text": [
      "[[-8.4713381e-04 -1.8421747e-04  6.7424583e-03  3.1810635e-04\n",
      "   2.8960863e-03 -1.5892272e-03  2.9931613e-04  7.1266582e-03\n",
      "   1.8590171e-02  3.6582772e-03]\n",
      " [ 1.9389585e-02 -1.4998580e-04  2.2481226e-03 -8.6707243e-04\n",
      "   1.5623739e-04  8.3658861e-06  1.4509683e-03 -3.6106772e-05\n",
      "   2.5757687e-02  7.2232741e-03]\n",
      " [-7.0137940e-03  1.4052187e-02 -3.8450710e-02 -1.7043537e-02\n",
      "   1.7161719e-03  3.9768843e-03  9.5108431e-03  3.0710783e-03\n",
      "   3.6101213e-03  2.1944005e-02]\n",
      " [-1.4677843e-05 -9.5282998e-03  6.3375216e-03 -1.7406161e-04\n",
      "  -2.0873737e-02 -1.7215210e-04 -5.8515719e-04  2.3926496e-04\n",
      "  -5.1984668e-04  2.9479146e-02]\n",
      " [ 6.7152374e-04 -5.7613691e-03  1.6839707e-02  1.9579269e-02\n",
      "  -1.6531796e-03  7.7709807e-03 -5.2292569e-04  4.9576559e-04\n",
      "  -4.9879286e-04 -2.0366460e-03]\n",
      " [-1.2624292e-03 -8.7281829e-04  1.9394138e-03  1.7895335e-02\n",
      "  -1.8153608e-02  6.5694801e-03  3.1006621e-02 -1.4588882e-02\n",
      "   1.7032007e-03  1.5941570e-02]\n",
      " [-3.1925840e-04  4.0428256e-04 -3.3216991e-02 -8.6731149e-04\n",
      "   1.2089876e-02 -3.4955770e-05 -1.7145688e-04 -8.6007312e-06\n",
      "   4.7108819e-04  8.5675129e-05]\n",
      " [ 3.5301032e-03 -8.1020797e-04  7.9475467e-06 -1.4079032e-04\n",
      "  -1.1811755e-03  4.8706386e-02 -1.9128371e-02  7.1288650e-03\n",
      "  -1.4800267e-02 -1.1571374e-02]\n",
      " [-3.1146253e-04  1.9582936e-04 -2.0824458e-02  3.2375769e-03\n",
      "  -5.3399004e-04  7.8784125e-03 -1.2513944e-03  1.6586674e-02\n",
      "  -1.3908678e-02  6.4317500e-03]\n",
      " [-5.1019927e-03  2.7700554e-04 -3.2451344e-04  7.6307245e-03\n",
      "  -2.8039585e-04 -1.0405585e-02  1.2137627e-04  6.9811451e-03\n",
      "  -9.6812248e-05 -1.8386776e-04]] [[-8.4119178e-03  9.1803633e-03 -1.8100185e-02 -4.2013605e-03\n",
      "  -1.1732367e-02 -2.3896962e-02 -2.2451603e-03  1.1308250e-02\n",
      "  -6.8961107e-03  8.5146958e-03]\n",
      " [-8.7149497e-03 -8.1265699e-03  2.2453152e-02  1.7906456e-03\n",
      "  -1.0394222e-02  2.1464221e-02 -2.2893802e-03  7.6970216e-03\n",
      "  -5.9558125e-03 -2.3799657e-03]\n",
      " [ 6.5971781e-03  2.2661705e-02  2.6350381e-02  1.2157290e-02\n",
      "   2.8627109e-02 -2.1999473e-02  1.7590635e-02 -7.6026879e-03\n",
      "  -3.9144047e-03 -2.4064921e-03]\n",
      " [-8.5796053e-03  3.2003562e-03  1.8005829e-02 -4.0980433e-03\n",
      "   4.6843863e-03 -6.8271481e-03 -1.9411294e-03  5.5246418e-03\n",
      "  -3.8976251e-04 -3.3866349e-04]\n",
      " [ 2.6528309e-03 -7.8960508e-03 -1.7386831e-02  8.5122064e-03\n",
      "  -1.0245534e-02 -1.0165502e-03  6.5992710e-05 -5.5062408e-03\n",
      "  -6.9123958e-03 -2.3249188e-03]\n",
      " [-6.1942516e-03 -8.1659313e-03 -5.2959337e-03 -4.2629656e-03\n",
      "   3.4012422e-03 -8.8471565e-03 -2.0920970e-03 -4.3025687e-03\n",
      "  -5.4476694e-03  4.9319961e-03]\n",
      " [-8.5523129e-03 -2.9690645e-03  5.9737060e-03 -4.1309460e-03\n",
      "  -1.1637955e-02  3.4149159e-02 -2.2067544e-03 -4.9524694e-03\n",
      "   9.1411090e-03 -2.3065268e-03]\n",
      " [-1.8109385e-03 -7.9559078e-03 -3.0752551e-03 -4.1166269e-03\n",
      "  -1.1771627e-02  1.7466594e-02 -2.2363309e-03  2.1865647e-03\n",
      "   9.5504280e-03  1.1733160e-03]\n",
      " [ 1.7495543e-02  4.8832037e-03 -2.3396682e-02 -4.2058984e-03\n",
      "   3.0582653e-02 -2.1547370e-02 -2.2647202e-03  7.1730051e-04\n",
      "   1.5307024e-02 -2.3713522e-03]\n",
      " [ 1.5634133e-02 -4.4566058e-03 -4.8652166e-03  2.6996788e-03\n",
      "  -1.1382816e-02  1.1011140e-02 -2.2658599e-03 -4.8948615e-03\n",
      "  -4.2831688e-03 -2.3543371e-03]]\n"
     ]
    }
   ],
   "source": [
    "w0=network.get_weights_gradients(0)\n",
    "w1=network.get_weights_gradients(1)\n",
    "print(w0,w1)"
   ]
  },
  {
   "cell_type": "code",
   "execution_count": 9,
   "metadata": {},
   "outputs": [],
   "source": [
    "b0=network.get_biases_gradients(0)\n",
    "b1=network.get_biases_gradients(1)"
   ]
  },
  {
   "cell_type": "code",
   "execution_count": 10,
   "metadata": {},
   "outputs": [],
   "source": [
    "wthresh=[]\n",
    "bthresh=[]\n",
    "for layers in [0,1]:\n",
    "\n",
    "    compression_density=0.1\n",
    "\n",
    "    wt=network.get_unbiased_threshold_for_gradients(\n",
    "        layers, compression_density=1*compression_density, sketch_biases=False\n",
    "    )\n",
    "\n",
    "    bt=network.get_unbiased_threshold_for_gradients(\n",
    "        layers, compression_density=1*compression_density, sketch_biases=True\n",
    "    )\n",
    "    wthresh.append(wt)\n",
    "    bthresh.append(bt)\n"
   ]
  },
  {
   "cell_type": "code",
   "execution_count": 11,
   "metadata": {},
   "outputs": [
    {
     "name": "stdout",
     "output_type": "stream",
     "text": [
      "[0.01789533533155918, 0.0238969624042511] [0.052507184445858, 0.20508068799972534]\n"
     ]
    }
   ],
   "source": [
    "print(wthresh,bthresh)"
   ]
  },
  {
   "cell_type": "code",
   "execution_count": 12,
   "metadata": {},
   "outputs": [
    {
     "name": "stdout",
     "output_type": "stream",
     "text": [
      "[ 0.03671202  0.05250718 -0.00626167  0.00479284  0.03595268  0.03899039\n",
      " -0.02333014  0.01098991 -0.00206941 -0.00152589] [-0.10625004 -0.20508069  0.14035098  0.00604025  0.08509448 -0.06772582\n",
      "  0.11420869  0.00428471  0.04744843 -0.01204392]\n"
     ]
    }
   ],
   "source": [
    "print(b0,b1)"
   ]
  },
  {
   "cell_type": "code",
   "execution_count": 13,
   "metadata": {},
   "outputs": [],
   "source": [
    "wgrads=[]\n",
    "bgrads=[]"
   ]
  },
  {
   "cell_type": "code",
   "execution_count": 14,
   "metadata": {},
   "outputs": [],
   "source": [
    "for layers in [0,1]:\n",
    "    seed=np.random.randint(100)\n",
    "    pregenerate=True\n",
    "\n",
    "    x = network.get_unbiased_indexed_sketch_for_gradients(\n",
    "        layer_index=layers,\n",
    "        compression_density=compression_density,\n",
    "        sketch_biases=False,\n",
    "        seed_for_hashing=seed,\n",
    "        pregenerate_distribution=pregenerate,\n",
    "        threshold=wthresh[layers],\n",
    "    )\n",
    "\n",
    "    y = network.get_unbiased_indexed_sketch_for_gradients(\n",
    "        layer_index=layers,\n",
    "        compression_density=5*compression_density,\n",
    "        sketch_biases=True,\n",
    "        seed_for_hashing=seed,\n",
    "        pregenerate_distribution=pregenerate,\n",
    "        threshold=bthresh[layers],\n",
    "    )\n",
    "    wgrads.append(x)\n",
    "    bgrads.append(y)"
   ]
  },
  {
   "cell_type": "code",
   "execution_count": 16,
   "metadata": {},
   "outputs": [],
   "source": [
    "for layers in [0,1]:\n",
    "    \n",
    "    w_values = np.ravel(\n",
    "        np.hstack([node_weights[layers] for node_weights in [wgrads]])\n",
    "    )\n",
    "    b_values = np.ravel(\n",
    "        np.hstack([node_biases[layers] for node_biases in [bgrads]])\n",
    "    )\n",
    "    network.set_unbiased_gradients_from_indices_values(\n",
    "        layer_index=layers, indices=w_values, set_biases=False, threshold=wthresh[layers]\n",
    "    )\n",
    "    network.set_unbiased_gradients_from_indices_values(\n",
    "        layer_index=layers, indices=b_values, set_biases=True, threshold=bthresh[layers]\n",
    "    )"
   ]
  },
  {
   "cell_type": "code",
   "execution_count": 113,
   "metadata": {},
   "outputs": [
    {
     "name": "stdout",
     "output_type": "stream",
     "text": [
      "[0.009753064252436161, 0.005380359012633562] [0.012643870897591114, 0.24587056040763855]\n"
     ]
    }
   ],
   "source": [
    "print(wthresh,bthresh)"
   ]
  },
  {
   "cell_type": "code",
   "execution_count": 15,
   "metadata": {},
   "outputs": [
    {
     "name": "stdout",
     "output_type": "stream",
     "text": [
      "[array([  4, -41, -34, -82,  29,  85,  87, -78,   0, -79], dtype=int32), array([ -5, -14,  13, -64,  12,  23, -25, -83,   0,  22], dtype=int32)] [array([ 0, -6,  0,  1,  0], dtype=int32), array([ 0,  6, -1,  0,  0], dtype=int32)]\n"
     ]
    }
   ],
   "source": [
    "print(wgrads,bgrads)"
   ]
  },
  {
   "cell_type": "code",
   "execution_count": 17,
   "metadata": {},
   "outputs": [
    {
     "data": {
      "text/plain": [
       "array([ 0.        ,  0.05250718,  0.        ,  0.        ,  0.        ,\n",
       "        0.        , -0.05250718,  0.        ,  0.        ,  0.        ],\n",
       "      dtype=float32)"
      ]
     },
     "execution_count": 17,
     "metadata": {},
     "output_type": "execute_result"
    }
   ],
   "source": [
    "network.get_biases_gradients(0)"
   ]
  },
  {
   "cell_type": "code",
   "execution_count": null,
   "metadata": {},
   "outputs": [],
   "source": []
  }
 ],
 "metadata": {
  "kernelspec": {
   "display_name": "Python 3.9.13 64-bit",
   "language": "python",
   "name": "python3"
  },
  "language_info": {
   "codemirror_mode": {
    "name": "ipython",
    "version": 3
   },
   "file_extension": ".py",
   "mimetype": "text/x-python",
   "name": "python",
   "nbconvert_exporter": "python",
   "pygments_lexer": "ipython3",
   "version": "3.9.13"
  },
  "orig_nbformat": 4,
  "vscode": {
   "interpreter": {
    "hash": "50292dbb1f747f7151d445135d392af3138fb3c65386d17d9510cb605222b10b"
   }
  }
 },
 "nbformat": 4,
 "nbformat_minor": 2
}
