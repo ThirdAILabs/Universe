{
 "cells": [
  {
   "cell_type": "code",
   "execution_count": 1,
   "metadata": {},
   "outputs": [],
   "source": [
    "import numpy as np\n",
    "from thirdai import bolt"
   ]
  },
  {
   "cell_type": "code",
   "execution_count": 2,
   "metadata": {},
   "outputs": [],
   "source": [
    "model = bolt.UniversalDeepTransformer(\n",
    "    data_types = {\n",
    "        \"QUERY\" : bolt.types.text(),\n",
    "        \"DOC_ID\" : bolt.types.categorical(delimiter = \":\")\n",
    "    },\n",
    "    target = \"DOC_ID\", \n",
    "    n_target_classes = 10000,\n",
    "    integer_target=True,\n",
    "    options = {\n",
    "        \"extreme_output_dim\" : 1000,\n",
    "        \"fhr\" : 100,\n",
    "        \"extreme_num_hashes\" : 4,\n",
    "        \"embedding_dimension\" : 2048,\n",
    "        \"extreme_classification\" : True\n",
    "    }\n",
    ")\n",
    "index = model.get_index()"
   ]
  },
  {
   "cell_type": "code",
   "execution_count": 5,
   "metadata": {},
   "outputs": [],
   "source": [
    "ind = np.array([[1,2],[3,4]])\n",
    "val = np.array([[1,2],[3,4]])"
   ]
  },
  {
   "cell_type": "code",
   "execution_count": 6,
   "metadata": {},
   "outputs": [],
   "source": [
    "tensor = bolt.nn.Tensor(indices = ind, values = val, dense_dim = 10)"
   ]
  },
  {
   "cell_type": "code",
   "execution_count": 10,
   "metadata": {},
   "outputs": [
    {
     "data": {
      "text/plain": [
       "[(1, 1), (2, 2)]"
      ]
     },
     "execution_count": 10,
     "metadata": {},
     "output_type": "execute_result"
    }
   ],
   "source": [
    "tensor[0]"
   ]
  },
  {
   "cell_type": "code",
   "execution_count": 21,
   "metadata": {},
   "outputs": [],
   "source": [
    "def make_sparse_tensor_from_numpy(np_array : np.ndarray):\n",
    "    indices = [np.arange(np_array.shape[1]).tolist()]*np_array.shape[0]\n",
    "    values = [np_array[i, :].tolist() for i in range(np_array.shape[0])]\n",
    "    return bolt.nn.Tensor(indices = indices, values = values, dense_dim = 100)"
   ]
  },
  {
   "cell_type": "code",
   "execution_count": 22,
   "metadata": {},
   "outputs": [
    {
     "name": "stdout",
     "output_type": "stream",
     "text": [
      "[0, 1, 2, 3, 4, 5, 6, 7, 8, 9, 10, 11, 12, 13, 14, 15, 16, 17, 18, 19, 20, 21, 22, 23, 24, 25, 26, 27, 28, 29, 30, 31, 32, 33, 34, 35, 36, 37, 38, 39, 40, 41, 42, 43, 44, 45, 46, 47, 48, 49, 50, 51, 52, 53, 54, 55, 56, 57, 58, 59, 60, 61, 62, 63, 64, 65, 66, 67, 68, 69, 70, 71, 72, 73, 74, 75, 76, 77, 78, 79, 80, 81, 82, 83, 84, 85, 86, 87, 88, 89, 90, 91, 92, 93, 94, 95, 96, 97, 98, 99]\n",
      "[0, 1, 2, 3, 4, 5, 6, 7, 8, 9, 10, 11, 12, 13, 14, 15, 16, 17, 18, 19, 20, 21, 22, 23, 24, 25, 26, 27, 28, 29, 30, 31, 32, 33, 34, 35, 36, 37, 38, 39, 40, 41, 42, 43, 44, 45, 46, 47, 48, 49, 50, 51, 52, 53, 54, 55, 56, 57, 58, 59, 60, 61, 62, 63, 64, 65, 66, 67, 68, 69, 70, 71, 72, 73, 74, 75, 76, 77, 78, 79, 80, 81, 82, 83, 84, 85, 86, 87, 88, 89, 90, 91, 92, 93, 94, 95, 96, 97, 98, 99]\n"
     ]
    },
    {
     "ename": "ValueError",
     "evalue": "Cannot specify indices for a dense tensor.",
     "output_type": "error",
     "traceback": [
      "\u001b[0;31m---------------------------------------------------------------------------\u001b[0m",
      "\u001b[0;31mValueError\u001b[0m                                Traceback (most recent call last)",
      "\u001b[1;32m/home/shubh/Universe/auto_ml/python_bindings/train_tensors.ipynb Cell 5\u001b[0m line \u001b[0;36m2\n\u001b[1;32m      <a href='vscode-notebook-cell://ssh-remote%2Bshubh-1/home/shubh/Universe/auto_ml/python_bindings/train_tensors.ipynb#X43sdnNjb2RlLXJlbW90ZQ%3D%3D?line=0'>1</a>\u001b[0m array \u001b[39m=\u001b[39m np\u001b[39m.\u001b[39marange(\u001b[39m1000\u001b[39m)\u001b[39m.\u001b[39mreshape(\u001b[39m10\u001b[39m, \u001b[39m100\u001b[39m)\n\u001b[0;32m----> <a href='vscode-notebook-cell://ssh-remote%2Bshubh-1/home/shubh/Universe/auto_ml/python_bindings/train_tensors.ipynb#X43sdnNjb2RlLXJlbW90ZQ%3D%3D?line=1'>2</a>\u001b[0m make_sparse_tensor_from_numpy(array)\n",
      "\u001b[1;32m/home/shubh/Universe/auto_ml/python_bindings/train_tensors.ipynb Cell 5\u001b[0m line \u001b[0;36m6\n\u001b[1;32m      <a href='vscode-notebook-cell://ssh-remote%2Bshubh-1/home/shubh/Universe/auto_ml/python_bindings/train_tensors.ipynb#X43sdnNjb2RlLXJlbW90ZQ%3D%3D?line=3'>4</a>\u001b[0m \u001b[39mprint\u001b[39m(indices[\u001b[39m0\u001b[39m])\n\u001b[1;32m      <a href='vscode-notebook-cell://ssh-remote%2Bshubh-1/home/shubh/Universe/auto_ml/python_bindings/train_tensors.ipynb#X43sdnNjb2RlLXJlbW90ZQ%3D%3D?line=4'>5</a>\u001b[0m \u001b[39mprint\u001b[39m(values[\u001b[39m0\u001b[39m])\n\u001b[0;32m----> <a href='vscode-notebook-cell://ssh-remote%2Bshubh-1/home/shubh/Universe/auto_ml/python_bindings/train_tensors.ipynb#X43sdnNjb2RlLXJlbW90ZQ%3D%3D?line=5'>6</a>\u001b[0m \u001b[39mreturn\u001b[39;00m bolt\u001b[39m.\u001b[39;49mnn\u001b[39m.\u001b[39;49mTensor(indices \u001b[39m=\u001b[39;49m indices, values \u001b[39m=\u001b[39;49m values, dense_dim \u001b[39m=\u001b[39;49m \u001b[39m100\u001b[39;49m)\n",
      "\u001b[0;31mValueError\u001b[0m: Cannot specify indices for a dense tensor."
     ]
    }
   ],
   "source": [
    "array = np.arange(1000).reshape(10, 100)\n",
    "make_sparse_tensor_from_numpy(array)"
   ]
  },
  {
   "cell_type": "code",
   "execution_count": 5,
   "metadata": {},
   "outputs": [],
   "source": [
    "def make_output_dataset(labels : list, output_dim : int, mach_index, label_dim = 4294967295):\n",
    "\n",
    "    def make_sparse_tensor(labels, output_dim):\n",
    "        return bolt.nn.Tensor(\n",
    "            indices = labels, \n",
    "            values = [[1]*len(x) for x in labels], \n",
    "            dense_dim = output_dim\n",
    "            )\n",
    "\n",
    "    output_tensor = make_sparse_tensor(labels, output_dim)\n",
    "\n",
    "    def transform_label_to_mach_label(mach_index, labels):\n",
    "        mach_labels = []\n",
    "        for label in labels:\n",
    "            new_labels = []\n",
    "            for l in label:\n",
    "                new_labels+=mach_index.get_entity_hashes(l)\n",
    "            mach_labels.append(new_labels)\n",
    "        return mach_labels\n",
    "    \n",
    "    mach_labels = transform_label_to_mach_label(mach_index, labels)\n",
    "\n",
    "    mach_label_tensor = make_sparse_tensor(labels = mach_labels, output_dim = label_dim)\n",
    "\n",
    "    return make_input_dataset([output_tensor, mach_label_tensor])"
   ]
  },
  {
   "cell_type": "code",
   "execution_count": 6,
   "metadata": {},
   "outputs": [],
   "source": [
    "input1 = np.arange(1000).reshape(10, 100)\n",
    "input2 = np.arange(2000).reshape(10, 200)\n",
    "tensor1 = bolt.nn.Tensor(values = input1, with_grad = False)\n",
    "tensor2 = bolt.nn.Tensor(values = input2, with_grad = False)\n",
    "\n",
    "labels = [[i] for i in range(tensor1.activations.shape[0])]\n",
    "\n",
    "input_dataset = make_input_dataset([tensor1])\n",
    "output_dataset = make_output_dataset(labels = labels, output_dim = 1000, mach_index = index)"
   ]
  },
  {
   "cell_type": "code",
   "execution_count": 7,
   "metadata": {},
   "outputs": [
    {
     "name": "stdout",
     "output_type": "stream",
     "text": [
      "[0]\n",
      "[265 311 926 563]\n",
      "[ 0.  1.  2.  3.  4.  5.  6.  7.  8.  9. 10. 11. 12. 13. 14. 15. 16. 17.\n",
      " 18. 19. 20. 21. 22. 23. 24. 25. 26. 27. 28. 29. 30. 31. 32. 33. 34. 35.\n",
      " 36. 37. 38. 39. 40. 41. 42. 43. 44. 45. 46. 47. 48. 49. 50. 51. 52. 53.\n",
      " 54. 55. 56. 57. 58. 59. 60. 61. 62. 63. 64. 65. 66. 67. 68. 69. 70. 71.\n",
      " 72. 73. 74. 75. 76. 77. 78. 79. 80. 81. 82. 83. 84. 85. 86. 87. 88. 89.\n",
      " 90. 91. 92. 93. 94. 95. 96. 97. 98. 99.]\n"
     ]
    }
   ],
   "source": [
    "print(output_dataset[0][0].active_neurons[0])\n",
    "print(output_dataset[0][1].active_neurons[0])\n",
    "print(input_dataset[0][0].activations[0])"
   ]
  },
  {
   "cell_type": "code",
   "execution_count": 8,
   "metadata": {},
   "outputs": [
    {
     "ename": "AttributeError",
     "evalue": "'list' object has no attribute 'active_neurons'",
     "output_type": "error",
     "traceback": [
      "\u001b[0;31m---------------------------------------------------------------------------\u001b[0m",
      "\u001b[0;31mAttributeError\u001b[0m                            Traceback (most recent call last)",
      "\u001b[1;32m/home/shubh/Universe/auto_ml/python_bindings/train_tensors.ipynb Cell 7\u001b[0m line \u001b[0;36m1\n\u001b[0;32m----> <a href='vscode-notebook-cell://ssh-remote%2Bshubh-1/home/shubh/Universe/auto_ml/python_bindings/train_tensors.ipynb#X42sdnNjb2RlLXJlbW90ZQ%3D%3D?line=0'>1</a>\u001b[0m input_dataset\u001b[39m.\u001b[39;49mactive_neurons\n",
      "\u001b[0;31mAttributeError\u001b[0m: 'list' object has no attribute 'active_neurons'"
     ]
    }
   ],
   "source": [
    "input_dataset.active_neurons"
   ]
  },
  {
   "cell_type": "code",
   "execution_count": null,
   "metadata": {},
   "outputs": [
    {
     "ename": "",
     "evalue": "",
     "output_type": "error",
     "traceback": [
      "\u001b[1;31mThe Kernel crashed while executing code in the the current cell or a previous cell. Please review the code in the cell(s) to identify a possible cause of the failure. Click <a href='https://aka.ms/vscodeJupyterKernelCrash'>here</a> for more info. View Jupyter <a href='command:jupyter.viewOutput'>log</a> for further details."
     ]
    }
   ],
   "source": [
    "model.train_on_tensors(\n",
    "    input = input_dataset,\n",
    "    output = output_dataset\n",
    ")"
   ]
  },
  {
   "cell_type": "code",
   "execution_count": 40,
   "metadata": {},
   "outputs": [],
   "source": [
    "data = tuple([input_dataset, output_dataset])"
   ]
  },
  {
   "cell_type": "code",
   "execution_count": null,
   "metadata": {},
   "outputs": [],
   "source": []
  }
 ],
 "metadata": {
  "kernelspec": {
   "display_name": "Python 3",
   "language": "python",
   "name": "python3"
  },
  "language_info": {
   "codemirror_mode": {
    "name": "ipython",
    "version": 3
   },
   "file_extension": ".py",
   "mimetype": "text/x-python",
   "name": "python",
   "nbconvert_exporter": "python",
   "pygments_lexer": "ipython3",
   "version": "3.8.10"
  }
 },
 "nbformat": 4,
 "nbformat_minor": 2
}
