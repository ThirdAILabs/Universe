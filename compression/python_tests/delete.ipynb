{
 "cells": [
  {
   "cell_type": "code",
   "execution_count": 1,
   "metadata": {},
   "outputs": [],
   "source": [
    "import numpy as np\n",
    "from thirdai import bolt, dataset\n",
    "import os"
   ]
  },
  {
   "cell_type": "code",
   "execution_count": 5,
   "metadata": {},
   "outputs": [],
   "source": [
    "%load_ext autoreload\n",
    "%autoreload 2"
   ]
  },
  {
   "cell_type": "code",
   "execution_count": 10,
   "metadata": {},
   "outputs": [],
   "source": [
    "def setup_module():\n",
    "  if not os.path.exists(\"mnist\"):\n",
    "    os.system(\n",
    "      \"curl https://www.csie.ntu.edu.tw/~cjlin/libsvmtools/datasets/multiclass/mnist.bz2 --output mnist.bz2\"\n",
    "    )\n",
    "    os.system(\"bzip2 -d mnist.bz2\")\n",
    "\n",
    "  if not os.path.exists(\"mnist.t\"):\n",
    "    os.system(\n",
    "      \"curl https://www.csie.ntu.edu.tw/~cjlin/libsvmtools/datasets/multiclass/mnist.t.bz2 --output mnist.t.bz2\"\n",
    "    )\n",
    "    os.system(\"bzip2 -d mnist.t.bz2\")"
   ]
  },
  {
   "cell_type": "code",
   "execution_count": 26,
   "metadata": {},
   "outputs": [],
   "source": [
    "from test_dragon import test_distributed_training\n",
    "from utils import gen_numpy_training_data"
   ]
  },
  {
   "cell_type": "code",
   "execution_count": 31,
   "metadata": {},
   "outputs": [
    {
     "name": "stdout",
     "output_type": "stream",
     "text": [
      "Loaded 60000 vectors from 'mnist' in 0 seconds\n",
      "Loaded 10000 vectors from 'mnist.t' in 0 seconds\n",
      "\n",
      "======================= Bolt Model =======================\n",
      "input_1 (Input): dim=784\n",
      "input_1 -> fc_1 (FullyConnected): dim=100, sparsity=0.2, act_func=ReLU\n",
      "fc_1 -> fc_2 (FullyConnected): dim=10, sparsity=1, act_func=Softmax\n",
      "============================================================\n",
      "\n",
      "======================= Bolt Model =======================\n",
      "input_1 (Input): dim=784\n",
      "input_1 -> fc_1 (FullyConnected): dim=100, sparsity=0.2, act_func=ReLU\n",
      "fc_1 -> fc_2 (FullyConnected): dim=10, sparsity=1, act_func=Softmax\n",
      "============================================================\n",
      "\n",
      "======================= Bolt Model =======================\n",
      "input_1 (Input): dim=784\n",
      "input_1 -> fc_1 (FullyConnected): dim=100, sparsity=0.2, act_func=ReLU\n",
      "fc_1 -> fc_2 (FullyConnected): dim=10, sparsity=1, act_func=Softmax\n",
      "============================================================\n",
      "\n",
      "======================= Bolt Model =======================\n",
      "input_1 (Input): dim=784\n",
      "input_1 -> fc_1 (FullyConnected): dim=100, sparsity=0.2, act_func=ReLU\n",
      "fc_1 -> fc_2 (FullyConnected): dim=10, sparsity=1, act_func=Softmax\n",
      "============================================================\n",
      "\n",
      "======================= Bolt Model =======================\n",
      "input_1 (Input): dim=784\n",
      "input_1 -> fc_1 (FullyConnected): dim=100, sparsity=0.2, act_func=ReLU\n",
      "fc_1 -> fc_2 (FullyConnected): dim=10, sparsity=1, act_func=Softmax\n",
      "============================================================\n",
      "\n",
      "======================= Bolt Model =======================\n",
      "input_1 (Input): dim=784\n",
      "input_1 -> fc_1 (FullyConnected): dim=100, sparsity=0.2, act_func=ReLU\n",
      "fc_1 -> fc_2 (FullyConnected): dim=10, sparsity=1, act_func=Softmax\n",
      "============================================================\n",
      "\n",
      "======================= Bolt Model =======================\n",
      "input_1 (Input): dim=784\n",
      "input_1 -> fc_1 (FullyConnected): dim=100, sparsity=0.2, act_func=ReLU\n",
      "fc_1 -> fc_2 (FullyConnected): dim=10, sparsity=1, act_func=Softmax\n",
      "============================================================\n",
      "\n",
      "======================= Bolt Model =======================\n",
      "input_1 (Input): dim=784\n",
      "input_1 -> fc_1 (FullyConnected): dim=100, sparsity=0.2, act_func=ReLU\n",
      "fc_1 -> fc_2 (FullyConnected): dim=10, sparsity=1, act_func=Softmax\n",
      "============================================================\n",
      "\n",
      "======================= Bolt Model =======================\n",
      "input_1 (Input): dim=784\n",
      "input_1 -> fc_1 (FullyConnected): dim=100, sparsity=0.2, act_func=ReLU\n",
      "fc_1 -> fc_2 (FullyConnected): dim=10, sparsity=1, act_func=Softmax\n",
      "============================================================\n",
      "\n",
      "======================= Bolt Model =======================\n",
      "input_1 (Input): dim=784\n",
      "input_1 -> fc_1 (FullyConnected): dim=100, sparsity=0.2, act_func=ReLU\n",
      "fc_1 -> fc_2 (FullyConnected): dim=10, sparsity=1, act_func=Softmax\n",
      "============================================================\n",
      "\n",
      "======================= Bolt Model =======================\n",
      "input_1 (Input): dim=784\n",
      "input_1 -> fc_1 (FullyConnected): dim=100, sparsity=0.2, act_func=ReLU\n",
      "fc_1 -> fc_2 (FullyConnected): dim=10, sparsity=1, act_func=Softmax\n",
      "============================================================\n",
      "\n",
      "======================= Bolt Model =======================\n",
      "input_1 (Input): dim=784\n",
      "input_1 -> fc_1 (FullyConnected): dim=100, sparsity=0.2, act_func=ReLU\n",
      "fc_1 -> fc_2 (FullyConnected): dim=10, sparsity=1, act_func=Softmax\n",
      "============================================================\n",
      "\n",
      "======================= Bolt Model =======================\n",
      "input_1 (Input): dim=784\n",
      "input_1 -> fc_1 (FullyConnected): dim=100, sparsity=0.2, act_func=ReLU\n",
      "fc_1 -> fc_2 (FullyConnected): dim=10, sparsity=1, act_func=Softmax\n",
      "============================================================\n",
      "\n",
      "======================= Bolt Model =======================\n",
      "input_1 (Input): dim=784\n",
      "input_1 -> fc_1 (FullyConnected): dim=100, sparsity=0.2, act_func=ReLU\n",
      "fc_1 -> fc_2 (FullyConnected): dim=10, sparsity=1, act_func=Softmax\n",
      "============================================================\n",
      "\n",
      "======================= Bolt Model =======================\n",
      "input_1 (Input): dim=784\n",
      "input_1 -> fc_1 (FullyConnected): dim=100, sparsity=0.2, act_func=ReLU\n",
      "fc_1 -> fc_2 (FullyConnected): dim=10, sparsity=1, act_func=Softmax\n",
      "============================================================\n",
      "\n",
      "======================= Bolt Model =======================\n",
      "input_1 (Input): dim=784\n",
      "input_1 -> fc_1 (FullyConnected): dim=100, sparsity=0.2, act_func=ReLU\n",
      "fc_1 -> fc_2 (FullyConnected): dim=10, sparsity=1, act_func=Softmax\n",
      "============================================================\n",
      "\n",
      "======================= Bolt Model =======================\n",
      "input_1 (Input): dim=784\n",
      "input_1 -> fc_1 (FullyConnected): dim=100, sparsity=0.2, act_func=ReLU\n",
      "fc_1 -> fc_2 (FullyConnected): dim=10, sparsity=1, act_func=Softmax\n",
      "============================================================\n"
     ]
    }
   ],
   "source": [
    "setup_module()\n",
    "num_models = 16\n",
    "train_data, train_labels = gen_numpy_training_data(\n",
    "    n_classes=10, n_samples=1000, convert_to_bolt_dataset=False\n",
    ")\n",
    "test_data, test_labels = gen_numpy_training_data(\n",
    "    n_classes=10, n_samples=100, convert_to_bolt_dataset=False\n",
    ")\n",
    "train_data, train_labels = dataset.load_bolt_svm_dataset(\"mnist\", 250)\n",
    "test_data, test_labels = dataset.load_bolt_svm_dataset(\"mnist.t\", 250)\n",
    "models = test_distributed_training(\n",
    "    num_models=num_models, train_data=train_data, train_labels=train_labels, input_layer_dim=784, hidden_layer_dim=100, output_layer_dim=10, is_numpy_data=False\n",
    ")"
   ]
  },
  {
   "cell_type": "code",
   "execution_count": 32,
   "metadata": {},
   "outputs": [],
   "source": [
    "for model in models:\n",
    "  assert np.all(models[0].get_layer(\"fc_1\").weights.get()== model.get_layer(\"fc_1\").weights.get())\n",
    "  assert np.all(models[0].get_layer(\"fc_2\").weights.get()== model.get_layer(\"fc_2\").weights.get())\n",
    "  assert np.all(models[0].get_layer(\"fc_1\").biases.get()== model.get_layer(\"fc_1\").biases.get())\n",
    "  assert np.all(models[0].get_layer(\"fc_2\").biases.get()== model.get_layer(\"fc_2\").biases.get())"
   ]
  },
  {
   "cell_type": "code",
   "execution_count": 33,
   "metadata": {},
   "outputs": [],
   "source": [
    "def get_acc(model,test_data,test_labels):\n",
    "  predict_config = (\n",
    "      bolt.graph.PredictConfig.make().with_metrics([\"categorical_accuracy\"]).silence()\n",
    "  )\n",
    "  acc = model.predict(\n",
    "    test_data=test_data,\n",
    "    test_labels=test_labels,\n",
    "    predict_config=predict_config,\n",
    "  )\n",
    "  return acc[0][\"categorical_accuracy\"]"
   ]
  },
  {
   "cell_type": "code",
   "execution_count": 34,
   "metadata": {},
   "outputs": [
    {
     "name": "stdout",
     "output_type": "stream",
     "text": [
      "0.9392\n",
      "0.9392\n",
      "0.9392\n",
      "0.9392\n",
      "0.9392\n",
      "0.9392\n",
      "0.9392\n",
      "0.9392\n",
      "0.9392\n",
      "0.9392\n",
      "0.9392\n",
      "0.9392\n",
      "0.9392\n",
      "0.9392\n",
      "0.9392\n",
      "0.9392\n"
     ]
    }
   ],
   "source": [
    "for model in models:\n",
    "  print(get_acc(model,test_data,test_labels))"
   ]
  },
  {
   "cell_type": "code",
   "execution_count": null,
   "metadata": {},
   "outputs": [],
   "source": []
  }
 ],
 "metadata": {
  "kernelspec": {
   "display_name": "Python 3.9.13 64-bit",
   "language": "python",
   "name": "python3"
  },
  "language_info": {
   "codemirror_mode": {
    "name": "ipython",
    "version": 3
   },
   "file_extension": ".py",
   "mimetype": "text/x-python",
   "name": "python",
   "nbconvert_exporter": "python",
   "pygments_lexer": "ipython3",
   "version": "3.9.13"
  },
  "orig_nbformat": 4,
  "vscode": {
   "interpreter": {
    "hash": "50292dbb1f747f7151d445135d392af3138fb3c65386d17d9510cb605222b10b"
   }
  }
 },
 "nbformat": 4,
 "nbformat_minor": 2
}
