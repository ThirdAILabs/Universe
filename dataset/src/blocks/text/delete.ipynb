{
 "cells": [
  {
   "cell_type": "code",
   "execution_count": 1,
   "metadata": {},
   "outputs": [
    {
     "name": "stderr",
     "output_type": "stream",
     "text": [
      "/home/shubh/.local/lib/python3.8/site-packages/tqdm/auto.py:22: TqdmWarning: IProgress not found. Please update jupyter and ipywidgets. See https://ipywidgets.readthedocs.io/en/stable/user_install.html\n",
      "  from .autonotebook import tqdm as notebook_tqdm\n"
     ]
    }
   ],
   "source": [
    "from thirdai import data, dataset"
   ]
  },
  {
   "cell_type": "code",
   "execution_count": 2,
   "metadata": {},
   "outputs": [],
   "source": [
    "text_samples = [\n",
    "    \"Lord of the Rings by JRR Tolkien is the greatest piece of fiction written.\"\n",
    "]"
   ]
  },
  {
   "cell_type": "code",
   "execution_count": 3,
   "metadata": {},
   "outputs": [],
   "source": [
    "ngram_encoder = dataset.NGramEncoder(n=1)\n",
    "ngram_encoder2 = dataset.NGramEncoder(n=2)\n",
    "pairgram_encoder = dataset.PairGramEncoder()\n",
    "fixed_dim_encoder = dataset.FixedDimEncoder(max_tokens = 100)\n",
    "\n",
    "composite_encoder = dataset.CompositeEncoder(\n",
    "    max_tokens = 100,\n",
    "    encoders = [\n",
    "        dataset.NGramEncoder(n=1),\n",
    "        dataset.NGramEncoder(n=2),\n",
    "        dataset.PairGramEncoder()\n",
    "    ],\n",
    "    sampling_strategy = \"fifo\"\n",
    ")"
   ]
  },
  {
   "cell_type": "code",
   "execution_count": 4,
   "metadata": {},
   "outputs": [],
   "source": [
    "tokenizer = dataset.NaiveSplitTokenizer(delimiter=\" \")"
   ]
  },
  {
   "cell_type": "code",
   "execution_count": 13,
   "metadata": {},
   "outputs": [],
   "source": [
    "def transform(tokenizer, encoder):\n",
    "    transformation = data.transformations.Text(\n",
    "        input_column = \"input\",\n",
    "        output_indices = \"tokens\",\n",
    "        output_values=None,\n",
    "        tokenizer = tokenizer,\n",
    "        encoder = encoder,\n",
    "        dim=0xFFFFFFFF\n",
    "    )\n",
    "    columns = data.ColumnMap({\"input\": data.columns.StringColumn(text_samples)})\n",
    "    output = transformation(columns)\n",
    "    return output"
   ]
  },
  {
   "cell_type": "code",
   "execution_count": 14,
   "metadata": {},
   "outputs": [
    {
     "name": "stdout",
     "output_type": "stream",
     "text": [
      "generated encodings size: 14\n",
      "current encoding size: 14\n",
      "generated encodings size: 27\n",
      "current encoding size: 41\n",
      "generated encodings size: 105\n",
      "current encoding size: 146\n"
     ]
    }
   ],
   "source": [
    "ngram_output = transform(tokenizer, ngram_encoder)\n",
    "ngram_2_output = transform(tokenizer, ngram_encoder2)\n",
    "pairgram_output = transform(tokenizer, pairgram_encoder)\n",
    "fixed_dim_output = transform(tokenizer, fixed_dim_encoder)\n",
    "\n",
    "composite_output = transform(tokenizer, composite_encoder)"
   ]
  },
  {
   "cell_type": "code",
   "execution_count": 15,
   "metadata": {},
   "outputs": [
    {
     "name": "stdout",
     "output_type": "stream",
     "text": [
      "[2404589427, 3169505401, 4174496210, 3059272593, 2913386271, 1569519593, 1634292382, 2174608854, 4174496210, 598481703, 3533171813, 3169505401, 1679377089, 1262999890]\n",
      "14\n"
     ]
    }
   ],
   "source": [
    "print(ngram_output[\"tokens\"].data()[0])\n",
    "print(len(ngram_output[\"tokens\"].data()[0]))\n",
    "ngram1_set = set(ngram_output[\"tokens\"].data()[0])"
   ]
  },
  {
   "cell_type": "code",
   "execution_count": 16,
   "metadata": {},
   "outputs": [
    {
     "name": "stdout",
     "output_type": "stream",
     "text": [
      "[2404589427, 3169505401, 4174496210, 3059272593, 2913386271, 1569519593, 1634292382, 2174608854, 4174496210, 598481703, 3533171813, 3169505401, 1679377089, 1262999890, 3706581437, 3155352976, 1071967212, 3120530541, 1031493174, 667874168, 4092397864, 2675429206, 3428431878, 1198337408, 3881087726, 3503644321, 1825509690]\n",
      "27\n"
     ]
    }
   ],
   "source": [
    "print(ngram_2_output[\"tokens\"].data()[0])\n",
    "print(len(ngram_2_output[\"tokens\"].data()[0]))\n",
    "ngram2_set = set(ngram_2_output[\"tokens\"].data()[0])"
   ]
  },
  {
   "cell_type": "code",
   "execution_count": 17,
   "metadata": {},
   "outputs": [
    {
     "name": "stdout",
     "output_type": "stream",
     "text": [
      "[2842960571, 3706581437, 2046545129, 16187220, 3155352976, 4051689901, 3263166101, 43370449, 1071967212, 2919340031, 3408511495, 153606991, 1179835422, 3120530541, 1297157952, 2066876749, 3646526585, 2528679748, 164971351, 1031493174, 736714293, 2003726208, 3580186316, 2324983961, 1966156010, 958201025, 667874168, 321297120, 2535529304, 892264852, 1789625681, 1439087906, 424175625, 3355074592, 4092397864, 640396114, 16187220, 3155352976, 4051689901, 3968506174, 2172914701, 1277592620, 1758553388, 2675429206, 4051689901, 903030287, 2537076551, 3428431878, 871655317, 4217090936, 1627929331, 1442562969, 3361302019, 3428431878, 2524544590, 3862894025, 1716840453, 463833792, 2193667795, 2823709370, 3069995441, 2182557915, 2033037509, 463833792, 1198337408, 2582091282, 3706581437, 2046545129, 890695412, 2830346951, 1570602662, 2286908805, 2897745095, 1654578417, 890695412, 1823998364, 3881087726, 2046545129, 1975418469, 3503644321, 2351194300, 1883314191, 986483486, 561840989, 362211903, 195841721, 2351194300, 3589183012, 241581238, 3503644321, 1170145195, 1833494740, 4018468112, 2767582765, 454074814, 3544085901, 967605420, 1028070828, 4043155414, 2767582765, 4275910835, 381127425, 4018468112, 1825509690, 2231387277]\n",
      "105\n"
     ]
    }
   ],
   "source": [
    "print(pairgram_output[\"tokens\"].data()[0])\n",
    "print(len(pairgram_output[\"tokens\"].data()[0]))\n",
    "pairgram_set = set(pairgram_output[\"tokens\"].data()[0])"
   ]
  },
  {
   "cell_type": "code",
   "execution_count": 18,
   "metadata": {},
   "outputs": [
    {
     "name": "stdout",
     "output_type": "stream",
     "text": [
      "[2404589427, 3169505401, 4174496210, 3059272593, 2913386271, 1569519593, 1634292382, 2174608854, 4174496210, 598481703, 3533171813, 3169505401, 1679377089, 1262999890, 2404589427, 3169505401, 4174496210, 3059272593, 2913386271, 1569519593, 1634292382, 2174608854, 4174496210, 598481703, 3533171813, 3169505401, 1679377089, 1262999890, 3706581437, 3155352976, 1071967212, 3120530541, 1031493174, 667874168, 4092397864, 2675429206, 3428431878, 1198337408, 3881087726, 3503644321, 1825509690, 2842960571, 3706581437, 2046545129, 16187220, 3155352976, 4051689901, 3263166101, 43370449, 1071967212, 2919340031, 3408511495, 153606991, 1179835422, 3120530541, 1297157952, 2066876749, 3646526585, 2528679748, 164971351, 1031493174, 736714293, 2003726208, 3580186316, 2324983961, 1966156010, 958201025, 667874168, 321297120, 2535529304, 892264852, 1789625681, 1439087906, 424175625, 3355074592, 4092397864, 640396114, 16187220, 3155352976, 4051689901, 3968506174, 2172914701, 1277592620, 1758553388, 2675429206, 4051689901, 903030287, 2537076551, 3428431878, 871655317, 4217090936, 1627929331, 1442562969, 3361302019, 3428431878, 2524544590, 3862894025, 1716840453, 463833792, 2193667795]\n",
      "100\n"
     ]
    }
   ],
   "source": [
    "print(composite_output[\"tokens\"].data()[0])\n",
    "print(len(composite_output[\"tokens\"].data()[0]))\n",
    "composite_set = set(composite_output[\"tokens\"].data()[0])"
   ]
  },
  {
   "cell_type": "code",
   "execution_count": null,
   "metadata": {},
   "outputs": [],
   "source": []
  }
 ],
 "metadata": {
  "kernelspec": {
   "display_name": "Python 3",
   "language": "python",
   "name": "python3"
  },
  "language_info": {
   "codemirror_mode": {
    "name": "ipython",
    "version": 3
   },
   "file_extension": ".py",
   "mimetype": "text/x-python",
   "name": "python",
   "nbconvert_exporter": "python",
   "pygments_lexer": "ipython3",
   "version": "3.8.10"
  }
 },
 "nbformat": 4,
 "nbformat_minor": 2
}
