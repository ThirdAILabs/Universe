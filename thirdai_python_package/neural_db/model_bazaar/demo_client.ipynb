{
 "cells": [
  {
   "cell_type": "markdown",
   "metadata": {},
   "source": [
    "# Python Client"
   ]
  },
  {
   "cell_type": "code",
   "execution_count": null,
   "metadata": {},
   "outputs": [],
   "source": [
    "# Import ModelBazaar class.\n",
    "import thirdai\n",
    "from thirdai.neural_db import ModelBazaar\n",
    "\n",
    "# Activate your license\n",
    "thirdai.licensing.activate(\"YOUR-THIRDAI-ACTIVATION-KEY\")"
   ]
  },
  {
   "cell_type": "code",
   "execution_count": null,
   "metadata": {},
   "outputs": [],
   "source": [
    "# Initialise a ModelBazaar object with url where model_bazaar is hosted.\n",
    "# Append `/api/` in the url.\n",
    "bazaar = ModelBazaar(base_url=\"http://20.29.78.64//api/\")"
   ]
  },
  {
   "cell_type": "code",
   "execution_count": null,
   "metadata": {},
   "outputs": [],
   "source": [
    "# Used to signup on model bazaar. Sends a email verification link.\n",
    "bazaar.sign_up(email=\"mritunjay@thirdai.com\", password=\"password\", username=\"mj3ai\")"
   ]
  },
  {
   "cell_type": "code",
   "execution_count": null,
   "metadata": {},
   "outputs": [],
   "source": [
    "# Login with your email_id and password.\n",
    "bazaar.log_in(email=\"mritunjay@thirdai.com\", password=\"password\")"
   ]
  },
  {
   "cell_type": "code",
   "execution_count": null,
   "metadata": {},
   "outputs": [],
   "source": [
    "train_extra_options = {\n",
    "    \"num_samples_per_shard\": 3_500_000,\n",
    "    \"allocation_memory\": 300000,\n",
    "    #   ---shard agnostic training params---\n",
    "    \"model_cores\": 20,\n",
    "    \"model_memory\": 200000,\n",
    "    \"csv_id_column\": \"label\",\n",
    "    \"csv_strong_columns\": [\"title\"],\n",
    "    \"csv_weak_columns\": [\"abstract\"],\n",
    "    \"csv_reference_columns\": [\"title\", \"abstract\"],\n",
    "    \"fhr\": 200000,\n",
    "    \"embedding_dim\": 4096,\n",
    "    \"output_dim\": 100000,\n",
    "    \"max_in_memory_batches\": 2000,\n",
    "}"
   ]
  },
  {
   "cell_type": "code",
   "execution_count": null,
   "metadata": {},
   "outputs": [],
   "source": [
    "# Creates a model from scratch trained on given list of documents.\n",
    "# Can be synchronous or asynchronous(default; in which case we call await_train)\n",
    "# `doc_type` can be \"local\"(default), \"nfs\" or \"s3\".\n",
    "model = bazaar.train(\n",
    "    model_name=\"pubmed-35M-10-models-char4-0\",\n",
    "    docs=[\"/model_bazaar/datasets/pubmed/lowercased_all_withoutpapertags.csv\"],\n",
    "    doc_type=\"nfs\",\n",
    "    sharded=True,\n",
    "    is_async=True,\n",
    "    train_extra_options=train_extra_options,\n",
    ")"
   ]
  },
  {
   "cell_type": "code",
   "execution_count": null,
   "metadata": {},
   "outputs": [],
   "source": [
    "# Blocking call to wait till model finishes training.\n",
    "bazaar.await_train(model)"
   ]
  },
  {
   "cell_type": "code",
   "execution_count": null,
   "metadata": {},
   "outputs": [],
   "source": [
    "# Deploys the model and returns an ndb_client which can be used to interact to neural_db.\n",
    "# Can be synchronous or asynchronous(default; in which case we call await_deploy)\n",
    "ndb_client = bazaar.deploy(\n",
    "    model_identifier=model.model_identifier,\n",
    "    deployment_name=\"deployment-0\",\n",
    "    is_async=True,\n",
    ")"
   ]
  },
  {
   "cell_type": "code",
   "execution_count": null,
   "metadata": {},
   "outputs": [],
   "source": [
    "# Blocking call to wait till deployment finishes.\n",
    "bazaar.await_deploy(ndb_client)"
   ]
  },
  {
   "cell_type": "code",
   "execution_count": null,
   "metadata": {},
   "outputs": [],
   "source": [
    "# Insert new files in the neural_db model.\n",
    "ndb_client.insert(\n",
    "    files=[\"/Users/mjay/Documents/MACH.pdf\", \"/Users/mjay/Documents/OpenMPIInstall.pdf\"]\n",
    ")"
   ]
  },
  {
   "cell_type": "code",
   "execution_count": null,
   "metadata": {},
   "outputs": [],
   "source": [
    "# Search the ndb model.\n",
    "results = ndb_client.search(query=\"who are the authors of this paper\", top_k=\"5\")\n",
    "\n",
    "query_text = results[\"query_text\"]\n",
    "references = results[\"references\"]\n",
    "for reference in references:\n",
    "    print(reference[\"text\"])"
   ]
  },
  {
   "cell_type": "code",
   "execution_count": null,
   "metadata": {},
   "outputs": [],
   "source": [
    "# [RLHF] Associate : takes list of dictionaries where each dictionary has 'source' and 'target' keys.\n",
    "ndb_client.associate(\n",
    "    [\n",
    "        {\"source\": \"authors\", \"target\": \"contributors\"},\n",
    "        {\"source\": \"paper\", \"target\": \"document\"},\n",
    "    ]\n",
    ")"
   ]
  },
  {
   "cell_type": "code",
   "execution_count": null,
   "metadata": {},
   "outputs": [],
   "source": [
    "# [RLHF] Upvote/Downvote : takes list of dictionaries where each dictionary has 'query_text' and 'reference_id' keys.\n",
    "best_answer = references[4]\n",
    "good_answer = references[2]\n",
    "ndb_client.upvote(\n",
    "    [\n",
    "        {\"query_text\": query_text, \"reference_id\": best_answer[\"id\"]},\n",
    "        {\"query_text\": query_text, \"reference_id\": good_answer[\"id\"]},\n",
    "    ]\n",
    ")"
   ]
  },
  {
   "cell_type": "code",
   "execution_count": null,
   "metadata": {},
   "outputs": [],
   "source": [
    "# Deletes documents from the deployment so they are not able to be searched over anymore\n",
    "ndb_client.delete([references[0][\"source_id\"]])"
   ]
  },
  {
   "cell_type": "code",
   "execution_count": null,
   "metadata": {},
   "outputs": [],
   "source": [
    "# Undeploys the model.\n",
    "bazaar.undeploy(ndb_client)"
   ]
  },
  {
   "cell_type": "code",
   "execution_count": null,
   "metadata": {},
   "outputs": [],
   "source": [
    "# Deletes the model from model bazaar.\n",
    "bazaar.delete(model_identifier=model.model_identifier)"
   ]
  },
  {
   "cell_type": "code",
   "execution_count": null,
   "metadata": {},
   "outputs": [],
   "source": [
    "# Return a list of models accessible to user on model bazaar.\n",
    "bazaar.list_models()"
   ]
  },
  {
   "cell_type": "code",
   "execution_count": null,
   "metadata": {},
   "outputs": [],
   "source": [
    "# Returns a list of all active deployments.\n",
    "bazaar.list_deployments()"
   ]
  },
  {
   "cell_type": "code",
   "execution_count": null,
   "metadata": {},
   "outputs": [],
   "source": [
    "# Connects to an active deployment.\n",
    "ndb_client = bazaar.connect(deployment_identifier=\"mj3ai/model-0:mj3ai/deployment-0\")"
   ]
  },
  {
   "cell_type": "code",
   "execution_count": null,
   "metadata": {},
   "outputs": [],
   "source": [
    "# Push an NDB model from local to model bazaar\n",
    "bazaar.push_model(\n",
    "    model_name=\"test-upload-2\",\n",
    "    local_path=\"/Users/mjay/test.ndb\",\n",
    "    access_level=\"private\",\n",
    ")"
   ]
  },
  {
   "cell_type": "code",
   "execution_count": null,
   "metadata": {},
   "outputs": [],
   "source": [
    "# Pull model from model bazaar to local\n",
    "ndb_model = bazaar.pull_model(model_identifier=\"mj3ai/model-1\")"
   ]
  }
 ],
 "metadata": {
  "kernelspec": {
   "display_name": "py_3.9",
   "language": "python",
   "name": "python3"
  },
  "language_info": {
   "codemirror_mode": {
    "name": "ipython",
    "version": 3
   },
   "file_extension": ".py",
   "mimetype": "text/x-python",
   "name": "python",
   "nbconvert_exporter": "python",
   "pygments_lexer": "ipython3",
   "version": "3.8.16"
  }
 },
 "nbformat": 4,
 "nbformat_minor": 2
}
