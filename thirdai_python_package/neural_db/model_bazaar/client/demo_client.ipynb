{
    "cells": [
        {
            "cell_type": "markdown",
            "metadata": {},
            "source": [
                "# Python Client"
            ]
        },
        {
            "cell_type": "markdown",
            "metadata": {},
            "source": [
                "### Import ModelBazaar class."
            ]
        },
        {
            "cell_type": "code",
            "execution_count": null,
            "metadata": {},
            "outputs": [],
            "source": [
                "import thirdai\n",
                "from thirdai.neural_db import ModelBazaar\n",
                "\n",
                "# Activate your license\n",
                "thirdai.licensing.activate(\"YOUR-THIRDAI-ACTIVATION-KEY\")"
            ]
        },
        {
            "cell_type": "markdown",
            "metadata": {},
            "source": [
                "### Initialise a ModelBazaar object with url where model_bazaar is hosted."
            ]
        },
        {
            "cell_type": "code",
            "execution_count": null,
            "metadata": {},
            "outputs": [],
            "source": [
                "# default port is 80\n",
                "bazaar = ModelBazaar(base_url=\"http://<bazaar-endpoint>/api/\")"
            ]
        },
        {
            "cell_type": "markdown",
            "metadata": {},
            "source": [
                "### Sign up"
            ]
        },
        {
            "cell_type": "code",
            "execution_count": null,
            "metadata": {},
            "outputs": [],
            "source": [
                "# Sends a email verification link.\n",
                "bazaar.sign_up(email=\"mritunjay@thirdai.com\", password=\"password\", username=\"mj3ai\")"
            ]
        },
        {
            "cell_type": "markdown",
            "metadata": {},
            "source": [
                "### Login"
            ]
        },
        {
            "cell_type": "code",
            "execution_count": null,
            "metadata": {},
            "outputs": [],
            "source": [
                "bazaar.log_in(email=\"mritunjay@thirdai.com\", password=\"password\")"
            ]
        },
        {
            "cell_type": "markdown",
            "metadata": {},
            "source": [
                "### Train options"
            ]
        },
        {
            "cell_type": "code",
            "execution_count": null,
            "metadata": {},
            "outputs": [],
            "source": [
                "train_extra_options = {\n",
                "    \"num_samples_per_shard\": 3500000,\n",
                "    \"allocation_memory\": 250000,\n",
                "#   ---shard agnostic training params---\n",
                "    \"model_cores\": 2,\n",
                "    \"model_memory\": 200000,\n",
                "    \"csv_id_column\": \"label\",\n",
                "    \"csv_strong_columns\": [\"title\"],\n",
                "    \"csv_weak_columns\": [\"abstract\"],\n",
                "    \"csv_reference_columns\": [\"title\", \"abstract\"],\n",
                "    \"fhr\": 200000,\n",
                "    \"embedding_dim\": 4096,\n",
                "    \"output_dim\": 100000,\n",
                "    \"max_in_memory_batches\": 200\n",
                "}"
            ]
        },
        {
            "cell_type": "markdown",
            "metadata": {},
            "source": [
                "### Creates a model from scratch trained on given list of documents."
            ]
        },
        {
            "cell_type": "code",
            "execution_count": null,
            "metadata": {},
            "outputs": [],
            "source": [
                "# Can be synchronous or asynchronous(default; in which case we call await_train)\n",
                "# `doc_type` can be \"local\"(default), \"nfs\" or \"s3\".\n",
                "model = bazaar.train(\n",
                "    model_name=\"pubmed-35M-10-models-char4-0\",\n",
                "    docs=[\"/model_bazaar/datasets/pubmed/lowercased_all_withoutpapertags.csv\"],\n",
                "    doc_type=\"nfs\",\n",
                "    sharded=True,\n",
                "    is_async=True,\n",
                "    train_extra_options=train_extra_options,\n",
                ")"
            ]
        },
        {
            "cell_type": "markdown",
            "metadata": {},
            "source": [
                "### Blocking call to wait till model finishes training."
            ]
        },
        {
            "cell_type": "code",
            "execution_count": null,
            "metadata": {},
            "outputs": [],
            "source": [
                "bazaar.await_train(model)"
            ]
        },
        {
            "cell_type": "markdown",
            "metadata": {},
            "source": [
                "### Deploys the model and returns an ndb_client which can be used to interact to neural_db."
            ]
        },
        {
            "cell_type": "code",
            "execution_count": null,
            "metadata": {},
            "outputs": [],
            "source": [
                "# Can be synchronous or asynchronous(default; in which case we call await_deploy)\n",
                "ndb_client = bazaar.deploy(\n",
                "    model_identifier=model.model_identifier,\n",
                "    deployment_name=\"deployment-0\",\n",
                "    is_async=True,\n",
                ")"
            ]
        },
        {
            "cell_type": "markdown",
            "metadata": {},
            "source": [
                "### Blocking call to wait till deployment finishes."
            ]
        },
        {
            "cell_type": "code",
            "execution_count": null,
            "metadata": {},
            "outputs": [],
            "source": [
                "bazaar.await_deploy(ndb_client)"
            ]
        },
        {
            "cell_type": "markdown",
            "metadata": {},
            "source": [
                "### Insert new files in the neural_db model."
            ]
        },
        {
            "cell_type": "code",
            "execution_count": null,
            "metadata": {},
            "outputs": [],
            "source": [
                "ndb_client.insert(\n",
                "    files=[\"/Users/mjay/Documents/MACH.pdf\", \"/Users/mjay/Documents/OpenMPIInstall.pdf\"]\n",
                ")"
            ]
        },
        {
            "cell_type": "markdown",
            "metadata": {},
            "source": [
                "### Search the ndb model."
            ]
        },
        {
            "cell_type": "code",
            "execution_count": null,
            "metadata": {},
            "outputs": [],
            "source": [
                "results = ndb_client.search(query=\"who are the authors of this paper\", top_k=\"5\")\n",
                "\n",
                "query_text = results[\"query_text\"]\n",
                "references = results[\"references\"]\n",
                "for reference in references:\n",
                "    print(reference[\"text\"])"
            ]
        },
        {
            "cell_type": "markdown",
            "metadata": {},
            "source": [
                "### [RLHF] Associate : takes list of dictionaries where each dictionary has 'source' and 'target' keys."
            ]
        },
        {
            "cell_type": "code",
            "execution_count": null,
            "metadata": {},
            "outputs": [],
            "source": [
                "ndb_client.associate(\n",
                "    [\n",
                "        {\"source\": \"authors\", \"target\": \"contributors\"},\n",
                "        {\"source\": \"paper\", \"target\": \"document\"},\n",
                "    ]\n",
                ")"
            ]
        },
        {
            "cell_type": "markdown",
            "metadata": {},
            "source": [
                "### [RLHF] Upvote/Downvote : takes list of dictionaries where each dictionary has 'query_text' and 'reference_id' keys."
            ]
        },
        {
            "cell_type": "code",
            "execution_count": null,
            "metadata": {},
            "outputs": [],
            "source": [
                "best_answer = references[4]\n",
                "good_answer = references[2]\n",
                "ndb_client.upvote(\n",
                "    [\n",
                "        {\"query_text\": query_text, \"reference_id\": best_answer[\"id\"]},\n",
                "        {\"query_text\": query_text, \"reference_id\": good_answer[\"id\"]},\n",
                "    ]\n",
                ")"
            ]
        },
        {
            "cell_type": "markdown",
            "metadata": {},
            "source": [
                "### Undeploys the model."
            ]
        },
        {
            "cell_type": "code",
            "execution_count": null,
            "metadata": {},
            "outputs": [],
            "source": [
                "bazaar.undeploy(ndb_client)"
            ]
        },
        {
            "cell_type": "markdown",
            "metadata": {},
            "source": [
                "### Deletes the model from model bazaar."
            ]
        },
        {
            "cell_type": "code",
            "execution_count": null,
            "metadata": {},
            "outputs": [],
            "source": [
                "bazaar.delete(model_identifier=model.model_identifier)"
            ]
        },
        {
            "cell_type": "markdown",
            "metadata": {},
            "source": [
                "### Return a list of models accessible to user on model bazaar."
            ]
        },
        {
            "cell_type": "code",
            "execution_count": null,
            "metadata": {},
            "outputs": [],
            "source": [
                "bazaar.list_models()"
            ]
        },
        {
            "cell_type": "markdown",
            "metadata": {},
            "source": [
                "### Returns a list of all active deployments."
            ]
        },
        {
            "cell_type": "code",
            "execution_count": null,
            "metadata": {},
            "outputs": [],
            "source": [
                "bazaar.list_deployments()"
            ]
        },
        {
            "cell_type": "markdown",
            "metadata": {},
            "source": [
                "### Connects to an active deployment."
            ]
        },
        {
            "cell_type": "code",
            "execution_count": null,
            "metadata": {},
            "outputs": [],
            "source": [
                "ndb_client = bazaar.connect(deployment_identifier=\"mj3ai/model-0:mj3ai/deployment-0\")"
            ]
        },
        {
            "cell_type": "markdown",
            "metadata": {},
            "source": [
                "### Push an NDB model from local to model bazaar"
            ]
        },
        {
            "cell_type": "code",
            "execution_count": null,
            "metadata": {},
            "outputs": [],
            "source": [
                "bazaar.push_model(\n",
                "    model_name=\"test-upload\",\n",
                "    local_path=\"model_bazaar_cache/mj3ai/test-model-4/model.ndb\",\n",
                "    access_level=\"private\",\n",
                ")"
            ]
        },
        {
            "cell_type": "markdown",
            "metadata": {},
            "source": [
                "### Pull model from model bazaar to local"
            ]
        },
        {
            "cell_type": "code",
            "execution_count": null,
            "metadata": {},
            "outputs": [],
            "source": [
                "ndb_model = bazaar.pull_model(model_identifier=\"mj3ai/model-1\")"
            ]
        }
    ],
    "metadata": {
        "kernelspec": {
            "display_name": "py_3.9",
            "language": "python",
            "name": "python3"
        },
        "language_info": {
            "codemirror_mode": {
                "name": "ipython",
                "version": 3
            },
            "file_extension": ".py",
            "mimetype": "text/x-python",
            "name": "python",
            "nbconvert_exporter": "python",
            "pygments_lexer": "ipython3",
            "version": "3.9.6"
        }
    },
    "nbformat": 4,
    "nbformat_minor": 2
}
