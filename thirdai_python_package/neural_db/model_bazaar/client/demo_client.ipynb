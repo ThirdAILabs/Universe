{
 "cells": [
  {
   "cell_type": "markdown",
   "metadata": {},
   "source": [
    "# Python Client"
   ]
  },
  {
   "cell_type": "code",
   "execution_count": 6,
   "metadata": {},
   "outputs": [],
   "source": [
    "# Import ModelBazaar class.\n",
    "from bazaar_client import ModelBazaar"
   ]
  },
  {
   "cell_type": "code",
   "execution_count": null,
   "metadata": {},
   "outputs": [],
   "source": [
    "# Initialise a ModelBazaar object with url where model_bazaar is hosted.\n",
    "bazaar = ModelBazaar(base_url=\"http://0.0.0.0:8000/api/\")"
   ]
  },
  {
   "cell_type": "code",
   "execution_count": null,
   "metadata": {},
   "outputs": [],
   "source": [
    "# Used to signup on model bazaar. Sends a email verification link.\n",
    "bazaar.sign_up(email=\"mritunjay@thirdai.com\", password=\"password\", username=\"mj3ai\")"
   ]
  },
  {
   "cell_type": "code",
   "execution_count": null,
   "metadata": {},
   "outputs": [],
   "source": [
    "# Login with your email_id and password.\n",
    "bazaar.log_in(email=\"mritunjay@thirdai.com\", password=\"password\")"
   ]
  },
  {
   "cell_type": "code",
   "execution_count": null,
   "metadata": {},
   "outputs": [],
   "source": [
    "# Creates a model from scratch trained on given list of documents. \n",
    "# Can be synchronous or asynchronous(default; in which case we call await_train)\n",
    "model = bazaar.train(\n",
    "    model_name=\"model-1\",\n",
    "    docs=[\"/Users/mjay/Documents/fast_fft.pdf\"],\n",
    "    is_async=True,\n",
    ")"
   ]
  },
  {
   "cell_type": "code",
   "execution_count": null,
   "metadata": {},
   "outputs": [],
   "source": [
    "# Blocking call to wait till model finishes training.\n",
    "bazaar.await_train(model)"
   ]
  },
  {
   "cell_type": "code",
   "execution_count": null,
   "metadata": {},
   "outputs": [],
   "source": [
    "# Deploys the model and returns an ndb_client which can be used to interact to neural_db.\n",
    "# Can be synchronous or asynchronous(default; in which case we call await_deploy)\n",
    "ndb_client = bazaar.deploy(\n",
    "    model_identifier=model.model_identifier,\n",
    "    deployment_name=\"deployment-1\",\n",
    "    is_async=True,\n",
    ")"
   ]
  },
  {
   "cell_type": "code",
   "execution_count": null,
   "metadata": {},
   "outputs": [],
   "source": [
    "# Blocking call to wait till deployment finishes.\n",
    "bazaar.await_deploy(ndb_client)"
   ]
  },
  {
   "cell_type": "code",
   "execution_count": null,
   "metadata": {},
   "outputs": [],
   "source": [
    "# Insert new files in the neural_db model. \n",
    "ndb_client.insert(\n",
    "    files=[\"/Users/mjay/Documents/MACH.pdf\", \"/Users/mjay/Documents/OpenMPIInstall.pdf\"]\n",
    ")"
   ]
  },
  {
   "cell_type": "code",
   "execution_count": null,
   "metadata": {},
   "outputs": [],
   "source": [
    "# Search the ndb model.\n",
    "results = ndb_client.search(query=\"who are the authors\", top_k=\"5\")\n",
    "\n",
    "query_id = results[\"query_id\"]\n",
    "query_text = results[\"query_text\"]\n",
    "references = results[\"references\"]\n",
    "for reference in references:\n",
    "    print(reference[\"text\"])"
   ]
  },
  {
   "cell_type": "code",
   "execution_count": null,
   "metadata": {},
   "outputs": [],
   "source": [
    "# Associate\n",
    "ndb_client.associate(query1=\"authors\", query2=\"objective\")"
   ]
  },
  {
   "cell_type": "code",
   "execution_count": null,
   "metadata": {},
   "outputs": [],
   "source": [
    "# Upvote/Downvote\n",
    "best_answer = references[4]\n",
    "ndb_client.upvote(query_id=query_id, query_text=query_text, reference=best_answer)"
   ]
  },
  {
   "cell_type": "code",
   "execution_count": null,
   "metadata": {},
   "outputs": [],
   "source": [
    "# Undeploys the model.\n",
    "bazaar.undeploy(ndb_client)"
   ]
  },
  {
   "cell_type": "code",
   "execution_count": null,
   "metadata": {},
   "outputs": [],
   "source": [
    "# Deletes the model from model bazaar.\n",
    "bazaar.delete(model_identifier=model.model_identifier)"
   ]
  },
  {
   "cell_type": "code",
   "execution_count": null,
   "metadata": {},
   "outputs": [],
   "source": [
    "# Return a list of models accessible to user on model bazaar.\n",
    "bazaar.list_models()"
   ]
  },
  {
   "cell_type": "code",
   "execution_count": null,
   "metadata": {},
   "outputs": [],
   "source": [
    "# Returns a list of all active deployments.\n",
    "bazaar.list_deployments()"
   ]
  },
  {
   "cell_type": "code",
   "execution_count": null,
   "metadata": {},
   "outputs": [],
   "source": [
    "# Connects to an active deployment.\n",
    "ndb_client = bazaar.connect(deployment_identifier=\"mj3ai/model-1:mj3ai/deployment-1\")"
   ]
  },
  {
   "cell_type": "code",
   "execution_count": null,
   "metadata": {},
   "outputs": [],
   "source": [
    "# Push an NDB model from local to model bazaar\n",
    "bazaar.push_model(\n",
    "    model_name=\"test-upload\",\n",
    "    local_path=\"model_bazaar_cache/mj3ai/test-model-4/model.ndb\",\n",
    "    access_level=\"private\",\n",
    ")"
   ]
  },
  {
   "cell_type": "code",
   "execution_count": null,
   "metadata": {},
   "outputs": [],
   "source": [
    "# Pull model from model bazaar to local\n",
    "ndb_model = bazaar.pull_model(model_identifier=\"mj3ai/model-1\")"
   ]
  }
 ],
 "metadata": {
  "kernelspec": {
   "display_name": "py_3.9",
   "language": "python",
   "name": "python3"
  },
  "language_info": {
   "codemirror_mode": {
    "name": "ipython",
    "version": 3
   },
   "file_extension": ".py",
   "mimetype": "text/x-python",
   "name": "python",
   "nbconvert_exporter": "python",
   "pygments_lexer": "ipython3",
   "version": "3.9.16"
  }
 },
 "nbformat": 4,
 "nbformat_minor": 2
}
