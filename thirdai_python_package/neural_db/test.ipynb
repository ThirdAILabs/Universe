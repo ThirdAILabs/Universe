{
 "cells": [
  {
   "cell_type": "code",
   "execution_count": 1,
   "metadata": {},
   "outputs": [],
   "source": [
    "from sqlalchemy import create_engine, Column, Integer, String\n",
    "from sqlalchemy.orm import sessionmaker, declarative_base\n",
    "from sqlalchemy.exc import IntegrityError\n",
    "\n",
    "# Define the database connection URL\n",
    "db_url = \"postgresql://gautamsharma:@localhost:5432/gautamsharma\"  # Replace with your database URL\n",
    "\n",
    "# Create a SQLAlchemy engine\n",
    "engine = create_engine(db_url)\n",
    "\n",
    "# Define a base class for declarative models\n",
    "Base = declarative_base()\n",
    "\n",
    "# Define your model (table) by subclassing the Base class\n",
    "class User(Base):\n",
    "    __tablename__ = 'users'\n",
    "    id = Column(Integer, primary_key=True, autoincrement=\"auto\")\n",
    "    name = Column(String, unique=True)\n",
    "\n",
    "# Create the table in the database\n",
    "Base.metadata.create_all(engine)\n",
    "\n",
    "# Create a session\n",
    "Session = sessionmaker(bind=engine)\n",
    "session = Session()\n"
   ]
  },
  {
   "cell_type": "code",
   "execution_count": 3,
   "metadata": {},
   "outputs": [
    {
     "name": "stdout",
     "output_type": "stream",
     "text": [
      "Data inserted successfully.\n"
     ]
    }
   ],
   "source": [
    "try:\n",
    "    # Insert data into the table\n",
    "    users_to_add = [\n",
    "        User(name=\"David\"),\n",
    "        User(name=\"Eve\"),\n",
    "        User(name=\"Frank\"),\n",
    "        User(name=\"Grace\"),\n",
    "        User(name=\"Henry\"),\n",
    "        User(name=\"Ivy\"),\n",
    "        User(name=\"Jack\"),\n",
    "        User(name=\"Katherine\"),\n",
    "        User(name=\"Liam\"),\n",
    "        User(name=\"Mia\")]\n",
    "\n",
    "    session.add_all(users_to_add)\n",
    "    session.commit()\n",
    "\n",
    "    print(\"Data inserted successfully.\")\n",
    "except IntegrityError as e:\n",
    "    session.rollback()\n",
    "    print(f\"Error: {e}\")\n"
   ]
  },
  {
   "cell_type": "code",
   "execution_count": 4,
   "metadata": {},
   "outputs": [],
   "source": [
    "import pandas as pd"
   ]
  },
  {
   "cell_type": "code",
   "execution_count": 8,
   "metadata": {},
   "outputs": [],
   "source": [
    "df = pd.DataFrame({\"id\": [1, 2, 3], \"A\": [\"A1\", \"A2\", \"A3\"], \"B\": [\"B1\", \"B2\", \"B3\"], \"C\": [\"C1\", \"C2\", \"C3\"]})"
   ]
  },
  {
   "cell_type": "code",
   "execution_count": 22,
   "metadata": {},
   "outputs": [
    {
     "data": {
      "text/plain": [
       "id     3\n",
       "A     A3\n",
       "B     B3\n",
       "C     C3\n",
       "Name: 2, dtype: object"
      ]
     },
     "execution_count": 22,
     "metadata": {},
     "output_type": "execute_result"
    }
   ],
   "source": [
    "df.iloc[2]"
   ]
  },
  {
   "cell_type": "code",
   "execution_count": null,
   "metadata": {},
   "outputs": [],
   "source": []
  },
  {
   "cell_type": "code",
   "execution_count": 29,
   "metadata": {},
   "outputs": [],
   "source": [
    "class test():\n",
    "    def __init__(self) -> None:\n",
    "        self.value = 2\n",
    "\n",
    "    @property\n",
    "    def name(self):\n",
    "        return self.value\n",
    "\n",
    "    @name.setter\n",
    "    def name(self, newName: int):\n",
    "        self.value = newName"
   ]
  },
  {
   "cell_type": "code",
   "execution_count": 30,
   "metadata": {},
   "outputs": [],
   "source": [
    "obj = test()"
   ]
  },
  {
   "cell_type": "code",
   "execution_count": 31,
   "metadata": {},
   "outputs": [],
   "source": [
    "obj.name = 5"
   ]
  },
  {
   "cell_type": "code",
   "execution_count": 32,
   "metadata": {},
   "outputs": [
    {
     "data": {
      "text/plain": [
       "5"
      ]
     },
     "execution_count": 32,
     "metadata": {},
     "output_type": "execute_result"
    }
   ],
   "source": [
    "obj.name"
   ]
  },
  {
   "cell_type": "code",
   "execution_count": 33,
   "metadata": {},
   "outputs": [],
   "source": [
    "from sqlalchemy import create_engine\n",
    "db_url = \"postgresql://gautamsharma:@localhost:5432/gautamsharma\"\n",
    "engine = create_engine(db_url)"
   ]
  },
  {
   "cell_type": "code",
   "execution_count": 34,
   "metadata": {},
   "outputs": [
    {
     "ename": "ImportError",
     "evalue": "To use thirdai.neural_db, please install the additional dependencies by running 'pip install thirdai[neural_db]'",
     "output_type": "error",
     "traceback": [
      "\u001b[0;31m---------------------------------------------------------------------------\u001b[0m",
      "\u001b[0;31mModuleNotFoundError\u001b[0m                       Traceback (most recent call last)",
      "File \u001b[0;32m/opt/homebrew/lib/python3.11/site-packages/thirdai/neural_db/__init__.py:4\u001b[0m\n\u001b[1;32m      3\u001b[0m \u001b[39mfrom\u001b[39;00m \u001b[39m.\u001b[39;00m\u001b[39mconstraint_matcher\u001b[39;00m \u001b[39mimport\u001b[39;00m AnyOf, EqualTo, GreaterThan, InRange, LessThan\n\u001b[0;32m----> 4\u001b[0m \u001b[39mfrom\u001b[39;00m \u001b[39m.\u001b[39;00m\u001b[39mdocuments\u001b[39;00m \u001b[39mimport\u001b[39;00m (\n\u001b[1;32m      5\u001b[0m     CSV,\n\u001b[1;32m      6\u001b[0m     DOCX,\n\u001b[1;32m      7\u001b[0m     PDF,\n\u001b[1;32m      8\u001b[0m     URL,\n\u001b[1;32m      9\u001b[0m     Document,\n\u001b[1;32m     10\u001b[0m     Reference,\n\u001b[1;32m     11\u001b[0m     SentenceLevelDOCX,\n\u001b[1;32m     12\u001b[0m     SentenceLevelPDF,\n\u001b[1;32m     13\u001b[0m     Unstructured,\n\u001b[1;32m     14\u001b[0m )\n\u001b[1;32m     15\u001b[0m \u001b[39mfrom\u001b[39;00m \u001b[39m.\u001b[39;00m\u001b[39mmodel_bazaar\u001b[39;00m \u001b[39mimport\u001b[39;00m Bazaar\n",
      "File \u001b[0;32m/opt/homebrew/lib/python3.11/site-packages/thirdai/neural_db/documents.py:13\u001b[0m\n\u001b[1;32m     12\u001b[0m \u001b[39mfrom\u001b[39;00m \u001b[39mnltk\u001b[39;00m\u001b[39m.\u001b[39;00m\u001b[39mtokenize\u001b[39;00m \u001b[39mimport\u001b[39;00m sent_tokenize\n\u001b[0;32m---> 13\u001b[0m \u001b[39mfrom\u001b[39;00m \u001b[39moffice365\u001b[39;00m\u001b[39m.\u001b[39;00m\u001b[39msharepoint\u001b[39;00m\u001b[39m.\u001b[39;00m\u001b[39mclient_context\u001b[39;00m \u001b[39mimport\u001b[39;00m ClientContext\n\u001b[1;32m     14\u001b[0m \u001b[39mfrom\u001b[39;00m \u001b[39mpytrie\u001b[39;00m \u001b[39mimport\u001b[39;00m StringTrie\n",
      "\u001b[0;31mModuleNotFoundError\u001b[0m: No module named 'office365'",
      "\nDuring handling of the above exception, another exception occurred:\n",
      "\u001b[0;31mImportError\u001b[0m                               Traceback (most recent call last)",
      "\u001b[1;32m/Users/gautamsharma/Desktop/ThirdAI/Universe/thirdai_python_package/neural_db/test.ipynb Cell 12\u001b[0m line \u001b[0;36m1\n\u001b[0;32m----> <a href='vscode-notebook-cell:/Users/gautamsharma/Desktop/ThirdAI/Universe/thirdai_python_package/neural_db/test.ipynb#X14sZmlsZQ%3D%3D?line=0'>1</a>\u001b[0m \u001b[39mfrom\u001b[39;00m \u001b[39mthirdai\u001b[39;00m \u001b[39mimport\u001b[39;00m neural_db \u001b[39mas\u001b[39;00m ndb\n",
      "File \u001b[0;32m/opt/homebrew/lib/python3.11/site-packages/thirdai/neural_db/__init__.py:18\u001b[0m\n\u001b[1;32m     16\u001b[0m     \u001b[39mfrom\u001b[39;00m \u001b[39m.\u001b[39;00m\u001b[39mneural_db\u001b[39;00m \u001b[39mimport\u001b[39;00m CancelState, NeuralDB, Strength, Sup\n\u001b[1;32m     17\u001b[0m \u001b[39mexcept\u001b[39;00m \u001b[39mImportError\u001b[39;00m \u001b[39mas\u001b[39;00m error:\n\u001b[0;32m---> 18\u001b[0m     \u001b[39mraise\u001b[39;00m \u001b[39mImportError\u001b[39;00m(\n\u001b[1;32m     19\u001b[0m         \u001b[39m\"\u001b[39m\u001b[39mTo use thirdai.neural_db, please install the additional dependencies by running \u001b[39m\u001b[39m'\u001b[39m\u001b[39mpip install thirdai[neural_db]\u001b[39m\u001b[39m'\u001b[39m\u001b[39m\"\u001b[39m\n\u001b[1;32m     20\u001b[0m     )\n",
      "\u001b[0;31mImportError\u001b[0m: To use thirdai.neural_db, please install the additional dependencies by running 'pip install thirdai[neural_db]'"
     ]
    }
   ],
   "source": [
    "from thirdai import neural_db as ndb"
   ]
  },
  {
   "cell_type": "code",
   "execution_count": null,
   "metadata": {},
   "outputs": [],
   "source": [
    "doc = ndb.SQLDocument(engine = engine, table_name = \"users\", id_col = \"id\", \n",
    "                      strong_columns = [\"name\"], weak_columns = [\"name\"], reference_columns = [\"name\"],\n",
    "                      batch_size = 3\n",
    "                      )"
   ]
  }
 ],
 "metadata": {
  "kernelspec": {
   "display_name": "Python 3",
   "language": "python",
   "name": "python3"
  },
  "language_info": {
   "codemirror_mode": {
    "name": "ipython",
    "version": 3
   },
   "file_extension": ".py",
   "mimetype": "text/x-python",
   "name": "python",
   "nbconvert_exporter": "python",
   "pygments_lexer": "ipython3",
   "version": "3.11.5"
  },
  "orig_nbformat": 4
 },
 "nbformat": 4,
 "nbformat_minor": 2
}
