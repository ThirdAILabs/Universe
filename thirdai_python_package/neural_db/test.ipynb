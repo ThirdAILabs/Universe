{
 "cells": [
  {
   "cell_type": "code",
   "execution_count": 1,
   "metadata": {},
   "outputs": [],
   "source": [
    "from sqlalchemy import create_engine, Column, Integer, String\n",
    "from sqlalchemy.orm import sessionmaker, declarative_base\n",
    "from sqlalchemy.exc import IntegrityError\n",
    "import pandas as pd\n",
    "\n",
    "\n",
    "# Define the database connection URL\n",
    "db_url = \"postgresql://gautamsharma:@localhost:5432/gautamsharma\"  # Replace with your database URL\n",
    "\n",
    "# Create a SQLAlchemy engine\n",
    "engine = create_engine(db_url)\n",
    "\n",
    "\n"
   ]
  },
  {
   "cell_type": "code",
   "execution_count": 6,
   "metadata": {},
   "outputs": [
    {
     "ename": "TypeError",
     "evalue": "can only concatenate list (not \"int\") to list",
     "output_type": "error",
     "traceback": [
      "\u001b[0;31m---------------------------------------------------------------------------\u001b[0m",
      "\u001b[0;31mTypeError\u001b[0m                                 Traceback (most recent call last)",
      "\u001b[1;32m/Users/gautamsharma/Desktop/ThirdAI/Universe/thirdai_python_package/neural_db/test.ipynb Cell 2\u001b[0m line \u001b[0;36m8\n\u001b[1;32m      <a href='vscode-notebook-cell:/Users/gautamsharma/Desktop/ThirdAI/Universe/thirdai_python_package/neural_db/test.ipynb#X13sZmlsZQ%3D%3D?line=4'>5</a>\u001b[0m \u001b[39mfrom\u001b[39;00m \u001b[39mthirdai\u001b[39;00m \u001b[39mimport\u001b[39;00m neural_db \u001b[39mas\u001b[39;00m ndb\n\u001b[1;32m      <a href='vscode-notebook-cell:/Users/gautamsharma/Desktop/ThirdAI/Universe/thirdai_python_package/neural_db/test.ipynb#X13sZmlsZQ%3D%3D?line=5'>6</a>\u001b[0m \u001b[39mimport\u001b[39;00m \u001b[39mpandas\u001b[39;00m \u001b[39mas\u001b[39;00m \u001b[39mpd\u001b[39;00m\n\u001b[0;32m----> <a href='vscode-notebook-cell:/Users/gautamsharma/Desktop/ThirdAI/Universe/thirdai_python_package/neural_db/test.ipynb#X13sZmlsZQ%3D%3D?line=7'>8</a>\u001b[0m doc \u001b[39m=\u001b[39m ndb\u001b[39m.\u001b[39;49mSQLDocument(engine \u001b[39m=\u001b[39;49m engine, table_name \u001b[39m=\u001b[39;49m \u001b[39m\"\u001b[39;49m\u001b[39musers\u001b[39;49m\u001b[39m\"\u001b[39;49m, id_col \u001b[39m=\u001b[39;49m \u001b[39m\"\u001b[39;49m\u001b[39mid\u001b[39;49m\u001b[39m\"\u001b[39;49m, \n\u001b[1;32m      <a href='vscode-notebook-cell:/Users/gautamsharma/Desktop/ThirdAI/Universe/thirdai_python_package/neural_db/test.ipynb#X13sZmlsZQ%3D%3D?line=8'>9</a>\u001b[0m                       strong_columns \u001b[39m=\u001b[39;49m \u001b[39m6\u001b[39;49m, weak_columns \u001b[39m=\u001b[39;49m [\u001b[39m\"\u001b[39;49m\u001b[39mname\u001b[39;49m\u001b[39m\"\u001b[39;49m], reference_columns \u001b[39m=\u001b[39;49m [\u001b[39m\"\u001b[39;49m\u001b[39mname\u001b[39;49m\u001b[39m\"\u001b[39;49m],\n\u001b[1;32m     <a href='vscode-notebook-cell:/Users/gautamsharma/Desktop/ThirdAI/Universe/thirdai_python_package/neural_db/test.ipynb#X13sZmlsZQ%3D%3D?line=9'>10</a>\u001b[0m                       batch_size \u001b[39m=\u001b[39;49m \u001b[39m3\u001b[39;49m\n\u001b[1;32m     <a href='vscode-notebook-cell:/Users/gautamsharma/Desktop/ThirdAI/Universe/thirdai_python_package/neural_db/test.ipynb#X13sZmlsZQ%3D%3D?line=10'>11</a>\u001b[0m                       )\n\u001b[1;32m     <a href='vscode-notebook-cell:/Users/gautamsharma/Desktop/ThirdAI/Universe/thirdai_python_package/neural_db/test.ipynb#X13sZmlsZQ%3D%3D?line=12'>13</a>\u001b[0m db \u001b[39m=\u001b[39m ndb\u001b[39m.\u001b[39mNeuralDB(user_id\u001b[39m=\u001b[39m\u001b[39m\"\u001b[39m\u001b[39mgautam\u001b[39m\u001b[39m\"\u001b[39m)\n",
      "File \u001b[0;32m/opt/homebrew/lib/python3.11/site-packages/thirdai/neural_db/documents.py:871\u001b[0m, in \u001b[0;36mSQLDocument.__init__\u001b[0;34m(self, engine, table_name, id_col, strong_columns, weak_columns, reference_columns, batch_size, doc_metadata)\u001b[0m\n\u001b[1;32m    860\u001b[0m \u001b[39mdef\u001b[39;00m \u001b[39m__init__\u001b[39m(\n\u001b[1;32m    861\u001b[0m     \u001b[39mself\u001b[39m,\n\u001b[1;32m    862\u001b[0m     engine: sqlConn,\n\u001b[0;32m   (...)\u001b[0m\n\u001b[1;32m    869\u001b[0m     doc_metadata\u001b[39m=\u001b[39m{},\n\u001b[1;32m    870\u001b[0m ) \u001b[39m-\u001b[39m\u001b[39m>\u001b[39m \u001b[39mNone\u001b[39;00m:\n\u001b[0;32m--> 871\u001b[0m     \u001b[39mself\u001b[39m\u001b[39m.\u001b[39m_connector \u001b[39m=\u001b[39m SQLConnector(\n\u001b[1;32m    872\u001b[0m         engine\u001b[39m=\u001b[39;49mengine,\n\u001b[1;32m    873\u001b[0m         id_col\u001b[39m=\u001b[39;49mid_col,\n\u001b[1;32m    874\u001b[0m         strong_columns\u001b[39m=\u001b[39;49mstrong_columns,\n\u001b[1;32m    875\u001b[0m         weak_columns\u001b[39m=\u001b[39;49mweak_columns,\n\u001b[1;32m    876\u001b[0m         reference_columns\u001b[39m=\u001b[39;49mreference_columns,\n\u001b[1;32m    877\u001b[0m         batch_size\u001b[39m=\u001b[39;49mbatch_size,\n\u001b[1;32m    878\u001b[0m         table_name\u001b[39m=\u001b[39;49mtable_name,\n\u001b[1;32m    879\u001b[0m     )\n\u001b[1;32m    880\u001b[0m     \u001b[39msuper\u001b[39m()\u001b[39m.\u001b[39m\u001b[39m__init__\u001b[39m(\n\u001b[1;32m    881\u001b[0m         doc_name\u001b[39m=\u001b[39mtable_name, connector\u001b[39m=\u001b[39m\u001b[39mself\u001b[39m\u001b[39m.\u001b[39m_connector, doc_metadata\u001b[39m=\u001b[39mdoc_metadata\n\u001b[1;32m    882\u001b[0m     )\n\u001b[1;32m    883\u001b[0m     \u001b[39mself\u001b[39m\u001b[39m.\u001b[39mid_col \u001b[39m=\u001b[39m id_col\n",
      "File \u001b[0;32m/opt/homebrew/lib/python3.11/site-packages/thirdai/neural_db/connectors.py:43\u001b[0m, in \u001b[0;36mSQLConnector.__init__\u001b[0;34m(self, engine, id_col, strong_columns, weak_columns, reference_columns, batch_size, table_name)\u001b[0m\n\u001b[1;32m     41\u001b[0m \u001b[39mself\u001b[39m\u001b[39m.\u001b[39m_engine \u001b[39m=\u001b[39m engine\n\u001b[1;32m     42\u001b[0m \u001b[39mself\u001b[39m\u001b[39m.\u001b[39mconnect()\n\u001b[0;32m---> 43\u001b[0m columns \u001b[39m=\u001b[39m \u001b[39mlist\u001b[39m(\u001b[39mset\u001b[39m([id_col] \u001b[39m+\u001b[39;49m strong_columns \u001b[39m+\u001b[39m weak_columns \u001b[39m+\u001b[39m reference_columns))\n\u001b[1;32m     44\u001b[0m \u001b[39mself\u001b[39m\u001b[39m.\u001b[39mdf_iter \u001b[39m=\u001b[39m pd\u001b[39m.\u001b[39mread_sql(\n\u001b[1;32m     45\u001b[0m     sql\u001b[39m=\u001b[39mtable_name,\n\u001b[1;32m     46\u001b[0m     con\u001b[39m=\u001b[39m\u001b[39mself\u001b[39m\u001b[39m.\u001b[39m_connection,\n\u001b[1;32m     47\u001b[0m     columns\u001b[39m=\u001b[39mcolumns,\n\u001b[1;32m     48\u001b[0m     chunksize\u001b[39m=\u001b[39mbatch_size,\n\u001b[1;32m     49\u001b[0m )\n",
      "\u001b[0;31mTypeError\u001b[0m: can only concatenate list (not \"int\") to list"
     ]
    }
   ],
   "source": [
    "from sqlalchemy import create_engine\n",
    "db_url = \"postgresql://gautamsharma:@localhost:5432/gautamsharma\"\n",
    "engine = create_engine(db_url)\n",
    "\n",
    "from thirdai import neural_db as ndb\n",
    "import pandas as pd\n",
    "\n",
    "doc = ndb.SQLDocument(engine = engine, table_name = \"users\", id_col = \"id\", \n",
    "                      strong_columns = [\"name\"], weak_columns = [\"name\"], reference_columns = [\"name\"],\n",
    "                      batch_size = 3\n",
    "                      )\n",
    "\n",
    "db = ndb.NeuralDB(user_id=\"gautam\")"
   ]
  },
  {
   "cell_type": "code",
   "execution_count": 2,
   "metadata": {},
   "outputs": [
    {
     "data": {
      "text/html": [
       "<div>\n",
       "<style scoped>\n",
       "    .dataframe tbody tr th:only-of-type {\n",
       "        vertical-align: middle;\n",
       "    }\n",
       "\n",
       "    .dataframe tbody tr th {\n",
       "        vertical-align: top;\n",
       "    }\n",
       "\n",
       "    .dataframe thead th {\n",
       "        text-align: right;\n",
       "    }\n",
       "</style>\n",
       "<table border=\"1\" class=\"dataframe\">\n",
       "  <thead>\n",
       "    <tr style=\"text-align: right;\">\n",
       "      <th></th>\n",
       "      <th>Row_id</th>\n",
       "      <th>DB_id</th>\n",
       "    </tr>\n",
       "  </thead>\n",
       "  <tbody>\n",
       "    <tr>\n",
       "      <th>0</th>\n",
       "      <td>NaN</td>\n",
       "      <td>NaN</td>\n",
       "    </tr>\n",
       "    <tr>\n",
       "      <th>1</th>\n",
       "      <td>NaN</td>\n",
       "      <td>NaN</td>\n",
       "    </tr>\n",
       "    <tr>\n",
       "      <th>2</th>\n",
       "      <td>NaN</td>\n",
       "      <td>NaN</td>\n",
       "    </tr>\n",
       "    <tr>\n",
       "      <th>3</th>\n",
       "      <td>NaN</td>\n",
       "      <td>NaN</td>\n",
       "    </tr>\n",
       "    <tr>\n",
       "      <th>4</th>\n",
       "      <td>NaN</td>\n",
       "      <td>NaN</td>\n",
       "    </tr>\n",
       "    <tr>\n",
       "      <th>5</th>\n",
       "      <td>NaN</td>\n",
       "      <td>NaN</td>\n",
       "    </tr>\n",
       "    <tr>\n",
       "      <th>6</th>\n",
       "      <td>NaN</td>\n",
       "      <td>NaN</td>\n",
       "    </tr>\n",
       "    <tr>\n",
       "      <th>7</th>\n",
       "      <td>NaN</td>\n",
       "      <td>NaN</td>\n",
       "    </tr>\n",
       "    <tr>\n",
       "      <th>8</th>\n",
       "      <td>NaN</td>\n",
       "      <td>NaN</td>\n",
       "    </tr>\n",
       "    <tr>\n",
       "      <th>9</th>\n",
       "      <td>NaN</td>\n",
       "      <td>NaN</td>\n",
       "    </tr>\n",
       "  </tbody>\n",
       "</table>\n",
       "</div>"
      ],
      "text/plain": [
       "  Row_id DB_id\n",
       "0    NaN   NaN\n",
       "1    NaN   NaN\n",
       "2    NaN   NaN\n",
       "3    NaN   NaN\n",
       "4    NaN   NaN\n",
       "5    NaN   NaN\n",
       "6    NaN   NaN\n",
       "7    NaN   NaN\n",
       "8    NaN   NaN\n",
       "9    NaN   NaN"
      ]
     },
     "execution_count": 2,
     "metadata": {},
     "output_type": "execute_result"
    }
   ],
   "source": [
    "doc.index_table"
   ]
  },
  {
   "cell_type": "code",
   "execution_count": 2,
   "metadata": {},
   "outputs": [
    {
     "name": "stdout",
     "output_type": "stream",
     "text": [
      "data_source.documents = [(<thirdai.neural_db.documents.SQLDocument object at 0x12b1b5990>, 0)]\n"
     ]
    },
    {
     "ename": "RuntimeError",
     "evalue": "bad_optional_access",
     "output_type": "error",
     "traceback": [
      "\u001b[0;31m---------------------------------------------------------------------------\u001b[0m",
      "\u001b[0;31mRuntimeError\u001b[0m                              Traceback (most recent call last)",
      "\u001b[1;32m/Users/gautamsharma/Desktop/ThirdAI/Universe/thirdai_python_package/neural_db/test.ipynb Cell 3\u001b[0m line \u001b[0;36m2\n\u001b[1;32m      <a href='vscode-notebook-cell:/Users/gautamsharma/Desktop/ThirdAI/Universe/thirdai_python_package/neural_db/test.ipynb#X24sZmlsZQ%3D%3D?line=0'>1</a>\u001b[0m test_doc \u001b[39m=\u001b[39m ndb\u001b[39m.\u001b[39mPDF(\u001b[39m\"\u001b[39m\u001b[39m/Users/gautamsharma/Downloads/NCERT Books/Class VI/English/HoneySuckle/fehl103.pdf\u001b[39m\u001b[39m\"\u001b[39m)\n\u001b[0;32m----> <a href='vscode-notebook-cell:/Users/gautamsharma/Desktop/ThirdAI/Universe/thirdai_python_package/neural_db/test.ipynb#X24sZmlsZQ%3D%3D?line=1'>2</a>\u001b[0m db\u001b[39m.\u001b[39;49minsert(sources\u001b[39m=\u001b[39;49m[doc])\n",
      "File \u001b[0;32m/opt/homebrew/lib/python3.11/site-packages/thirdai/neural_db/neural_db.py:517\u001b[0m, in \u001b[0;36mNeuralDB.insert\u001b[0;34m(self, sources, train, fast_approximation, num_buckets_to_sample, on_progress, on_success, on_error, cancel_state, max_in_memory_batches)\u001b[0m\n\u001b[1;32m    514\u001b[0m         \u001b[39mreturn\u001b[39;00m []\n\u001b[1;32m    515\u001b[0m     \u001b[39mraise\u001b[39;00m e\n\u001b[0;32m--> 517\u001b[0m \u001b[39mself\u001b[39;49m\u001b[39m.\u001b[39;49m_savable_state\u001b[39m.\u001b[39;49mmodel\u001b[39m.\u001b[39;49mindex_documents(\n\u001b[1;32m    518\u001b[0m     intro_documents\u001b[39m=\u001b[39;49mintro_and_train\u001b[39m.\u001b[39;49mintro,\n\u001b[1;32m    519\u001b[0m     train_documents\u001b[39m=\u001b[39;49mintro_and_train\u001b[39m.\u001b[39;49mtrain,\n\u001b[1;32m    520\u001b[0m     num_buckets_to_sample\u001b[39m=\u001b[39;49mnum_buckets_to_sample,\n\u001b[1;32m    521\u001b[0m     fast_approximation\u001b[39m=\u001b[39;49mfast_approximation,\n\u001b[1;32m    522\u001b[0m     should_train\u001b[39m=\u001b[39;49mtrain,\n\u001b[1;32m    523\u001b[0m     on_progress\u001b[39m=\u001b[39;49mon_progress,\n\u001b[1;32m    524\u001b[0m     cancel_state\u001b[39m=\u001b[39;49mcancel_state,\n\u001b[1;32m    525\u001b[0m     max_in_memory_batches\u001b[39m=\u001b[39;49mmax_in_memory_batches,\n\u001b[1;32m    526\u001b[0m )\n\u001b[1;32m    528\u001b[0m \u001b[39mself\u001b[39m\u001b[39m.\u001b[39m_savable_state\u001b[39m.\u001b[39mlogger\u001b[39m.\u001b[39mlog(\n\u001b[1;32m    529\u001b[0m     session_id\u001b[39m=\u001b[39m\u001b[39mself\u001b[39m\u001b[39m.\u001b[39m_user_id,\n\u001b[1;32m    530\u001b[0m     action\u001b[39m=\u001b[39m\u001b[39m\"\u001b[39m\u001b[39mTrain\u001b[39m\u001b[39m\"\u001b[39m,\n\u001b[1;32m    531\u001b[0m     args\u001b[39m=\u001b[39m{\u001b[39m\"\u001b[39m\u001b[39mfiles\u001b[39m\u001b[39m\"\u001b[39m: intro_and_train\u001b[39m.\u001b[39mintro\u001b[39m.\u001b[39mresource_name()},\n\u001b[1;32m    532\u001b[0m )\n\u001b[1;32m    534\u001b[0m on_success()\n",
      "File \u001b[0;32m/opt/homebrew/lib/python3.11/site-packages/thirdai/neural_db/models.py:346\u001b[0m, in \u001b[0;36mMach.index_documents\u001b[0;34m(self, intro_documents, train_documents, should_train, fast_approximation, num_buckets_to_sample, on_progress, cancel_state, max_in_memory_batches)\u001b[0m\n\u001b[1;32m    343\u001b[0m \u001b[39mself\u001b[39m\u001b[39m.\u001b[39madd_balancing_samples(intro_documents)\n\u001b[1;32m    345\u001b[0m \u001b[39mif\u001b[39;00m should_train:\n\u001b[0;32m--> 346\u001b[0m     unsupervised_train_on_docs(\n\u001b[1;32m    347\u001b[0m         model\u001b[39m=\u001b[39;49m\u001b[39mself\u001b[39;49m\u001b[39m.\u001b[39;49mmodel,\n\u001b[1;32m    348\u001b[0m         documents\u001b[39m=\u001b[39;49mtrain_documents,\n\u001b[1;32m    349\u001b[0m         min_epochs\u001b[39m=\u001b[39;49mmin_epochs,\n\u001b[1;32m    350\u001b[0m         max_epochs\u001b[39m=\u001b[39;49mmax_epochs,\n\u001b[1;32m    351\u001b[0m         metric\u001b[39m=\u001b[39;49m\u001b[39m\"\u001b[39;49m\u001b[39mhash_precision@5\u001b[39;49m\u001b[39m\"\u001b[39;49m,\n\u001b[1;32m    352\u001b[0m         learning_rate\u001b[39m=\u001b[39;49mlearning_rate,\n\u001b[1;32m    353\u001b[0m         acc_to_stop\u001b[39m=\u001b[39;49m\u001b[39m0.95\u001b[39;49m,\n\u001b[1;32m    354\u001b[0m         on_progress\u001b[39m=\u001b[39;49mon_progress,\n\u001b[1;32m    355\u001b[0m         freeze_before_train\u001b[39m=\u001b[39;49mfreeze_before_train,\n\u001b[1;32m    356\u001b[0m         cancel_state\u001b[39m=\u001b[39;49mcancel_state,\n\u001b[1;32m    357\u001b[0m         max_in_memory_batches\u001b[39m=\u001b[39;49mmax_in_memory_batches,\n\u001b[1;32m    358\u001b[0m     )\n",
      "File \u001b[0;32m/opt/homebrew/lib/python3.11/site-packages/thirdai/neural_db/models.py:222\u001b[0m, in \u001b[0;36munsupervised_train_on_docs\u001b[0;34m(model, documents, min_epochs, max_epochs, metric, learning_rate, acc_to_stop, on_progress, freeze_before_train, cancel_state, max_in_memory_batches)\u001b[0m\n\u001b[1;32m    215\u001b[0m progress_callback \u001b[39m=\u001b[39m ProgressUpdate(\n\u001b[1;32m    216\u001b[0m     max_epochs\u001b[39m=\u001b[39mmax_epochs,\n\u001b[1;32m    217\u001b[0m     progress_callback_fn\u001b[39m=\u001b[39mon_progress,\n\u001b[1;32m    218\u001b[0m )\n\u001b[1;32m    220\u001b[0m cancel_training_callback \u001b[39m=\u001b[39m CancelTraining(cancel_state\u001b[39m=\u001b[39mcancel_state)\n\u001b[0;32m--> 222\u001b[0m model\u001b[39m.\u001b[39;49mcold_start_on_data_source(\n\u001b[1;32m    223\u001b[0m     data_source\u001b[39m=\u001b[39;49mdocuments,\n\u001b[1;32m    224\u001b[0m     strong_column_names\u001b[39m=\u001b[39;49m[documents\u001b[39m.\u001b[39;49mstrong_column],\n\u001b[1;32m    225\u001b[0m     weak_column_names\u001b[39m=\u001b[39;49m[documents\u001b[39m.\u001b[39;49mweak_column],\n\u001b[1;32m    226\u001b[0m     learning_rate\u001b[39m=\u001b[39;49mlearning_rate,\n\u001b[1;32m    227\u001b[0m     epochs\u001b[39m=\u001b[39;49mmax_epochs,\n\u001b[1;32m    228\u001b[0m     metrics\u001b[39m=\u001b[39;49m[metric],\n\u001b[1;32m    229\u001b[0m     callbacks\u001b[39m=\u001b[39;49m[early_stop_callback, progress_callback, cancel_training_callback],\n\u001b[1;32m    230\u001b[0m     max_in_memory_batches\u001b[39m=\u001b[39;49mmax_in_memory_batches,\n\u001b[1;32m    231\u001b[0m )\n",
      "File \u001b[0;32m/opt/homebrew/lib/python3.11/site-packages/thirdai/bolt/udt_modifications.py:246\u001b[0m, in \u001b[0;36mmodify_udt.<locals>.wrapped_cold_start_on_data_source\u001b[0;34m(self, data_source, strong_column_names, weak_column_names, learning_rate, epochs, batch_size, metrics, callbacks, max_in_memory_batches, verbose, logging_interval, comm)\u001b[0m\n\u001b[1;32m    237\u001b[0m \u001b[39mprint\u001b[39m(\u001b[39mf\u001b[39m\u001b[39m\"\u001b[39m\u001b[39m{\u001b[39;00mdata_source\u001b[39m.\u001b[39mdocuments\u001b[39m \u001b[39m\u001b[39m= }\u001b[39;00m\u001b[39m\"\u001b[39m)\n\u001b[1;32m    238\u001b[0m val_data, val_metrics, train_options \u001b[39m=\u001b[39m _process_validation_and_options(\n\u001b[1;32m    239\u001b[0m     validation\u001b[39m=\u001b[39m\u001b[39mNone\u001b[39;00m,\n\u001b[1;32m    240\u001b[0m     batch_size\u001b[39m=\u001b[39mbatch_size,\n\u001b[0;32m   (...)\u001b[0m\n\u001b[1;32m    243\u001b[0m     logging_interval\u001b[39m=\u001b[39mlogging_interval,\n\u001b[1;32m    244\u001b[0m )\n\u001b[0;32m--> 246\u001b[0m \u001b[39mreturn\u001b[39;00m original_cold_start(\n\u001b[1;32m    247\u001b[0m     \u001b[39mself\u001b[39;49m,\n\u001b[1;32m    248\u001b[0m     data\u001b[39m=\u001b[39;49mdata_source,\n\u001b[1;32m    249\u001b[0m     strong_column_names\u001b[39m=\u001b[39;49mstrong_column_names,\n\u001b[1;32m    250\u001b[0m     weak_column_names\u001b[39m=\u001b[39;49mweak_column_names,\n\u001b[1;32m    251\u001b[0m     learning_rate\u001b[39m=\u001b[39;49mlearning_rate,\n\u001b[1;32m    252\u001b[0m     epochs\u001b[39m=\u001b[39;49mepochs,\n\u001b[1;32m    253\u001b[0m     train_metrics\u001b[39m=\u001b[39;49mmetrics,\n\u001b[1;32m    254\u001b[0m     val_data\u001b[39m=\u001b[39;49mval_data,\n\u001b[1;32m    255\u001b[0m     val_metrics\u001b[39m=\u001b[39;49mval_metrics,\n\u001b[1;32m    256\u001b[0m     callbacks\u001b[39m=\u001b[39;49mcallbacks,\n\u001b[1;32m    257\u001b[0m     options\u001b[39m=\u001b[39;49mtrain_options,\n\u001b[1;32m    258\u001b[0m     comm\u001b[39m=\u001b[39;49mcomm,\n\u001b[1;32m    259\u001b[0m )\n",
      "\u001b[0;31mRuntimeError\u001b[0m: bad_optional_access"
     ]
    }
   ],
   "source": [
    "test_doc = ndb.PDF(\"/Users/gautamsharma/Downloads/NCERT Books/Class VI/English/HoneySuckle/fehl103.pdf\")\n",
    "db.insert(sources=[doc])"
   ]
  },
  {
   "cell_type": "code",
   "execution_count": 21,
   "metadata": {},
   "outputs": [],
   "source": [
    "from sqlalchemy import create_engine, Column, Integer, String, MetaData, Table\n",
    "\n",
    "# Define the database connection\n",
    "db_url = \"sqlite:///local_dataset.db\"\n",
    "\n",
    "# Create an SQLite database engine\n",
    "engine = create_engine(db_url)\n",
    "\n",
    "# Define a metadata object\n",
    "metadata = MetaData()\n",
    "\n",
    "# Define a table structure\n",
    "test_table = Table(\n",
    "    \"test\",\n",
    "    metadata,\n",
    "    Column(\"id\", Integer, primary_key=True),\n",
    "    Column(\"column1\", String),\n",
    "    Column(\"column2\", Integer),\n",
    ")\n",
    "\n",
    "# Create the table in the database\n",
    "metadata.create_all(engine)"
   ]
  },
  {
   "cell_type": "code",
   "execution_count": null,
   "metadata": {},
   "outputs": [],
   "source": [
    "from sqlalchemy import insert\n",
    "\n",
    "# Create a connection to the database\n",
    "conn = engine.connect()\n",
    "\n",
    "# Insert data into the table\n",
    "# insert_statement = test_table.insert().values(column1=\"Data1\", column2=123)\n",
    "q = \"INSERT INTO test (column1, column2) VALUES ('Data1', 123)\"\n",
    "conn.execute(q)\n",
    "\n",
    "# Close the connection\n",
    "conn.close()"
   ]
  },
  {
   "cell_type": "code",
   "execution_count": 14,
   "metadata": {},
   "outputs": [],
   "source": [
    "df = pd.read_sql('test',engine)\n"
   ]
  },
  {
   "cell_type": "code",
   "execution_count": 15,
   "metadata": {},
   "outputs": [
    {
     "data": {
      "text/html": [
       "<div>\n",
       "<style scoped>\n",
       "    .dataframe tbody tr th:only-of-type {\n",
       "        vertical-align: middle;\n",
       "    }\n",
       "\n",
       "    .dataframe tbody tr th {\n",
       "        vertical-align: top;\n",
       "    }\n",
       "\n",
       "    .dataframe thead th {\n",
       "        text-align: right;\n",
       "    }\n",
       "</style>\n",
       "<table border=\"1\" class=\"dataframe\">\n",
       "  <thead>\n",
       "    <tr style=\"text-align: right;\">\n",
       "      <th></th>\n",
       "      <th>id</th>\n",
       "      <th>column1</th>\n",
       "      <th>column2</th>\n",
       "    </tr>\n",
       "  </thead>\n",
       "  <tbody>\n",
       "  </tbody>\n",
       "</table>\n",
       "</div>"
      ],
      "text/plain": [
       "Empty DataFrame\n",
       "Columns: [id, column1, column2]\n",
       "Index: []"
      ]
     },
     "execution_count": 15,
     "metadata": {},
     "output_type": "execute_result"
    }
   ],
   "source": [
    "df"
   ]
  },
  {
   "cell_type": "code",
   "execution_count": null,
   "metadata": {},
   "outputs": [],
   "source": []
  }
 ],
 "metadata": {
  "kernelspec": {
   "display_name": "Python 3",
   "language": "python",
   "name": "python3"
  },
  "language_info": {
   "codemirror_mode": {
    "name": "ipython",
    "version": 3
   },
   "file_extension": ".py",
   "mimetype": "text/x-python",
   "name": "python",
   "nbconvert_exporter": "python",
   "pygments_lexer": "ipython3",
   "version": "3.11.5"
  },
  "orig_nbformat": 4
 },
 "nbformat": 4,
 "nbformat_minor": 2
}
