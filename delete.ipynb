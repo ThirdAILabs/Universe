{
 "cells": [
  {
   "cell_type": "code",
   "execution_count": 1,
   "metadata": {},
   "outputs": [
    {
     "name": "stderr",
     "output_type": "stream",
     "text": [
      "[nltk_data] Downloading package punkt to /home/shubh/nltk_data...\n",
      "[nltk_data]   Package punkt is already up-to-date!\n"
     ]
    },
    {
     "data": {
      "text/plain": [
       "True"
      ]
     },
     "execution_count": 1,
     "metadata": {},
     "output_type": "execute_result"
    }
   ],
   "source": [
    "from thirdai import licensing, neural_db as ndb\n",
    "import nltk\n",
    "nltk.download(\"punkt\")"
   ]
  },
  {
   "cell_type": "code",
   "execution_count": 2,
   "metadata": {},
   "outputs": [
    {
     "name": "stdout",
     "output_type": "stream",
     "text": [
      "Initializing a Mixture of Mach Models\n"
     ]
    }
   ],
   "source": [
    "db = ndb.NeuralDB(user_id=\"shubh\")"
   ]
  },
  {
   "cell_type": "code",
   "execution_count": 3,
   "metadata": {},
   "outputs": [],
   "source": [
    "insertable_docs = []\n",
    "csv_files = ['/home/shubh/Universe/C00-Last Question.pdf']\n",
    "\n",
    "for file in csv_files:\n",
    "    csv_doc = ndb.PDF(\n",
    "        path=file)\n",
    "    #\n",
    "    insertable_docs.append(csv_doc)"
   ]
  },
  {
   "cell_type": "code",
   "execution_count": 4,
   "metadata": {},
   "outputs": [
    {
     "data": {
      "text/plain": [
       "<thirdai.neural_db.documents.PDF at 0x7f51585f89a0>"
      ]
     },
     "execution_count": 4,
     "metadata": {},
     "output_type": "execute_result"
    }
   ],
   "source": [
    "insertable_docs[0]"
   ]
  },
  {
   "cell_type": "code",
   "execution_count": 5,
   "metadata": {},
   "outputs": [
    {
     "name": "stdout",
     "output_type": "stream",
     "text": [
      "Made the Sharded Data Source\n",
      "Begin Sharding the Introduce dataset\n",
      "['/tmp/242162_0_n74yfvwu.csv', '/tmp/242162_1_i6uc268z.csv']\n",
      "['/tmp/242162_0_v48vn_2e.csv', '/tmp/242162_1_bqffloa4.csv']\n"
     ]
    }
   ],
   "source": [
    "source_ids = db.insert(insertable_docs, train=False)"
   ]
  },
  {
   "cell_type": "code",
   "execution_count": 6,
   "metadata": {},
   "outputs": [],
   "source": [
    "search_results = db.search(\n",
    "    query=\"what is the termination period\",\n",
    "    top_k=5,\n",
    "    on_error=lambda error_msg: print(f\"Error! {error_msg}\"))"
   ]
  },
  {
   "cell_type": "code",
   "execution_count": 7,
   "metadata": {},
   "outputs": [
    {
     "name": "stdout",
     "output_type": "stream",
     "text": [
      "81\n",
      "The Cosmic AC said \"THERE IS AS YET INSUFFICIENT DATA FOR A MEANINGFUL ANSWER.\" Man said \"Collect additional data.\" The Cosmic AC said 'I WILL DO S0. I HAVE BEEN DOING SO FOR A HUNDRED BILLION YEARS. MY PREDECESORS AND I HAVE BEEN ASKED THIS QUESTION MANY TlMES.\n",
      "/home/shubh/Universe/C00-Last Question.pdf\n",
      "75\n",
      "Man considered with himself for in a way Man mentally was one. He consisted of a trillion trillion trillion ageless bodies each in its place each resting quiet and incorruptible each cared for by perfect automatons equally incorruptible while the minds of all the bodies freely melted one into the other indistinguishable.\n",
      "/home/shubh/Universe/C00-Last Question.pdf\n",
      "57\n",
      "You can't turn smoke and ash back into a tree.\" \"Do you have trees on your world?\" asked MQ-17J. The sound of the Galactic AC startled them into silence. Its voice came thin and beautiful out of the small AC-contact on the desk.It said: THERE IS INSUFFICIENT DATA FOR A MEANINGFUL ANSWER. VJ-23X said \"See!\" The two men thereupon returned to the question of the report they were to make to the Galactic Council.\n",
      "/home/shubh/Universe/C00-Last Question.pdf\n",
      "28\n",
      "They buried their giggles and chased one another wildly about their mother screaming \"We've reached X-23 -- we've reached X-23 -- we've --\" \"Quiet children.\" said Jerrodine sharply. \"Are you sure Jerrodd?\" \"What is there to be but sure?\"\n",
      "/home/shubh/Universe/C00-Last Question.pdf\n",
      "57\n",
      "You can't turn smoke and ash back into a tree.\" \"Do you have trees on your world?\" asked MQ-17J. The sound of the Galactic AC startled them into silence. Its voice came thin and beautiful out of the small AC-contact on the desk.It said: THERE IS INSUFFICIENT DATA FOR A MEANINGFUL ANSWER. VJ-23X said \"See!\" The two men thereupon returned to the question of the report they were to make to the Galactic Council.\n",
      "/home/shubh/Universe/C00-Last Question.pdf\n"
     ]
    }
   ],
   "source": [
    "for res in search_results:\n",
    "    print(res.id)\n",
    "    print(res.text)\n",
    "    print(res.source)"
   ]
  },
  {
   "cell_type": "code",
   "execution_count": 8,
   "metadata": {},
   "outputs": [
    {
     "ename": "RuntimeError",
     "evalue": "Cannot call associate before training, coldstarting, or introducing documents.",
     "output_type": "error",
     "traceback": [
      "\u001b[0;31m---------------------------------------------------------------------------\u001b[0m",
      "\u001b[0;31mRuntimeError\u001b[0m                              Traceback (most recent call last)",
      "\u001b[1;32m/home/shubh/Universe/delete.ipynb Cell 8\u001b[0m line \u001b[0;36m1\n\u001b[0;32m----> <a href='vscode-notebook-cell://ssh-remote%2Bshubh-1/home/shubh/Universe/delete.ipynb#X10sdnNjb2RlLXJlbW90ZQ%3D%3D?line=0'>1</a>\u001b[0m db\u001b[39m.\u001b[39;49massociate(\n\u001b[1;32m      <a href='vscode-notebook-cell://ssh-remote%2Bshubh-1/home/shubh/Universe/delete.ipynb#X10sdnNjb2RlLXJlbW90ZQ%3D%3D?line=1'>2</a>\u001b[0m     source \u001b[39m=\u001b[39;49m \u001b[39m\"\u001b[39;49m\u001b[39mabcd\u001b[39;49m\u001b[39m\"\u001b[39;49m,\n\u001b[1;32m      <a href='vscode-notebook-cell://ssh-remote%2Bshubh-1/home/shubh/Universe/delete.ipynb#X10sdnNjb2RlLXJlbW90ZQ%3D%3D?line=2'>3</a>\u001b[0m     target \u001b[39m=\u001b[39;49m \u001b[39m\"\u001b[39;49m\u001b[39mdcba\u001b[39;49m\u001b[39m\"\u001b[39;49m\n\u001b[1;32m      <a href='vscode-notebook-cell://ssh-remote%2Bshubh-1/home/shubh/Universe/delete.ipynb#X10sdnNjb2RlLXJlbW90ZQ%3D%3D?line=3'>4</a>\u001b[0m )\n",
      "File \u001b[0;32m~/.local/lib/python3.8/site-packages/thirdai/neural_db/neural_db.py:620\u001b[0m, in \u001b[0;36mNeuralDB.associate\u001b[0;34m(self, source, target, strength)\u001b[0m\n\u001b[1;32m    618\u001b[0m \u001b[39mdef\u001b[39;00m \u001b[39massociate\u001b[39m(\u001b[39mself\u001b[39m, source: \u001b[39mstr\u001b[39m, target: \u001b[39mstr\u001b[39m, strength: Strength \u001b[39m=\u001b[39m Strength\u001b[39m.\u001b[39mStrong):\n\u001b[1;32m    619\u001b[0m     top_k \u001b[39m=\u001b[39m \u001b[39mself\u001b[39m\u001b[39m.\u001b[39m_get_associate_top_k(strength)\n\u001b[0;32m--> 620\u001b[0m     teachers\u001b[39m.\u001b[39;49massociate(\n\u001b[1;32m    621\u001b[0m         model\u001b[39m=\u001b[39;49m\u001b[39mself\u001b[39;49m\u001b[39m.\u001b[39;49m_savable_state\u001b[39m.\u001b[39;49mmodel,\n\u001b[1;32m    622\u001b[0m         logger\u001b[39m=\u001b[39;49m\u001b[39mself\u001b[39;49m\u001b[39m.\u001b[39;49m_savable_state\u001b[39m.\u001b[39;49mlogger,\n\u001b[1;32m    623\u001b[0m         user_id\u001b[39m=\u001b[39;49m\u001b[39mself\u001b[39;49m\u001b[39m.\u001b[39;49m_user_id,\n\u001b[1;32m    624\u001b[0m         text_pairs\u001b[39m=\u001b[39;49m[(source, target)],\n\u001b[1;32m    625\u001b[0m         top_k\u001b[39m=\u001b[39;49mtop_k,\n\u001b[1;32m    626\u001b[0m     )\n",
      "File \u001b[0;32m~/.local/lib/python3.8/site-packages/thirdai/neural_db/teachers.py:29\u001b[0m, in \u001b[0;36massociate\u001b[0;34m(model, logger, user_id, text_pairs, top_k)\u001b[0m\n\u001b[1;32m     22\u001b[0m \u001b[39mdef\u001b[39;00m \u001b[39massociate\u001b[39m(\n\u001b[1;32m     23\u001b[0m     model: Model,\n\u001b[1;32m     24\u001b[0m     logger: Logger,\n\u001b[0;32m   (...)\u001b[0m\n\u001b[1;32m     27\u001b[0m     top_k: \u001b[39mint\u001b[39m,\n\u001b[1;32m     28\u001b[0m ):\n\u001b[0;32m---> 29\u001b[0m     model\u001b[39m.\u001b[39;49massociate(text_pairs, top_k)\n\u001b[1;32m     30\u001b[0m     logger\u001b[39m.\u001b[39mlog(\n\u001b[1;32m     31\u001b[0m         session_id\u001b[39m=\u001b[39muser_id,\n\u001b[1;32m     32\u001b[0m         action\u001b[39m=\u001b[39m\u001b[39m\"\u001b[39m\u001b[39massociate\u001b[39m\u001b[39m\"\u001b[39m,\n\u001b[0;32m   (...)\u001b[0m\n\u001b[1;32m     36\u001b[0m         },\n\u001b[1;32m     37\u001b[0m     )\n",
      "File \u001b[0;32m~/.local/lib/python3.8/site-packages/thirdai/neural_db/models.py:760\u001b[0m, in \u001b[0;36mMachMixture.associate\u001b[0;34m(self, pairs, n_buckets, n_association_samples, n_balancing_samples, learning_rate, epochs)\u001b[0m\n\u001b[1;32m    750\u001b[0m \u001b[39mdef\u001b[39;00m \u001b[39massociate\u001b[39m(\n\u001b[1;32m    751\u001b[0m     \u001b[39mself\u001b[39m,\n\u001b[1;32m    752\u001b[0m     pairs: List[Tuple[\u001b[39mstr\u001b[39m, \u001b[39mstr\u001b[39m]],\n\u001b[0;32m   (...)\u001b[0m\n\u001b[1;32m    757\u001b[0m     epochs: \u001b[39mint\u001b[39m \u001b[39m=\u001b[39m \u001b[39m3\u001b[39m,\n\u001b[1;32m    758\u001b[0m ):\n\u001b[1;32m    759\u001b[0m     \u001b[39mfor\u001b[39;00m model \u001b[39min\u001b[39;00m \u001b[39mself\u001b[39m\u001b[39m.\u001b[39mmodels:\n\u001b[0;32m--> 760\u001b[0m         model\u001b[39m.\u001b[39;49massociate(\n\u001b[1;32m    761\u001b[0m             source_target_samples\u001b[39m=\u001b[39;49m\u001b[39mself\u001b[39;49m\u001b[39m.\u001b[39;49m_format_associate_samples(pairs),\n\u001b[1;32m    762\u001b[0m             n_buckets\u001b[39m=\u001b[39;49mn_buckets,\n\u001b[1;32m    763\u001b[0m             n_association_samples\u001b[39m=\u001b[39;49mn_association_samples,\n\u001b[1;32m    764\u001b[0m             n_balancing_samples\u001b[39m=\u001b[39;49mn_balancing_samples,\n\u001b[1;32m    765\u001b[0m             learning_rate\u001b[39m=\u001b[39;49mlearning_rate,\n\u001b[1;32m    766\u001b[0m             epochs\u001b[39m=\u001b[39;49mepochs,\n\u001b[1;32m    767\u001b[0m         )\n",
      "\u001b[0;31mRuntimeError\u001b[0m: Cannot call associate before training, coldstarting, or introducing documents."
     ]
    }
   ],
   "source": [
    "db.associate(\n",
    "    source = \"abcd\",\n",
    "    target = \"dcba\"\n",
    ")"
   ]
  },
  {
   "cell_type": "code",
   "execution_count": null,
   "metadata": {},
   "outputs": [],
   "source": []
  }
 ],
 "metadata": {
  "kernelspec": {
   "display_name": "Python 3",
   "language": "python",
   "name": "python3"
  },
  "language_info": {
   "codemirror_mode": {
    "name": "ipython",
    "version": 3
   },
   "file_extension": ".py",
   "mimetype": "text/x-python",
   "name": "python",
   "nbconvert_exporter": "python",
   "pygments_lexer": "ipython3",
   "version": "3.8.10"
  }
 },
 "nbformat": 4,
 "nbformat_minor": 2
}
