{
 "cells": [
  {
   "cell_type": "code",
   "execution_count": 1,
   "metadata": {},
   "outputs": [
    {
     "name": "stderr",
     "output_type": "stream",
     "text": [
      "[nltk_data] Downloading package punkt to /home/shubh/nltk_data...\n",
      "[nltk_data]   Package punkt is already up-to-date!\n"
     ]
    },
    {
     "data": {
      "text/plain": [
       "True"
      ]
     },
     "execution_count": 1,
     "metadata": {},
     "output_type": "execute_result"
    }
   ],
   "source": [
    "from thirdai import licensing, neural_db as ndb\n",
    "import nltk\n",
    "nltk.download(\"punkt\")"
   ]
  },
  {
   "cell_type": "code",
   "execution_count": 2,
   "metadata": {},
   "outputs": [],
   "source": [
    "db = ndb.NeuralDB(user_id=\"shubh\", number_experts = 2)"
   ]
  },
  {
   "cell_type": "code",
   "execution_count": 3,
   "metadata": {},
   "outputs": [
    {
     "data": {
      "text/plain": [
       "<thirdai.neural_db.mixture.MachMixture at 0x7fdb90317040>"
      ]
     },
     "execution_count": 3,
     "metadata": {},
     "output_type": "execute_result"
    }
   ],
   "source": [
    "db._savable_state.model"
   ]
  },
  {
   "cell_type": "code",
   "execution_count": 4,
   "metadata": {},
   "outputs": [],
   "source": [
    "insertable_docs = []\n",
    "csv_files = ['/home/shubh/Universe/C00-Last Question.pdf']\n",
    "\n",
    "for file in csv_files:\n",
    "    csv_doc = ndb.PDF(\n",
    "        path=file)\n",
    "    #\n",
    "    insertable_docs.append(csv_doc)"
   ]
  },
  {
   "cell_type": "code",
   "execution_count": 5,
   "metadata": {},
   "outputs": [
    {
     "data": {
      "text/plain": [
       "<thirdai.neural_db.documents.PDF at 0x7fdb902d0160>"
      ]
     },
     "execution_count": 5,
     "metadata": {},
     "output_type": "execute_result"
    }
   ],
   "source": [
    "insertable_docs[0]"
   ]
  },
  {
   "cell_type": "code",
   "execution_count": 6,
   "metadata": {},
   "outputs": [],
   "source": [
    "source_ids = db.insert(insertable_docs, train=False)"
   ]
  },
  {
   "cell_type": "code",
   "execution_count": 7,
   "metadata": {},
   "outputs": [],
   "source": [
    "search_results = db.search(\n",
    "    query=\"size of galactic ac\",\n",
    "    top_k=5,\n",
    "    on_error=lambda error_msg: print(f\"Error! {error_msg}\")\n",
    ")"
   ]
  },
  {
   "cell_type": "code",
   "execution_count": 8,
   "metadata": {},
   "outputs": [
    {
     "name": "stdout",
     "output_type": "stream",
     "text": [
      "84\n",
      "0.5047296541077749\n",
      "The stars and Galaxies died and snuffed out and space grew black after ten trillion years of running down. One by one Man fused with AC each physical body losing its mental identity in a manner that was somehow not a loss but a gain. Man's last mind paused before fusion looking over a space that included nothing but the dregs of one last dark star and nothing besides but incredibly thin matter agitated randomly by the tag ends of heat wearing out asymptotically to the absolute zero.\n",
      "/home/shubh/Universe/C00-Last Question.pdf\n",
      "44\n",
      "0.5042063934462411\n",
      "Both seemed in their early twenties both were tall and perfectly formed. \"Still \" said VJ-23X \"I hesitate to submit a pessimistic report to the Galactic Council.\" \"I wouldn't consider any other kind of report. Stir them up a bit.\n",
      "/home/shubh/Universe/C00-Last Question.pdf\n"
     ]
    }
   ],
   "source": [
    "for res in search_results[:2]:\n",
    "    print(res.id)\n",
    "    print(res.score)\n",
    "    print(res.text)\n",
    "    print(res.source)"
   ]
  },
  {
   "cell_type": "code",
   "execution_count": 9,
   "metadata": {},
   "outputs": [
    {
     "data": {
      "text/plain": [
       "{2: [0],\n",
       " 13: [0],\n",
       " 53: [0],\n",
       " 41: [0],\n",
       " 66: [0],\n",
       " 30: [0],\n",
       " 45: [0],\n",
       " 43: [0],\n",
       " 78: [0],\n",
       " 89: [0],\n",
       " 7: [0],\n",
       " 26: [0],\n",
       " 33: [0],\n",
       " 63: [0],\n",
       " 8: [0],\n",
       " 16: [0],\n",
       " 24: [0],\n",
       " 56: [0],\n",
       " 77: [0],\n",
       " 42: [0],\n",
       " 22: [0],\n",
       " 6: [0],\n",
       " 61: [0],\n",
       " 48: [0],\n",
       " 80: [0],\n",
       " 54: [0],\n",
       " 73: [0],\n",
       " 79: [0],\n",
       " 82: [0],\n",
       " 3: [0],\n",
       " 62: [0],\n",
       " 75: [0],\n",
       " 27: [0],\n",
       " 18: [0],\n",
       " 50: [0],\n",
       " 51: [0],\n",
       " 74: [0],\n",
       " 59: [0],\n",
       " 55: [0],\n",
       " 4: [0],\n",
       " 15: [0],\n",
       " 17: [0],\n",
       " 40: [0],\n",
       " 38: [0],\n",
       " 5: [0],\n",
       " 81: [1],\n",
       " 68: [1],\n",
       " 0: [1],\n",
       " 34: [1],\n",
       " 28: [1],\n",
       " 11: [1],\n",
       " 35: [1],\n",
       " 23: [1],\n",
       " 52: [1],\n",
       " 10: [1],\n",
       " 31: [1],\n",
       " 60: [1],\n",
       " 57: [1],\n",
       " 71: [1],\n",
       " 1: [1],\n",
       " 32: [1],\n",
       " 76: [1],\n",
       " 14: [1],\n",
       " 85: [1],\n",
       " 19: [1],\n",
       " 29: [1],\n",
       " 49: [1],\n",
       " 87: [1],\n",
       " 88: [1],\n",
       " 69: [1],\n",
       " 20: [1],\n",
       " 84: [1],\n",
       " 72: [1],\n",
       " 25: [1],\n",
       " 37: [1],\n",
       " 46: [1],\n",
       " 39: [1],\n",
       " 65: [1],\n",
       " 58: [1],\n",
       " 12: [1],\n",
       " 70: [1],\n",
       " 36: [1],\n",
       " 21: [1],\n",
       " 83: [1],\n",
       " 9: [1],\n",
       " 86: [1],\n",
       " 67: [1],\n",
       " 64: [1],\n",
       " 47: [1],\n",
       " 44: [1]}"
      ]
     },
     "execution_count": 9,
     "metadata": {},
     "output_type": "execute_result"
    }
   ],
   "source": [
    "model = db._savable_state.model\n",
    "model.label_index"
   ]
  },
  {
   "cell_type": "code",
   "execution_count": 10,
   "metadata": {},
   "outputs": [
    {
     "ename": "TypeError",
     "evalue": "associate() got an unexpected keyword argument 'source_target_samples'",
     "output_type": "error",
     "traceback": [
      "\u001b[0;31m---------------------------------------------------------------------------\u001b[0m",
      "\u001b[0;31mTypeError\u001b[0m                                 Traceback (most recent call last)",
      "\u001b[1;32m/home/shubh/Universe/delete.ipynb Cell 10\u001b[0m line \u001b[0;36m1\n\u001b[0;32m----> <a href='vscode-notebook-cell://ssh-remote%2Bshubh-1/home/shubh/Universe/delete.ipynb#X12sdnNjb2RlLXJlbW90ZQ%3D%3D?line=0'>1</a>\u001b[0m db\u001b[39m.\u001b[39;49massociate(\n\u001b[1;32m      <a href='vscode-notebook-cell://ssh-remote%2Bshubh-1/home/shubh/Universe/delete.ipynb#X12sdnNjb2RlLXJlbW90ZQ%3D%3D?line=1'>2</a>\u001b[0m     source \u001b[39m=\u001b[39;49m \u001b[39m\"\u001b[39;49m\u001b[39mabcd\u001b[39;49m\u001b[39m\"\u001b[39;49m,\n\u001b[1;32m      <a href='vscode-notebook-cell://ssh-remote%2Bshubh-1/home/shubh/Universe/delete.ipynb#X12sdnNjb2RlLXJlbW90ZQ%3D%3D?line=2'>3</a>\u001b[0m     target \u001b[39m=\u001b[39;49m \u001b[39m\"\u001b[39;49m\u001b[39mdcba\u001b[39;49m\u001b[39m\"\u001b[39;49m\n\u001b[1;32m      <a href='vscode-notebook-cell://ssh-remote%2Bshubh-1/home/shubh/Universe/delete.ipynb#X12sdnNjb2RlLXJlbW90ZQ%3D%3D?line=3'>4</a>\u001b[0m )\n",
      "File \u001b[0;32m~/.local/lib/python3.8/site-packages/thirdai/neural_db/neural_db.py:640\u001b[0m, in \u001b[0;36mNeuralDB.associate\u001b[0;34m(self, source, target, strength)\u001b[0m\n\u001b[1;32m    638\u001b[0m \u001b[39mdef\u001b[39;00m \u001b[39massociate\u001b[39m(\u001b[39mself\u001b[39m, source: \u001b[39mstr\u001b[39m, target: \u001b[39mstr\u001b[39m, strength: Strength \u001b[39m=\u001b[39m Strength\u001b[39m.\u001b[39mStrong):\n\u001b[1;32m    639\u001b[0m     top_k \u001b[39m=\u001b[39m \u001b[39mself\u001b[39m\u001b[39m.\u001b[39m_get_associate_top_k(strength)\n\u001b[0;32m--> 640\u001b[0m     teachers\u001b[39m.\u001b[39;49massociate(\n\u001b[1;32m    641\u001b[0m         model\u001b[39m=\u001b[39;49m\u001b[39mself\u001b[39;49m\u001b[39m.\u001b[39;49m_savable_state\u001b[39m.\u001b[39;49mmodel,\n\u001b[1;32m    642\u001b[0m         logger\u001b[39m=\u001b[39;49m\u001b[39mself\u001b[39;49m\u001b[39m.\u001b[39;49m_savable_state\u001b[39m.\u001b[39;49mlogger,\n\u001b[1;32m    643\u001b[0m         user_id\u001b[39m=\u001b[39;49m\u001b[39mself\u001b[39;49m\u001b[39m.\u001b[39;49m_user_id,\n\u001b[1;32m    644\u001b[0m         text_pairs\u001b[39m=\u001b[39;49m[(source, target)],\n\u001b[1;32m    645\u001b[0m         top_k\u001b[39m=\u001b[39;49mtop_k,\n\u001b[1;32m    646\u001b[0m     )\n",
      "File \u001b[0;32m~/.local/lib/python3.8/site-packages/thirdai/neural_db/teachers.py:29\u001b[0m, in \u001b[0;36massociate\u001b[0;34m(model, logger, user_id, text_pairs, top_k)\u001b[0m\n\u001b[1;32m     22\u001b[0m \u001b[39mdef\u001b[39;00m \u001b[39massociate\u001b[39m(\n\u001b[1;32m     23\u001b[0m     model: Model,\n\u001b[1;32m     24\u001b[0m     logger: Logger,\n\u001b[0;32m   (...)\u001b[0m\n\u001b[1;32m     27\u001b[0m     top_k: \u001b[39mint\u001b[39m,\n\u001b[1;32m     28\u001b[0m ):\n\u001b[0;32m---> 29\u001b[0m     model\u001b[39m.\u001b[39;49massociate(text_pairs, top_k)\n\u001b[1;32m     30\u001b[0m     logger\u001b[39m.\u001b[39mlog(\n\u001b[1;32m     31\u001b[0m         session_id\u001b[39m=\u001b[39muser_id,\n\u001b[1;32m     32\u001b[0m         action\u001b[39m=\u001b[39m\u001b[39m\"\u001b[39m\u001b[39massociate\u001b[39m\u001b[39m\"\u001b[39m,\n\u001b[0;32m   (...)\u001b[0m\n\u001b[1;32m     36\u001b[0m         },\n\u001b[1;32m     37\u001b[0m     )\n",
      "File \u001b[0;32m~/.local/lib/python3.8/site-packages/thirdai/neural_db/mixture.py:212\u001b[0m, in \u001b[0;36mMachMixture.associate\u001b[0;34m(self, pairs, n_buckets, n_association_samples, n_balancing_samples, learning_rate, epochs)\u001b[0m\n\u001b[1;32m    202\u001b[0m \u001b[39mdef\u001b[39;00m \u001b[39massociate\u001b[39m(\n\u001b[1;32m    203\u001b[0m     \u001b[39mself\u001b[39m,\n\u001b[1;32m    204\u001b[0m     pairs: List[Tuple[\u001b[39mstr\u001b[39m, \u001b[39mstr\u001b[39m]],\n\u001b[0;32m   (...)\u001b[0m\n\u001b[1;32m    209\u001b[0m     epochs: \u001b[39mint\u001b[39m \u001b[39m=\u001b[39m \u001b[39m3\u001b[39m,\n\u001b[1;32m    210\u001b[0m ):\n\u001b[1;32m    211\u001b[0m     \u001b[39mfor\u001b[39;00m model \u001b[39min\u001b[39;00m \u001b[39mself\u001b[39m\u001b[39m.\u001b[39mmodels:\n\u001b[0;32m--> 212\u001b[0m         model\u001b[39m.\u001b[39;49massociate(\n\u001b[1;32m    213\u001b[0m             source_target_samples\u001b[39m=\u001b[39;49mpairs,\n\u001b[1;32m    214\u001b[0m             n_buckets\u001b[39m=\u001b[39;49mn_buckets,\n\u001b[1;32m    215\u001b[0m             n_association_samples\u001b[39m=\u001b[39;49mn_association_samples,\n\u001b[1;32m    216\u001b[0m             n_balancing_samples\u001b[39m=\u001b[39;49mn_balancing_samples,\n\u001b[1;32m    217\u001b[0m             learning_rate\u001b[39m=\u001b[39;49mlearning_rate,\n\u001b[1;32m    218\u001b[0m             epochs\u001b[39m=\u001b[39;49mepochs,\n\u001b[1;32m    219\u001b[0m         )\n",
      "\u001b[0;31mTypeError\u001b[0m: associate() got an unexpected keyword argument 'source_target_samples'"
     ]
    }
   ],
   "source": [
    "db.associate(\n",
    "    source = \"abcd\",\n",
    "    target = \"dcba\"\n",
    ")"
   ]
  },
  {
   "cell_type": "code",
   "execution_count": 11,
   "metadata": {},
   "outputs": [
    {
     "ename": "RuntimeError",
     "evalue": "Cannot call associate before training, coldstarting, or introducing documents.",
     "output_type": "error",
     "traceback": [
      "\u001b[0;31m---------------------------------------------------------------------------\u001b[0m",
      "\u001b[0;31mRuntimeError\u001b[0m                              Traceback (most recent call last)",
      "\u001b[1;32m/home/shubh/Universe/delete.ipynb Cell 11\u001b[0m line \u001b[0;36m1\n\u001b[0;32m----> <a href='vscode-notebook-cell://ssh-remote%2Bshubh-1/home/shubh/Universe/delete.ipynb#X24sdnNjb2RlLXJlbW90ZQ%3D%3D?line=0'>1</a>\u001b[0m db\u001b[39m.\u001b[39;49mtext_to_result(\n\u001b[1;32m      <a href='vscode-notebook-cell://ssh-remote%2Bshubh-1/home/shubh/Universe/delete.ipynb#X24sdnNjb2RlLXJlbW90ZQ%3D%3D?line=1'>2</a>\u001b[0m     text \u001b[39m=\u001b[39;49m \u001b[39m\"\u001b[39;49m\u001b[39mgalactic ac\u001b[39;49m\u001b[39m\"\u001b[39;49m,\n\u001b[1;32m      <a href='vscode-notebook-cell://ssh-remote%2Bshubh-1/home/shubh/Universe/delete.ipynb#X24sdnNjb2RlLXJlbW90ZQ%3D%3D?line=2'>3</a>\u001b[0m     result_id\u001b[39m=\u001b[39;49m\u001b[39m53\u001b[39;49m\n\u001b[1;32m      <a href='vscode-notebook-cell://ssh-remote%2Bshubh-1/home/shubh/Universe/delete.ipynb#X24sdnNjb2RlLXJlbW90ZQ%3D%3D?line=3'>4</a>\u001b[0m )\n",
      "File \u001b[0;32m~/.local/lib/python3.8/site-packages/thirdai/neural_db/neural_db.py:608\u001b[0m, in \u001b[0;36mNeuralDB.text_to_result\u001b[0;34m(self, text, result_id)\u001b[0m\n\u001b[1;32m    604\u001b[0m \u001b[39mdef\u001b[39;00m \u001b[39mtext_to_result\u001b[39m(\u001b[39mself\u001b[39m, text: \u001b[39mstr\u001b[39m, result_id: \u001b[39mint\u001b[39m) \u001b[39m-\u001b[39m\u001b[39m>\u001b[39m \u001b[39mNone\u001b[39;00m:\n\u001b[1;32m    605\u001b[0m \u001b[39m    \u001b[39m\u001b[39m\"\"\"Trains NeuralDB to map the given text to the given entity ID.\u001b[39;00m\n\u001b[1;32m    606\u001b[0m \u001b[39m    Also known as \"upvoting\".\u001b[39;00m\n\u001b[1;32m    607\u001b[0m \u001b[39m    \"\"\"\u001b[39;00m\n\u001b[0;32m--> 608\u001b[0m     teachers\u001b[39m.\u001b[39;49mupvote(\n\u001b[1;32m    609\u001b[0m         model\u001b[39m=\u001b[39;49m\u001b[39mself\u001b[39;49m\u001b[39m.\u001b[39;49m_savable_state\u001b[39m.\u001b[39;49mmodel,\n\u001b[1;32m    610\u001b[0m         logger\u001b[39m=\u001b[39;49m\u001b[39mself\u001b[39;49m\u001b[39m.\u001b[39;49m_savable_state\u001b[39m.\u001b[39;49mlogger,\n\u001b[1;32m    611\u001b[0m         user_id\u001b[39m=\u001b[39;49m\u001b[39mself\u001b[39;49m\u001b[39m.\u001b[39;49m_user_id,\n\u001b[1;32m    612\u001b[0m         query_id_para\u001b[39m=\u001b[39;49m[\n\u001b[1;32m    613\u001b[0m             (text, upvote_id, \u001b[39mself\u001b[39;49m\u001b[39m.\u001b[39;49m_get_text(result_id))\n\u001b[1;32m    614\u001b[0m             \u001b[39mfor\u001b[39;49;00m upvote_id \u001b[39min\u001b[39;49;00m \u001b[39mself\u001b[39;49m\u001b[39m.\u001b[39;49m_savable_state\u001b[39m.\u001b[39;49mdocuments\u001b[39m.\u001b[39;49mreference(\n\u001b[1;32m    615\u001b[0m                 result_id\n\u001b[1;32m    616\u001b[0m             )\u001b[39m.\u001b[39;49mupvote_ids\n\u001b[1;32m    617\u001b[0m         ],\n\u001b[1;32m    618\u001b[0m     )\n",
      "File \u001b[0;32m~/.local/lib/python3.8/site-packages/thirdai/neural_db/teachers.py:46\u001b[0m, in \u001b[0;36mupvote\u001b[0;34m(model, logger, user_id, query_id_para)\u001b[0m\n\u001b[1;32m     40\u001b[0m \u001b[39mdef\u001b[39;00m \u001b[39mupvote\u001b[39m(\n\u001b[1;32m     41\u001b[0m     model: Model,\n\u001b[1;32m     42\u001b[0m     logger: Logger,\n\u001b[1;32m     43\u001b[0m     user_id: \u001b[39mstr\u001b[39m,\n\u001b[1;32m     44\u001b[0m     query_id_para: List[Tuple[\u001b[39mstr\u001b[39m, \u001b[39mint\u001b[39m, \u001b[39mstr\u001b[39m]],\n\u001b[1;32m     45\u001b[0m ):\n\u001b[0;32m---> 46\u001b[0m     model\u001b[39m.\u001b[39;49mupvote([(query, _id) \u001b[39mfor\u001b[39;49;00m query, _id, para \u001b[39min\u001b[39;49;00m query_id_para])\n\u001b[1;32m     47\u001b[0m     logger\u001b[39m.\u001b[39mlog(\n\u001b[1;32m     48\u001b[0m         session_id\u001b[39m=\u001b[39muser_id,\n\u001b[1;32m     49\u001b[0m         action\u001b[39m=\u001b[39m\u001b[39m\"\u001b[39m\u001b[39mupvote\u001b[39m\u001b[39m\"\u001b[39m,\n\u001b[1;32m     50\u001b[0m         args\u001b[39m=\u001b[39m{\u001b[39m\"\u001b[39m\u001b[39mquery_id_para\u001b[39m\u001b[39m\"\u001b[39m: query_id_para},\n\u001b[1;32m     51\u001b[0m     )\n",
      "File \u001b[0;32m~/.local/lib/python3.8/site-packages/thirdai/neural_db/mixture.py:244\u001b[0m, in \u001b[0;36mMachMixture.upvote\u001b[0;34m(self, pairs, n_upvote_samples, n_balancing_samples, learning_rate, epochs)\u001b[0m\n\u001b[1;32m    241\u001b[0m sharded_pairs \u001b[39m=\u001b[39m \u001b[39mself\u001b[39m\u001b[39m.\u001b[39m_shard_upvote_pairs(pairs)\n\u001b[1;32m    243\u001b[0m \u001b[39mfor\u001b[39;00m model, shard \u001b[39min\u001b[39;00m \u001b[39mzip\u001b[39m(\u001b[39mself\u001b[39m\u001b[39m.\u001b[39mmodels, sharded_pairs):\n\u001b[0;32m--> 244\u001b[0m     model\u001b[39m.\u001b[39;49mupvote(\n\u001b[1;32m    245\u001b[0m         pairs\u001b[39m=\u001b[39;49mshard,\n\u001b[1;32m    246\u001b[0m         n_upvote_samples\u001b[39m=\u001b[39;49mn_upvote_samples,\n\u001b[1;32m    247\u001b[0m         n_balancing_samples\u001b[39m=\u001b[39;49mn_balancing_samples,\n\u001b[1;32m    248\u001b[0m         learning_rate\u001b[39m=\u001b[39;49mlearning_rate,\n\u001b[1;32m    249\u001b[0m         epochs\u001b[39m=\u001b[39;49mepochs,\n\u001b[1;32m    250\u001b[0m     )\n",
      "File \u001b[0;32m~/.local/lib/python3.8/site-packages/thirdai/neural_db/models.py:509\u001b[0m, in \u001b[0;36mMach.upvote\u001b[0;34m(self, pairs, n_upvote_samples, n_balancing_samples, learning_rate, epochs)\u001b[0m\n\u001b[1;32m    497\u001b[0m \u001b[39mdef\u001b[39;00m \u001b[39mupvote\u001b[39m(\n\u001b[1;32m    498\u001b[0m     \u001b[39mself\u001b[39m,\n\u001b[1;32m    499\u001b[0m     pairs: List[Tuple[\u001b[39mstr\u001b[39m, \u001b[39mint\u001b[39m]],\n\u001b[0;32m   (...)\u001b[0m\n\u001b[1;32m    503\u001b[0m     epochs: \u001b[39mint\u001b[39m \u001b[39m=\u001b[39m \u001b[39m3\u001b[39m,\n\u001b[1;32m    504\u001b[0m ):\n\u001b[1;32m    505\u001b[0m     samples \u001b[39m=\u001b[39m [\n\u001b[1;32m    506\u001b[0m         ({\u001b[39mself\u001b[39m\u001b[39m.\u001b[39mget_query_col(): clean_text(text)}, label) \u001b[39mfor\u001b[39;00m text, label \u001b[39min\u001b[39;00m pairs\n\u001b[1;32m    507\u001b[0m     ]\n\u001b[0;32m--> 509\u001b[0m     \u001b[39mself\u001b[39;49m\u001b[39m.\u001b[39;49mmodel\u001b[39m.\u001b[39;49mupvote(\n\u001b[1;32m    510\u001b[0m         source_target_samples\u001b[39m=\u001b[39;49msamples,\n\u001b[1;32m    511\u001b[0m         n_upvote_samples\u001b[39m=\u001b[39;49mn_upvote_samples,\n\u001b[1;32m    512\u001b[0m         n_balancing_samples\u001b[39m=\u001b[39;49mn_balancing_samples,\n\u001b[1;32m    513\u001b[0m         learning_rate\u001b[39m=\u001b[39;49mlearning_rate,\n\u001b[1;32m    514\u001b[0m         epochs\u001b[39m=\u001b[39;49mepochs,\n\u001b[1;32m    515\u001b[0m     )\n",
      "\u001b[0;31mRuntimeError\u001b[0m: Cannot call associate before training, coldstarting, or introducing documents."
     ]
    }
   ],
   "source": [
    "db.text_to_result(\n",
    "    text = \"galactic ac\",\n",
    "    result_id=53\n",
    ")"
   ]
  },
  {
   "cell_type": "code",
   "execution_count": 12,
   "metadata": {},
   "outputs": [
    {
     "data": {
      "text/plain": [
       "'savedmodel.ndb'"
      ]
     },
     "execution_count": 12,
     "metadata": {},
     "output_type": "execute_result"
    }
   ],
   "source": [
    "db.save(\"savedmodel.ndb\")"
   ]
  },
  {
   "cell_type": "code",
   "execution_count": 13,
   "metadata": {},
   "outputs": [],
   "source": [
    "newdb = ndb.NeuralDB.from_checkpoint(\n",
    "    checkpoint_path=\"savedmodel.ndb\",\n",
    "    user_id=\"shubh\"\n",
    ")"
   ]
  },
  {
   "cell_type": "code",
   "execution_count": 14,
   "metadata": {},
   "outputs": [],
   "source": [
    "search_results = db.search(\n",
    "    query=\"size of galactic ac\",\n",
    "    top_k=5,\n",
    "    on_error=lambda error_msg: print(f\"Error! {error_msg}\")\n",
    ")"
   ]
  },
  {
   "cell_type": "code",
   "execution_count": 15,
   "metadata": {},
   "outputs": [
    {
     "name": "stdout",
     "output_type": "stream",
     "text": [
      "84\n",
      "0.5047296541077749\n",
      "The stars and Galaxies died and snuffed out and space grew black after ten trillion years of running down. One by one Man fused with AC each physical body losing its mental identity in a manner that was somehow not a loss but a gain. Man's last mind paused before fusion looking over a space that included nothing but the dregs of one last dark star and nothing besides but incredibly thin matter agitated randomly by the tag ends of heat wearing out asymptotically to the absolute zero.\n",
      "/home/shubh/Universe/C00-Last Question.pdf\n",
      "44\n",
      "0.5042063934462411\n",
      "Both seemed in their early twenties both were tall and perfectly formed. \"Still \" said VJ-23X \"I hesitate to submit a pessimistic report to the Galactic Council.\" \"I wouldn't consider any other kind of report. Stir them up a bit.\n",
      "/home/shubh/Universe/C00-Last Question.pdf\n"
     ]
    }
   ],
   "source": [
    "for res in search_results[:2]:\n",
    "    print(res.id)\n",
    "    print(res.score)\n",
    "    print(res.text)\n",
    "    print(res.source)"
   ]
  },
  {
   "cell_type": "code",
   "execution_count": null,
   "metadata": {},
   "outputs": [],
   "source": []
  }
 ],
 "metadata": {
  "kernelspec": {
   "display_name": "Python 3",
   "language": "python",
   "name": "python3"
  },
  "language_info": {
   "codemirror_mode": {
    "name": "ipython",
    "version": 3
   },
   "file_extension": ".py",
   "mimetype": "text/x-python",
   "name": "python",
   "nbconvert_exporter": "python",
   "pygments_lexer": "ipython3",
   "version": "3.8.10"
  }
 },
 "nbformat": 4,
 "nbformat_minor": 2
}
