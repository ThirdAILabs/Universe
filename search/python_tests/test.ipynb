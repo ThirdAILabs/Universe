{
 "cells": [
  {
   "cell_type": "code",
   "execution_count": 1,
   "metadata": {},
   "outputs": [
    {
     "name": "stdout",
     "output_type": "stream",
     "text": [
      "====== Building Fully Connected Network ======\n",
      "FullyConnected: dim=10000, sparsity=0.01, act_func=ReLU, sampling: {hashes_per_table=5, num_tables=328, range_pow=15, reservoir_size=4}\n",
      "FullyConnected: dim=1000, sparsity=0.025, act_func=Softmax, sampling: {hashes_per_table=4, num_tables=102, range_pow=12, reservoir_size=4}\n",
      "Initialized Network in 0 seconds\n",
      "==============================\n",
      "====== Building Fully Connected Network ======\n",
      "FullyConnected: dim=10000, sparsity=0.01, act_func=ReLU, sampling: {hashes_per_table=5, num_tables=328, range_pow=15, reservoir_size=4}\n",
      "FullyConnected: dim=1000, sparsity=0.025, act_func=Softmax, sampling: {hashes_per_table=4, num_tables=102, range_pow=12, reservoir_size=4}\n",
      "Initialized Network in 0 seconds\n",
      "==============================\n",
      "Warning: labels array has dtype=int64 but uint32 was expected. This will result in a copy of the array in order to ensure type safety. Try specifying the dtype of the array or use .astype(...).\n",
      "\n",
      "Epoch 1:\n",
      "[==================================================] 100%\n",
      "Processed 145 training batches in 15 seconds\n",
      "Warning: labels array has dtype=int64 but uint32 was expected. This will result in a copy of the array in order to ensure type safety. Try specifying the dtype of the array or use .astype(...).\n",
      "[==================================================] 100%\n",
      "Processed 145 test batches in 5974 milliseconds\n",
      "Accuracy: 0.00568478 (1682/295878)\n",
      "Min group size 114, max group size 298, std group size 12.044547147983605\n",
      "\n",
      "Epoch 2:\n",
      "[==================================================] 100%\n",
      "Processed 145 training batches in 22 seconds\n",
      "[==================================================] 100%\n",
      "Processed 145 test batches in 6149 milliseconds\n",
      "Accuracy: 0.473367 (140059/295878)\n",
      "Min group size 197, max group size 297, std group size 3.1939185963327246\n",
      "\n",
      "Epoch 3:\n",
      "[==================================================] 100%\n",
      "Processed 145 training batches in 22 seconds\n",
      "[==================================================] 100%\n",
      "Processed 145 test batches in 5733 milliseconds\n",
      "Accuracy: 0.512424 (151615/295878)\n",
      "Min group size 294, max group size 297, std group size 0.48899488749883674\n",
      "[==================================================] 99%\n",
      "Processed 578 test batches in 22695 milliseconds\n",
      "Min group size 424, max group size 1700, std group size 189.45470119265977\n",
      "Min group size 424, max group size 1700, std group size 189.45470119265977\n",
      "Warning: labels array has dtype=int64 but uint32 was expected. This will result in a copy of the array in order to ensure type safety. Try specifying the dtype of the array or use .astype(...).\n",
      "\n",
      "Epoch 1:\n",
      "[==================================================] 100%\n",
      "Processed 145 training batches in 15 seconds\n",
      "Warning: labels array has dtype=int64 but uint32 was expected. This will result in a copy of the array in order to ensure type safety. Try specifying the dtype of the array or use .astype(...).\n",
      "[==================================================] 100%\n",
      "Processed 145 test batches in 5733 milliseconds\n",
      "Accuracy: 0.00544819 (1612/295878)\n",
      "Min group size 197, max group size 298, std group size 6.542256185751213\n",
      "\n",
      "Epoch 2:\n",
      "[==================================================] 100%\n",
      "Processed 145 training batches in 22 seconds\n",
      "[==================================================] 100%\n",
      "Processed 145 test batches in 6633 milliseconds\n",
      "Accuracy: 0.541595 (160246/295878)\n",
      "Min group size 293, max group size 297, std group size 0.5011147573161262\n",
      "\n",
      "Epoch 3:\n",
      "[==================================================] 100%\n",
      "Processed 145 training batches in 22 seconds\n",
      "[==================================================] 100%\n",
      "Processed 145 test batches in 6305 milliseconds\n",
      "Accuracy: 0.582355 (172306/295878)\n",
      "Min group size 294, max group size 297, std group size 0.5090343799784058\n",
      "[==================================================] 99%\n",
      "Processed 578 test batches in 24661 milliseconds\n",
      "Min group size 613, max group size 1798, std group size 212.86406884206644\n",
      "Min group size 613, max group size 1798, std group size 212.86406884206644\n"
     ]
    }
   ],
   "source": [
    "import numpy as np\n",
    "from thirdai.search import BoltSearch\n",
    "\n",
    "\n",
    "glove_data = np.load(\"glove_data.npy\")\n",
    "glove_queries = np.load(\"glove_queries.npy\")\n",
    "glove_neighbors = np.load(\"glove_neighbors.npy\")\n",
    "\n",
    "# Get 70% accuracy with num_groups_to_consider=5, basically groups all exactly the same size\n",
    "# num_groups_to_consider=3 sucks, and kinda so does 4. 6 gives good groups, but not as high accuracy.\n",
    "search_index = BoltSearch(\n",
    "    estimated_dataset_size=10**6,\n",
    "    num_classifiers=2,\n",
    "    input_dim=100,\n",
    "    num_groups_to_consider=5,\n",
    ")\n",
    "search_index.index(glove_data, num_epochs=3, fraction_to_use_for_training=0.25)"
   ]
  },
  {
   "cell_type": "code",
   "execution_count": 4,
   "metadata": {},
   "outputs": [
    {
     "name": "stdout",
     "output_type": "stream",
     "text": [
      "[==================================================] 100%\n",
      "Processed 1 test batches in 27 milliseconds\n",
      "[==================================================] 100%\n",
      "Processed 1 test batches in 1 milliseconds\n"
     ]
    },
    {
     "name": "stderr",
     "output_type": "stream",
     "text": [
      "100%|██████████| 1/1 [00:00<00:00, 24.34it/s]"
     ]
    },
    {
     "name": "stdout",
     "output_type": "stream",
     "text": [
      "[[2076, 100847, 794943, 77022, 298452, 321918, 455628, 1137003, 1161355, 368222, 643185, 810263, 227580, 927441, 1076767, 805240, 1044193, 193188, 402592, 545368, 686787, 694770, 716417, 777438, 13637, 226427, 231163, 469202, 638113, 661138, 744598, 781153, 925033, 983808, 1139700, 41764, 64528, 286914, 403055, 479913, 702039, 725066, 885668, 948402, 22355, 532843, 643670, 744932, 1083938, 79162, 98430, 129785, 589477, 735129, 818142, 1020809, 382188, 703683, 779925, 897508, 215481, 325852, 578093, 620275, 727184, 859357, 880367, 32105, 37281, 110296, 119070, 654070, 654993, 1024603, 222042, 230711, 252193, 258638, 342775, 513550, 616912, 739355, 764801, 854459, 879740, 927222, 1093453, 1143849, 456625, 540128, 739383, 808808, 924992, 976962, 1142378, 1164525, 1171759, 176973, 281990, 289517]]\n",
      "[[  97478  262700  846101  671078  232287  727732  544474 1133489  723915\n",
      "   660281  566421 1093917  908319  656605   93438  326455  584887 1096614\n",
      "   100206  547334  674655  834699  445577  979282  776528   51821  994865\n",
      "   186281  533888  331310 1037752  193057  859959  368655  690267   82685\n",
      "   484525 1168162 1069248 1126839  256447  451625  914908  873104  956338\n",
      "   678395  939324  748511  207076  751282  817757  402216  932395  290452\n",
      "   265744  696453   82910  436049  712479  494528  989330  655775  995275\n",
      "   647843  375237  242797 1116578  793170  325682  265226  888453  599119\n",
      "   631740  212807 1142011  530481  656064  944910  459704  490937  239304\n",
      "   264602  495380  843410  724903  876802  636623  172030  162588  761652\n",
      "    74880  418892  687317 1008844 1011545  983601  340497  598329  944409\n",
      "   725625]]\n"
     ]
    },
    {
     "name": "stderr",
     "output_type": "stream",
     "text": [
      "\n"
     ]
    }
   ],
   "source": [
    "print(search_index.query(glove_queries[:1], top_k=100))\n",
    "print(glove_neighbors[:1])"
   ]
  },
  {
   "cell_type": "code",
   "execution_count": 2,
   "metadata": {},
   "outputs": [
    {
     "name": "stderr",
     "output_type": "stream",
     "text": [
      "100%|██████████| 5/5 [00:00<00:00, 77.61it/s]"
     ]
    },
    {
     "name": "stdout",
     "output_type": "stream",
     "text": [
      "[220407, 699360, 626819, 3, 4]\n"
     ]
    },
    {
     "name": "stderr",
     "output_type": "stream",
     "text": [
      "\n"
     ]
    }
   ],
   "source": [
    "print([s[0] for s in search_index.query(glove_data[:5], top_k=100)])"
   ]
  },
  {
   "cell_type": "code",
   "execution_count": null,
   "metadata": {},
   "outputs": [],
   "source": []
  }
 ],
 "metadata": {
  "interpreter": {
   "hash": "b0fa6594d8f4cbf19f97940f81e996739fb7646882a419484c72d19e05852a7e"
  },
  "kernelspec": {
   "display_name": "Python 3.9.12 64-bit",
   "language": "python",
   "name": "python3"
  },
  "language_info": {
   "codemirror_mode": {
    "name": "ipython",
    "version": 3
   },
   "file_extension": ".py",
   "mimetype": "text/x-python",
   "name": "python",
   "nbconvert_exporter": "python",
   "pygments_lexer": "ipython3",
   "version": "3.9.12"
  },
  "orig_nbformat": 4
 },
 "nbformat": 4,
 "nbformat_minor": 2
}
